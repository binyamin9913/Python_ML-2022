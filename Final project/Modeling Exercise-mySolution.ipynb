{
 "cells": [
  {
   "cell_type": "markdown",
   "id": "05bb7c4c-452a-408f-ac26-b184f1e10862",
   "metadata": {},
   "source": [
    "# Modeling exercise"
   ]
  },
  {
   "cell_type": "markdown",
   "id": "38dbae80-7f28-4596-945e-a0784e384e4c",
   "metadata": {},
   "source": [
    "## General Instructions"
   ]
  },
  {
   "cell_type": "markdown",
   "id": "a5650156-42a5-4fb7-b74a-dec08bafd6c1",
   "metadata": {},
   "source": [
    "* Submission date: 25.4.2022\n",
    "* Submission Method: Link to your solution notebook in [this sheet](https://docs.google.com/spreadsheets/d/1fTmjiVxzw_rM1hdh16enwUTtxzlHSJIiw41dJS2LKp0/edit?usp=sharing)."
   ]
  },
  {
   "cell_type": "code",
   "execution_count": 1,
   "id": "e6850603-524a-4afc-a7a1-cba3eeeea1ec",
   "metadata": {},
   "outputs": [],
   "source": [
    "%load_ext autoreload\n",
    "%autoreload 2"
   ]
  },
  {
   "cell_type": "code",
   "execution_count": 2,
   "id": "5e136158-e12c-4d15-9c47-3cd726054a71",
   "metadata": {},
   "outputs": [],
   "source": [
    "import sys; sys.path.append('../Modles and Modeling/src')\n",
    "import numpy as np\n",
    "import plotly_express as px"
   ]
  },
  {
   "cell_type": "code",
   "execution_count": 3,
   "id": "b53824c3-ccb9-4f1b-9420-bb0b57509862",
   "metadata": {},
   "outputs": [],
   "source": [
    "import pandas as pd\n",
    "import ipywidgets as widgets"
   ]
  },
  {
   "cell_type": "code",
   "execution_count": 4,
   "id": "da0716a6-a156-49a2-83d2-24d5ef36af3a",
   "metadata": {},
   "outputs": [],
   "source": [
    "from datasets import make_circles_dataframe, make_moons_dataframe"
   ]
  },
  {
   "cell_type": "markdown",
   "id": "513df470-6d24-4611-9fe8-61c25397763a",
   "metadata": {},
   "source": [
    "## Fitting and Overfiting "
   ]
  },
  {
   "cell_type": "markdown",
   "id": "2d1e502f-4b12-4bf1-a981-7135b36e0830",
   "metadata": {},
   "source": [
    "The goal of the following exercise is to:\n",
    "* Observe overfitting due to insuffient data\n",
    "* Observe Overfitting due to overly complex model\n",
    "* Identify the overfitting point by looking at Train vs Test error dynamic\n",
    "* Observe how noise levels effect the needed data samples and model capacity"
   ]
  },
  {
   "cell_type": "markdown",
   "id": "c80b1cdc-fcfb-4ac7-841c-a5a534d569cd",
   "metadata": {},
   "source": [
    "To do so, you'll code an experiment in the first part, and analyze the experiment result in the second part."
   ]
  },
  {
   "cell_type": "markdown",
   "id": "95f343cc-0b25-4302-ab24-fc290c07b6ee",
   "metadata": {},
   "source": [
    "### Building an experiment"
   ]
  },
  {
   "cell_type": "markdown",
   "id": "0e2a17e0-fb6f-479c-98bb-e5a6fc81e1ad",
   "metadata": {},
   "source": [
    "Code:\n",
    "\n",
    "1. Create data of size N with noise level of magnitude NL from datasets DS_NAME. \n",
    "1. Split it to training and validation data (no need for test set), use 80%-20%. \n",
    "1. Use Logistic regression and Choose one complex model of your choice: [KNN](https://scikit-learn.org/stable/modules/generated/sklearn.neighbors.KNeighborsClassifier.html), [SVM with RBF kernel](https://scikit-learn.org/stable/modules/svm.html) with different `gamma` values or [Random forest classifier](https://scikit-learn.org/stable/modules/generated/sklearn.ensemble.RandomForestClassifier.html) with differnt number of `min_samples_split`. \n",
    "1. Train on the train set for different hyper parameter values. compute:\n",
    "   1. Classification accuracy on the training set (TRE)\n",
    "   1. Classification accuracy on the validation set (TESTE)\n",
    "   1. The difference beteen the two above (E_DIFF)\n",
    "1. Save DS_NAME, N, NL, CLF_NAME, K, TRE, TESTE, E_DIFF and the regularization/hyper param (K, gamma or min_samples_split and regularization value for the linear regression classifier)\n",
    "\n",
    "Repeat for:\n",
    "* DS_NAME in Moons, Circles\n",
    "* N (number of samples) in [5, 10, 50, 100, 1000, 10000]\n",
    "* NL (noise level) in [0, 0.1, 0.2, 0.3, 0.4, 0.5]\n",
    "* For the complex model: 10 Values of hyper parameter of the complex model you've chosen.\n",
    "* For the linear model: 5 values of ridge (l2) regularization - [0.001, 0.01, 0.1, 1, 10, 100, 1000]"
   ]
  },
  {
   "cell_type": "markdown",
   "id": "ed7e0146-9c7a-4cf1-a83e-da9a11bcc796",
   "metadata": {},
   "source": [
    "### Analysing the expermient results"
   ]
  },
  {
   "cell_type": "markdown",
   "id": "0f39e9c4-0332-4564-a674-52b99332ecfd",
   "metadata": {},
   "source": [
    "1. For SVM only, For dataset of size 10k and for each dataset, What are the best model params? How stable is it? \n",
    "1. For SVM only, For dataset of size 10k and for each dataset, What is the most stable model and model params? How good is it in comparison to other models? Explain using bias and variance terminoligy.\n",
    "1. Does regularization help for linear models? consider different datasets sizes. \n",
    "1. For a given noise level of your chioce, How does the train, test and difference error changes with increasing data sizes? (answer for svm and LR seperatly)\n",
    "1. For a given noise level of your chioce, How does the train, test and difference error changes with increasing model complexity? (answer for svm and LR seperatly)\n",
    "1. Are the noise level effect the number of datapoints needed to reach optimal test results? "
   ]
  },
  {
   "cell_type": "markdown",
   "id": "237fa350-4106-419c-9020-51986a0a716d",
   "metadata": {},
   "source": [
    "Bonus:\n",
    "\n",
    "* For SVM: Select one dataset and with 0.2 noise level. Identify the optimal model params, and visualize the decision boundry learned. \n",
    "  * Hint: Use a grid. See classification models notebook "
   ]
  },
  {
   "cell_type": "markdown",
   "id": "e8bf7262-12b1-4417-acd2-eb8365b04b11",
   "metadata": {},
   "source": [
    "## Tips and Hints"
   ]
  },
  {
   "cell_type": "markdown",
   "id": "aca4522e-a8e9-4476-90ac-d1a2679085f4",
   "metadata": {},
   "source": [
    "For buliding the experiment:\n",
    "\n",
    "* Start with one dataframe holding all the data for both datastes with different noise level. Use the `make_<dataset_name>_dataframe()` functions below, and add two columns, dataset_name and noise_level, before appending the new dataset to the rest of the datasets. Use `df = pd.DataFrame()` to start with an empty dataframe and using a loop, add data to it using `df = df.append(<the needed df here>)`. Verify that you have 10k samples for each dataset type and noise level by a proper `.value_counts()`. You can modify the \n",
    "* When you'll need an N samples data with a specific noise level, use `query()` and `head(n)` to get the needed dataset. \n",
    "* Use sklearn `train_test_split()` method to split the data with `test_size` and `random_state` parameters set correctly to ensure you are always splitting the data the same why for a given fold `k`. Read [the docs](https://scikit-learn.org/stable/modules/generated/sklearn.model_selection.train_test_split.html) if needed. \n",
    "* You can also not create your own data splitter, and instead use `model_selection.cross_validate()` from sklearn. You'll need to ask for the train erros as well as the test errors, see [here](https://scikit-learn.org/stable/modules/generated/sklearn.model_selection.cross_validate.html).\n",
    "* Use prints in proper location to ensure the progress of the experiment. "
   ]
  },
  {
   "cell_type": "markdown",
   "id": "b4f130c6-62ba-4490-983d-1d63470dc615",
   "metadata": {},
   "source": [
    "**If you get stuck, and need refernce, scroll to the end of the notebook to see more hints!**"
   ]
  },
  {
   "cell_type": "markdown",
   "id": "ad8ffe8f-8c0b-4dc3-9cc2-9c3dc02852d7",
   "metadata": {},
   "source": [
    "## Moons dataset"
   ]
  },
  {
   "cell_type": "code",
   "execution_count": 5,
   "id": "7a6b4c61-454e-4887-963f-61d5ec6bc19f",
   "metadata": {},
   "outputs": [],
   "source": [
    "from sklearn.datasets import make_moons"
   ]
  },
  {
   "cell_type": "code",
   "execution_count": 6,
   "id": "7392ae8f-32a7-4c77-a5be-34043ecd09ec",
   "metadata": {},
   "outputs": [
    {
     "data": {
      "text/html": [
       "<div>\n",
       "<style scoped>\n",
       "    .dataframe tbody tr th:only-of-type {\n",
       "        vertical-align: middle;\n",
       "    }\n",
       "\n",
       "    .dataframe tbody tr th {\n",
       "        vertical-align: top;\n",
       "    }\n",
       "\n",
       "    .dataframe thead th {\n",
       "        text-align: right;\n",
       "    }\n",
       "</style>\n",
       "<table border=\"1\" class=\"dataframe\">\n",
       "  <thead>\n",
       "    <tr style=\"text-align: right;\">\n",
       "      <th></th>\n",
       "      <th>x</th>\n",
       "      <th>y</th>\n",
       "      <th>label</th>\n",
       "    </tr>\n",
       "  </thead>\n",
       "  <tbody>\n",
       "    <tr>\n",
       "      <th>0</th>\n",
       "      <td>0.578741</td>\n",
       "      <td>-0.365700</td>\n",
       "      <td>B</td>\n",
       "    </tr>\n",
       "    <tr>\n",
       "      <th>1</th>\n",
       "      <td>-0.821785</td>\n",
       "      <td>0.604713</td>\n",
       "      <td>A</td>\n",
       "    </tr>\n",
       "    <tr>\n",
       "      <th>2</th>\n",
       "      <td>-0.114250</td>\n",
       "      <td>0.612402</td>\n",
       "      <td>B</td>\n",
       "    </tr>\n",
       "    <tr>\n",
       "      <th>3</th>\n",
       "      <td>-0.829271</td>\n",
       "      <td>0.434892</td>\n",
       "      <td>A</td>\n",
       "    </tr>\n",
       "    <tr>\n",
       "      <th>4</th>\n",
       "      <td>1.456752</td>\n",
       "      <td>-0.316191</td>\n",
       "      <td>B</td>\n",
       "    </tr>\n",
       "  </tbody>\n",
       "</table>\n",
       "</div>"
      ],
      "text/plain": [
       "          x         y label\n",
       "0  0.578741 -0.365700     B\n",
       "1 -0.821785  0.604713     A\n",
       "2 -0.114250  0.612402     B\n",
       "3 -0.829271  0.434892     A\n",
       "4  1.456752 -0.316191     B"
      ]
     },
     "execution_count": 6,
     "metadata": {},
     "output_type": "execute_result"
    }
   ],
   "source": [
    "moons_df = make_moons_dataframe(n_samples=1000, noise_level=0.1)\n",
    "moons_df.head()"
   ]
  },
  {
   "cell_type": "code",
   "execution_count": 7,
   "id": "48c4d95c-3cad-4596-a8b3-29d67aa9859c",
   "metadata": {},
   "outputs": [
    {
     "data": {
      "application/vnd.jupyter.widget-view+json": {
       "model_id": "d5e13b60a7e2432d9673e42ef5ac5c4d",
       "version_major": 2,
       "version_minor": 0
      },
      "text/plain": [
       "interactive(children=(FloatSlider(value=0.0, description='noise_level', max=0.5, step=0.05), Output()), _dom_c…"
      ]
     },
     "metadata": {},
     "output_type": "display_data"
    }
   ],
   "source": [
    "@widgets.interact\n",
    "def plot_noisy_moons(noise_level = widgets.FloatSlider(value=0, min=0, max=0.5, step=0.05)):\n",
    "    moons_df = make_moons_dataframe(n_samples=1000, noise_level=noise_level)\n",
    "    return px.scatter(moons_df, x='x', y='y', color = 'label')"
   ]
  },
  {
   "cell_type": "markdown",
   "id": "a3299f00-00b8-4703-8568-35de2913a487",
   "metadata": {},
   "source": [
    "## Circles Dataset"
   ]
  },
  {
   "cell_type": "code",
   "execution_count": 8,
   "id": "14b1498d-60e1-429e-a122-f120f5ed5720",
   "metadata": {},
   "outputs": [
    {
     "data": {
      "text/html": [
       "<div>\n",
       "<style scoped>\n",
       "    .dataframe tbody tr th:only-of-type {\n",
       "        vertical-align: middle;\n",
       "    }\n",
       "\n",
       "    .dataframe tbody tr th {\n",
       "        vertical-align: top;\n",
       "    }\n",
       "\n",
       "    .dataframe thead th {\n",
       "        text-align: right;\n",
       "    }\n",
       "</style>\n",
       "<table border=\"1\" class=\"dataframe\">\n",
       "  <thead>\n",
       "    <tr style=\"text-align: right;\">\n",
       "      <th></th>\n",
       "      <th>x</th>\n",
       "      <th>y</th>\n",
       "      <th>label</th>\n",
       "    </tr>\n",
       "  </thead>\n",
       "  <tbody>\n",
       "    <tr>\n",
       "      <th>0</th>\n",
       "      <td>-0.888136</td>\n",
       "      <td>0.459580</td>\n",
       "      <td>A</td>\n",
       "    </tr>\n",
       "    <tr>\n",
       "      <th>1</th>\n",
       "      <td>-0.492727</td>\n",
       "      <td>-0.870184</td>\n",
       "      <td>A</td>\n",
       "    </tr>\n",
       "    <tr>\n",
       "      <th>2</th>\n",
       "      <td>-0.609954</td>\n",
       "      <td>0.517645</td>\n",
       "      <td>B</td>\n",
       "    </tr>\n",
       "    <tr>\n",
       "      <th>3</th>\n",
       "      <td>-0.658826</td>\n",
       "      <td>0.453815</td>\n",
       "      <td>B</td>\n",
       "    </tr>\n",
       "    <tr>\n",
       "      <th>4</th>\n",
       "      <td>0.379779</td>\n",
       "      <td>-0.925077</td>\n",
       "      <td>A</td>\n",
       "    </tr>\n",
       "  </tbody>\n",
       "</table>\n",
       "</div>"
      ],
      "text/plain": [
       "          x         y label\n",
       "0 -0.888136  0.459580     A\n",
       "1 -0.492727 -0.870184     A\n",
       "2 -0.609954  0.517645     B\n",
       "3 -0.658826  0.453815     B\n",
       "4  0.379779 -0.925077     A"
      ]
     },
     "execution_count": 8,
     "metadata": {},
     "output_type": "execute_result"
    }
   ],
   "source": [
    "circles_df = make_circles_dataframe(n_samples=500, noise_level=0)\n",
    "circles_df.head()"
   ]
  },
  {
   "cell_type": "code",
   "execution_count": 9,
   "id": "52ef522a-e381-42e1-b321-31b3d2f3b0de",
   "metadata": {},
   "outputs": [
    {
     "data": {
      "application/vnd.jupyter.widget-view+json": {
       "model_id": "656a8dc570e9438c830f85e11125100a",
       "version_major": 2,
       "version_minor": 0
      },
      "text/plain": [
       "interactive(children=(FloatSlider(value=0.0, description='noise_level', max=0.5, step=0.05), Output()), _dom_c…"
      ]
     },
     "metadata": {},
     "output_type": "display_data"
    }
   ],
   "source": [
    "@widgets.interact\n",
    "def plot_noisy_circles(noise_level = widgets.FloatSlider(value=0, min=0, max=0.5, step=0.05)):\n",
    "    df = make_circles_dataframe(1000, noise_level)\n",
    "    return px.scatter(df, x='x', y='y', color = 'label')"
   ]
  },
  {
   "cell_type": "markdown",
   "id": "68124026-b4bc-4022-81ee-158175f9e732",
   "metadata": {},
   "source": [
    "## Appendix"
   ]
  },
  {
   "cell_type": "markdown",
   "id": "4f7657fd-8b95-4580-99f7-5f434b1e6238",
   "metadata": {},
   "source": [
    "# Answer - Building an experiment"
   ]
  },
  {
   "cell_type": "markdown",
   "id": "5596ed15-132d-477d-b572-e50a42449741",
   "metadata": {},
   "source": [
    "### 1. Creating MOONs and CIRCLEs Datasets"
   ]
  },
  {
   "cell_type": "code",
   "execution_count": 34,
   "id": "7b158fd8-2274-4b6e-a513-ba49b8c10fd2",
   "metadata": {},
   "outputs": [],
   "source": [
    "n_samples = [10, 50, 100, 1000, 10000]\n",
    "noise_levels = [0, 0.1, 0.2, 0.3, 0.4, 0.5]\n",
    "DS_NAME = ['Moon', 'Circle']\n",
    "dfWithMoonAndCircle = pd.DataFrame()  "
   ]
  },
  {
   "cell_type": "code",
   "execution_count": 35,
   "id": "4a86edf8-c21b-4996-b73e-79db3d7bb954",
   "metadata": {},
   "outputs": [],
   "source": [
    "def getDataFrameByName(dataset_name,noise_level):\n",
    "    return  make_moons_dataframe(n_samples = 10000, noise_level = noise_level)  if dataset_name == 'Moon' else make_circles_dataframe(n_samples = 10000, noise_level = noise_level)"
   ]
  },
  {
   "cell_type": "code",
   "execution_count": 36,
   "id": "dee49275-bb6a-4a3f-95a2-355c7820461c",
   "metadata": {},
   "outputs": [
    {
     "data": {
      "text/html": [
       "<div>\n",
       "<style scoped>\n",
       "    .dataframe tbody tr th:only-of-type {\n",
       "        vertical-align: middle;\n",
       "    }\n",
       "\n",
       "    .dataframe tbody tr th {\n",
       "        vertical-align: top;\n",
       "    }\n",
       "\n",
       "    .dataframe thead th {\n",
       "        text-align: right;\n",
       "    }\n",
       "</style>\n",
       "<table border=\"1\" class=\"dataframe\">\n",
       "  <thead>\n",
       "    <tr style=\"text-align: right;\">\n",
       "      <th></th>\n",
       "      <th>x</th>\n",
       "      <th>y</th>\n",
       "      <th>label</th>\n",
       "      <th>noise_level</th>\n",
       "      <th>DS_NAME</th>\n",
       "    </tr>\n",
       "  </thead>\n",
       "  <tbody>\n",
       "    <tr>\n",
       "      <th>0</th>\n",
       "      <td>-0.447624</td>\n",
       "      <td>0.894222</td>\n",
       "      <td>A</td>\n",
       "      <td>0.0</td>\n",
       "      <td>Moon</td>\n",
       "    </tr>\n",
       "    <tr>\n",
       "      <th>1</th>\n",
       "      <td>1.536718</td>\n",
       "      <td>-0.343762</td>\n",
       "      <td>B</td>\n",
       "      <td>0.0</td>\n",
       "      <td>Moon</td>\n",
       "    </tr>\n",
       "    <tr>\n",
       "      <th>2</th>\n",
       "      <td>1.462174</td>\n",
       "      <td>-0.386789</td>\n",
       "      <td>B</td>\n",
       "      <td>0.0</td>\n",
       "      <td>Moon</td>\n",
       "    </tr>\n",
       "    <tr>\n",
       "      <th>3</th>\n",
       "      <td>-0.619199</td>\n",
       "      <td>0.785234</td>\n",
       "      <td>A</td>\n",
       "      <td>0.0</td>\n",
       "      <td>Moon</td>\n",
       "    </tr>\n",
       "    <tr>\n",
       "      <th>4</th>\n",
       "      <td>0.002565</td>\n",
       "      <td>0.428419</td>\n",
       "      <td>B</td>\n",
       "      <td>0.0</td>\n",
       "      <td>Moon</td>\n",
       "    </tr>\n",
       "    <tr>\n",
       "      <th>...</th>\n",
       "      <td>...</td>\n",
       "      <td>...</td>\n",
       "      <td>...</td>\n",
       "      <td>...</td>\n",
       "      <td>...</td>\n",
       "    </tr>\n",
       "    <tr>\n",
       "      <th>9995</th>\n",
       "      <td>-0.399793</td>\n",
       "      <td>0.931488</td>\n",
       "      <td>B</td>\n",
       "      <td>0.5</td>\n",
       "      <td>Circle</td>\n",
       "    </tr>\n",
       "    <tr>\n",
       "      <th>9996</th>\n",
       "      <td>-0.334852</td>\n",
       "      <td>-0.372714</td>\n",
       "      <td>B</td>\n",
       "      <td>0.5</td>\n",
       "      <td>Circle</td>\n",
       "    </tr>\n",
       "    <tr>\n",
       "      <th>9997</th>\n",
       "      <td>0.492084</td>\n",
       "      <td>-0.433914</td>\n",
       "      <td>B</td>\n",
       "      <td>0.5</td>\n",
       "      <td>Circle</td>\n",
       "    </tr>\n",
       "    <tr>\n",
       "      <th>9998</th>\n",
       "      <td>0.298431</td>\n",
       "      <td>-0.845360</td>\n",
       "      <td>B</td>\n",
       "      <td>0.5</td>\n",
       "      <td>Circle</td>\n",
       "    </tr>\n",
       "    <tr>\n",
       "      <th>9999</th>\n",
       "      <td>1.750538</td>\n",
       "      <td>-0.106243</td>\n",
       "      <td>A</td>\n",
       "      <td>0.5</td>\n",
       "      <td>Circle</td>\n",
       "    </tr>\n",
       "  </tbody>\n",
       "</table>\n",
       "<p>120000 rows × 5 columns</p>\n",
       "</div>"
      ],
      "text/plain": [
       "             x         y label  noise_level DS_NAME\n",
       "0    -0.447624  0.894222     A          0.0    Moon\n",
       "1     1.536718 -0.343762     B          0.0    Moon\n",
       "2     1.462174 -0.386789     B          0.0    Moon\n",
       "3    -0.619199  0.785234     A          0.0    Moon\n",
       "4     0.002565  0.428419     B          0.0    Moon\n",
       "...        ...       ...   ...          ...     ...\n",
       "9995 -0.399793  0.931488     B          0.5  Circle\n",
       "9996 -0.334852 -0.372714     B          0.5  Circle\n",
       "9997  0.492084 -0.433914     B          0.5  Circle\n",
       "9998  0.298431 -0.845360     B          0.5  Circle\n",
       "9999  1.750538 -0.106243     A          0.5  Circle\n",
       "\n",
       "[120000 rows x 5 columns]"
      ]
     },
     "execution_count": 36,
     "metadata": {},
     "output_type": "execute_result"
    }
   ],
   "source": [
    "for dataset_name in DS_NAME:\n",
    "    for noise_level in noise_levels:\n",
    "        temp_df = getDataFrameByName(dataset_name,noise_level)\n",
    "        temp_df['noise_level'] = noise_level\n",
    "        temp_df['DS_NAME'] = dataset_name\n",
    "        dfWithMoonAndCircle = pd.concat([dfWithMoonAndCircle, temp_df])\n",
    "dfWithMoonAndCircle"
   ]
  },
  {
   "cell_type": "markdown",
   "id": "6b34504f-26b0-4039-8c44-d80045657c5b",
   "metadata": {},
   "source": [
    "### 2. Running Models"
   ]
  },
  {
   "cell_type": "markdown",
   "id": "e2567692-7338-43e8-bfd1-a6c9f3698364",
   "metadata": {},
   "source": [
    "Before we beging the Hyper Parameter Search (HPS), we should choose the most appropriate **Evaluation Tool**. Our Data is balaced and there is no \"favorite\" label we prefer increase its Identification. Therefore we will ues **ACCURACY** as our evloation tool.\n",
    "\n",
    "**MODELS:**\n",
    "1. ***Logistic Regression*** (logit), as Linear Model, uses as *Low Capcity* Model in our paper.\n",
    "1. ***Support Vector Machine*** (SVM), as more Complex model, uses as *High Capcity* Model in our paper."
   ]
  },
  {
   "cell_type": "code",
   "execution_count": 12,
   "id": "17b48b2f-ccd3-4d42-a914-9a54dfd0e6e3",
   "metadata": {},
   "outputs": [],
   "source": [
    "from sklearn.linear_model import LogisticRegression\n",
    "from sklearn.neighbors import KNeighborsClassifier\n",
    "from sklearn import svm\n",
    "from sklearn.model_selection import KFold\n",
    "from sklearn.model_selection import cross_validate"
   ]
  },
  {
   "cell_type": "code",
   "execution_count": 13,
   "id": "afeeabfc-00c4-46ea-8557-729d9bc5ad5b",
   "metadata": {},
   "outputs": [],
   "source": [
    "def getExperimantOfClassficationByClassficationName(dataset,clf_method,hyper_parameter,data_frame,k_fold,n,noise_level,clf_name):\n",
    "    score = cross_validate(clf_method, data_frame[['x', 'y']], data_frame['label'], cv = k_fold, return_train_score = True)\n",
    "    TRE = score['train_score'].mean()\n",
    "    TESTE = score['test_score'].mean()\n",
    "    E_DIFF = TRE - TESTE\n",
    "    return (dataset, n, noise_level, clf_name, 5, TRE, TESTE, E_DIFF, hyper_parameter)\n",
    "    "
   ]
  },
  {
   "cell_type": "code",
   "execution_count": 14,
   "id": "63fafaed-ff05-4f6c-8eff-1bab7b098376",
   "metadata": {},
   "outputs": [],
   "source": [
    "CLF_NAME = ['svm', 'logistic', 'knn']\n",
    "C_for_logostic_regression = [0.001, 0.01, 0.1, 1, 10, 100, 1000]\n",
    "gammas = [0.001 ,0.005, 0.01 ,0.1, 0.5, 1 ,5 , 10, 100, 1000]\n",
    "k_fold = KFold(n_splits = 5)\n",
    "result = []"
   ]
  },
  {
   "cell_type": "code",
   "execution_count": 15,
   "id": "251525fa-664d-45dc-a482-c581b3078756",
   "metadata": {},
   "outputs": [],
   "source": [
    "for dataset in DS_NAME:\n",
    "    for clf_name in CLF_NAME:\n",
    "        for n in n_samples:\n",
    "            for noise_level in noise_levels:\n",
    "                temp_df = dfWithMoonAndCircle.query('DS_NAME == @dataset and noise_level == @noise_level').sample(n)\n",
    "                if clf_name == 'svm':\n",
    "                    for gamma in gammas:\n",
    "                        classifier_svm = svm.SVC(kernel = 'rbf' , gamma = gamma)\n",
    "                        result.append(getExperimantOfClassficationByClassficationName(dataset,classifier_svm ,gamma,temp_df,k_fold,n,noise_level,clf_name))\n",
    "                \n",
    "                elif clf_name == 'logistic':\n",
    "                    for c in C_for_logostic_regression:\n",
    "                        logit = LogisticRegression(penalty = 'l2', C = c)\n",
    "                        result.append(getExperimantOfClassficationByClassficationName(dataset,logit,c,temp_df,k_fold,n,noise_level,clf_name))"
   ]
  },
  {
   "cell_type": "code",
   "execution_count": 16,
   "id": "163f15eb-473e-469e-8b47-4131fd4501fc",
   "metadata": {},
   "outputs": [
    {
     "data": {
      "text/html": [
       "<div>\n",
       "<style scoped>\n",
       "    .dataframe tbody tr th:only-of-type {\n",
       "        vertical-align: middle;\n",
       "    }\n",
       "\n",
       "    .dataframe tbody tr th {\n",
       "        vertical-align: top;\n",
       "    }\n",
       "\n",
       "    .dataframe thead th {\n",
       "        text-align: right;\n",
       "    }\n",
       "</style>\n",
       "<table border=\"1\" class=\"dataframe\">\n",
       "  <thead>\n",
       "    <tr style=\"text-align: right;\">\n",
       "      <th></th>\n",
       "      <th>DS_NAME</th>\n",
       "      <th>N</th>\n",
       "      <th>NL</th>\n",
       "      <th>CLF_NAME</th>\n",
       "      <th>KFOLDS</th>\n",
       "      <th>TRE</th>\n",
       "      <th>TESTE</th>\n",
       "      <th>E_DIFF</th>\n",
       "      <th>REGULARIZATIN_or_HPS</th>\n",
       "    </tr>\n",
       "  </thead>\n",
       "  <tbody>\n",
       "    <tr>\n",
       "      <th>0</th>\n",
       "      <td>Moon</td>\n",
       "      <td>10</td>\n",
       "      <td>0.0</td>\n",
       "      <td>svm</td>\n",
       "      <td>5</td>\n",
       "      <td>0.72500</td>\n",
       "      <td>0.5000</td>\n",
       "      <td>0.22500</td>\n",
       "      <td>0.001</td>\n",
       "    </tr>\n",
       "    <tr>\n",
       "      <th>1</th>\n",
       "      <td>Moon</td>\n",
       "      <td>10</td>\n",
       "      <td>0.0</td>\n",
       "      <td>svm</td>\n",
       "      <td>5</td>\n",
       "      <td>0.72500</td>\n",
       "      <td>0.5000</td>\n",
       "      <td>0.22500</td>\n",
       "      <td>0.005</td>\n",
       "    </tr>\n",
       "    <tr>\n",
       "      <th>2</th>\n",
       "      <td>Moon</td>\n",
       "      <td>10</td>\n",
       "      <td>0.0</td>\n",
       "      <td>svm</td>\n",
       "      <td>5</td>\n",
       "      <td>0.72500</td>\n",
       "      <td>0.5000</td>\n",
       "      <td>0.22500</td>\n",
       "      <td>0.010</td>\n",
       "    </tr>\n",
       "    <tr>\n",
       "      <th>3</th>\n",
       "      <td>Moon</td>\n",
       "      <td>10</td>\n",
       "      <td>0.0</td>\n",
       "      <td>svm</td>\n",
       "      <td>5</td>\n",
       "      <td>0.75000</td>\n",
       "      <td>0.5000</td>\n",
       "      <td>0.25000</td>\n",
       "      <td>0.100</td>\n",
       "    </tr>\n",
       "    <tr>\n",
       "      <th>4</th>\n",
       "      <td>Moon</td>\n",
       "      <td>10</td>\n",
       "      <td>0.0</td>\n",
       "      <td>svm</td>\n",
       "      <td>5</td>\n",
       "      <td>0.82500</td>\n",
       "      <td>0.5000</td>\n",
       "      <td>0.32500</td>\n",
       "      <td>0.500</td>\n",
       "    </tr>\n",
       "    <tr>\n",
       "      <th>...</th>\n",
       "      <td>...</td>\n",
       "      <td>...</td>\n",
       "      <td>...</td>\n",
       "      <td>...</td>\n",
       "      <td>...</td>\n",
       "      <td>...</td>\n",
       "      <td>...</td>\n",
       "      <td>...</td>\n",
       "      <td>...</td>\n",
       "    </tr>\n",
       "    <tr>\n",
       "      <th>1015</th>\n",
       "      <td>Circle</td>\n",
       "      <td>10000</td>\n",
       "      <td>0.5</td>\n",
       "      <td>logistic</td>\n",
       "      <td>5</td>\n",
       "      <td>0.50545</td>\n",
       "      <td>0.4917</td>\n",
       "      <td>0.01375</td>\n",
       "      <td>0.100</td>\n",
       "    </tr>\n",
       "    <tr>\n",
       "      <th>1016</th>\n",
       "      <td>Circle</td>\n",
       "      <td>10000</td>\n",
       "      <td>0.5</td>\n",
       "      <td>logistic</td>\n",
       "      <td>5</td>\n",
       "      <td>0.50550</td>\n",
       "      <td>0.4916</td>\n",
       "      <td>0.01390</td>\n",
       "      <td>1.000</td>\n",
       "    </tr>\n",
       "    <tr>\n",
       "      <th>1017</th>\n",
       "      <td>Circle</td>\n",
       "      <td>10000</td>\n",
       "      <td>0.5</td>\n",
       "      <td>logistic</td>\n",
       "      <td>5</td>\n",
       "      <td>0.50550</td>\n",
       "      <td>0.4915</td>\n",
       "      <td>0.01400</td>\n",
       "      <td>10.000</td>\n",
       "    </tr>\n",
       "    <tr>\n",
       "      <th>1018</th>\n",
       "      <td>Circle</td>\n",
       "      <td>10000</td>\n",
       "      <td>0.5</td>\n",
       "      <td>logistic</td>\n",
       "      <td>5</td>\n",
       "      <td>0.50550</td>\n",
       "      <td>0.4915</td>\n",
       "      <td>0.01400</td>\n",
       "      <td>100.000</td>\n",
       "    </tr>\n",
       "    <tr>\n",
       "      <th>1019</th>\n",
       "      <td>Circle</td>\n",
       "      <td>10000</td>\n",
       "      <td>0.5</td>\n",
       "      <td>logistic</td>\n",
       "      <td>5</td>\n",
       "      <td>0.50550</td>\n",
       "      <td>0.4915</td>\n",
       "      <td>0.01400</td>\n",
       "      <td>1000.000</td>\n",
       "    </tr>\n",
       "  </tbody>\n",
       "</table>\n",
       "<p>1020 rows × 9 columns</p>\n",
       "</div>"
      ],
      "text/plain": [
       "     DS_NAME      N   NL  CLF_NAME  KFOLDS      TRE   TESTE   E_DIFF  \\\n",
       "0       Moon     10  0.0       svm       5  0.72500  0.5000  0.22500   \n",
       "1       Moon     10  0.0       svm       5  0.72500  0.5000  0.22500   \n",
       "2       Moon     10  0.0       svm       5  0.72500  0.5000  0.22500   \n",
       "3       Moon     10  0.0       svm       5  0.75000  0.5000  0.25000   \n",
       "4       Moon     10  0.0       svm       5  0.82500  0.5000  0.32500   \n",
       "...      ...    ...  ...       ...     ...      ...     ...      ...   \n",
       "1015  Circle  10000  0.5  logistic       5  0.50545  0.4917  0.01375   \n",
       "1016  Circle  10000  0.5  logistic       5  0.50550  0.4916  0.01390   \n",
       "1017  Circle  10000  0.5  logistic       5  0.50550  0.4915  0.01400   \n",
       "1018  Circle  10000  0.5  logistic       5  0.50550  0.4915  0.01400   \n",
       "1019  Circle  10000  0.5  logistic       5  0.50550  0.4915  0.01400   \n",
       "\n",
       "      REGULARIZATIN_or_HPS  \n",
       "0                    0.001  \n",
       "1                    0.005  \n",
       "2                    0.010  \n",
       "3                    0.100  \n",
       "4                    0.500  \n",
       "...                    ...  \n",
       "1015                 0.100  \n",
       "1016                 1.000  \n",
       "1017                10.000  \n",
       "1018               100.000  \n",
       "1019              1000.000  \n",
       "\n",
       "[1020 rows x 9 columns]"
      ]
     },
     "execution_count": 16,
     "metadata": {},
     "output_type": "execute_result"
    }
   ],
   "source": [
    "result_df = pd.DataFrame(result, columns = ['DS_NAME', 'N', 'NL', 'CLF_NAME', 'KFOLDS', 'TRE', 'TESTE', 'E_DIFF', 'REGULARIZATIN_or_HPS'])\n",
    "result_df"
   ]
  },
  {
   "cell_type": "code",
   "execution_count": 19,
   "id": "64cd94c2-612e-4c62-bd47-4365454290f1",
   "metadata": {},
   "outputs": [],
   "source": [
    "result_df.to_csv('Result DataFrame - Modeling Exercise 21_04_2022.csv', index = False)"
   ]
  },
  {
   "cell_type": "markdown",
   "id": "d8a9b35d-20d6-4084-afdd-b8385ef0c11c",
   "metadata": {
    "tags": []
   },
   "source": [
    "# Answer - Analysing the expermient results¶"
   ]
  },
  {
   "cell_type": "markdown",
   "id": "ee943797-2756-43b7-bdaa-cdc8971844e2",
   "metadata": {},
   "source": [
    "### Q1"
   ]
  },
  {
   "cell_type": "code",
   "execution_count": 29,
   "id": "ea9d21e4-8df3-4304-be42-1035694e6c4e",
   "metadata": {},
   "outputs": [
    {
     "data": {
      "text/html": [
       "<div>\n",
       "<style scoped>\n",
       "    .dataframe tbody tr th:only-of-type {\n",
       "        vertical-align: middle;\n",
       "    }\n",
       "\n",
       "    .dataframe tbody tr th {\n",
       "        vertical-align: top;\n",
       "    }\n",
       "\n",
       "    .dataframe thead th {\n",
       "        text-align: right;\n",
       "    }\n",
       "</style>\n",
       "<table border=\"1\" class=\"dataframe\">\n",
       "  <thead>\n",
       "    <tr style=\"text-align: right;\">\n",
       "      <th></th>\n",
       "      <th>DS_NAME</th>\n",
       "      <th>N</th>\n",
       "      <th>NL</th>\n",
       "      <th>CLF_NAME</th>\n",
       "      <th>KFOLDS</th>\n",
       "      <th>TRE</th>\n",
       "      <th>TESTE</th>\n",
       "      <th>E_DIFF</th>\n",
       "      <th>REGULARIZATIN_or_HPS</th>\n",
       "    </tr>\n",
       "  </thead>\n",
       "  <tbody>\n",
       "    <tr>\n",
       "      <th>0</th>\n",
       "      <td>Circle</td>\n",
       "      <td>10000</td>\n",
       "      <td>0.0</td>\n",
       "      <td>svm</td>\n",
       "      <td>5</td>\n",
       "      <td>0.50145</td>\n",
       "      <td>0.4838</td>\n",
       "      <td>-0.00005</td>\n",
       "      <td>0.001</td>\n",
       "    </tr>\n",
       "    <tr>\n",
       "      <th>1</th>\n",
       "      <td>Moon</td>\n",
       "      <td>10000</td>\n",
       "      <td>0.0</td>\n",
       "      <td>svm</td>\n",
       "      <td>5</td>\n",
       "      <td>0.79985</td>\n",
       "      <td>0.7605</td>\n",
       "      <td>-0.00040</td>\n",
       "      <td>0.001</td>\n",
       "    </tr>\n",
       "  </tbody>\n",
       "</table>\n",
       "</div>"
      ],
      "text/plain": [
       "  DS_NAME      N   NL CLF_NAME  KFOLDS      TRE   TESTE   E_DIFF  \\\n",
       "0  Circle  10000  0.0      svm       5  0.50145  0.4838 -0.00005   \n",
       "1    Moon  10000  0.0      svm       5  0.79985  0.7605 -0.00040   \n",
       "\n",
       "   REGULARIZATIN_or_HPS  \n",
       "0                 0.001  \n",
       "1                 0.001  "
      ]
     },
     "execution_count": 29,
     "metadata": {},
     "output_type": "execute_result"
    }
   ],
   "source": [
    "dfWithSvmAnd10K = result_df.query('CLF_NAME == \"svm\" and N == 10000 ')\n",
    "dfWithSvmAnd10K.groupby(['DS_NAME']).min().reset_index()"
   ]
  },
  {
   "cell_type": "markdown",
   "id": "b6684c76-1064-47fa-bd4d-0971931f0543",
   "metadata": {},
   "source": [
    "### Q2"
   ]
  },
  {
   "cell_type": "code",
   "execution_count": null,
   "id": "c7f09e6f-4533-4208-b512-760aa6a5210c",
   "metadata": {},
   "outputs": [],
   "source": []
  },
  {
   "cell_type": "code",
   "execution_count": null,
   "id": "ad753338-af81-4189-901b-e0e8af278aa9",
   "metadata": {},
   "outputs": [],
   "source": []
  },
  {
   "cell_type": "code",
   "execution_count": null,
   "id": "9ecb2e07-1ccd-43a7-82d4-dfb62ac4227c",
   "metadata": {},
   "outputs": [],
   "source": []
  },
  {
   "cell_type": "code",
   "execution_count": null,
   "id": "06ecf1a3-e1be-497d-bb95-5de81076d96d",
   "metadata": {},
   "outputs": [],
   "source": []
  },
  {
   "cell_type": "markdown",
   "id": "ac7c6e0b-b513-4bb7-b39e-ae3baa5b3e68",
   "metadata": {},
   "source": [
    "### More hints!"
   ]
  },
  {
   "cell_type": "markdown",
   "id": "c2ad0ce4-d598-4e30-ab43-dd9a064d8dd8",
   "metadata": {},
   "source": [
    "If you'll build the datasets dataframe correctly, you'll have **one** dataframe that has dataset_name and noise_level colmuns, as well as the regular x,y,label colmns. To unsure you've appended everything correctly, groupby the proper colmuns and look at the size:"
   ]
  },
  {
   "cell_type": "code",
   "execution_count": 17,
   "id": "4b5d99fc-102f-4b04-8962-1e85e8909cee",
   "metadata": {},
   "outputs": [],
   "source": [
    "# Use proper groupby statement to ensure the datasets dataframe contains data as expected. You should see the following result:\n",
    "\n",
    "\n"
   ]
  },
  {
   "cell_type": "markdown",
   "id": "8f9e1094-232b-46f2-ba89-856e14fab58b",
   "metadata": {},
   "source": [
    "Your "
   ]
  },
  {
   "cell_type": "markdown",
   "id": "fc58ae49-7d87-462b-b681-61536ae4bca8",
   "metadata": {},
   "source": [
    "You experiment code should look something like that:"
   ]
  },
  {
   "cell_type": "code",
   "execution_count": 18,
   "id": "6b6dca06-01af-437e-8eb1-d559cdb96741",
   "metadata": {},
   "outputs": [
    {
     "ename": "SyntaxError",
     "evalue": "invalid syntax (3386946450.py, line 6)",
     "output_type": "error",
     "traceback": [
      "\u001b[1;36m  Input \u001b[1;32mIn [18]\u001b[1;36m\u001b[0m\n\u001b[1;33m    hp_range = <'Your hyper parameters ranges here'>\u001b[0m\n\u001b[1;37m               ^\u001b[0m\n\u001b[1;31mSyntaxError\u001b[0m\u001b[1;31m:\u001b[0m invalid syntax\n"
     ]
    }
   ],
   "source": [
    "datasets_type = ['circles', 'moons']\n",
    "k_folds = 10\n",
    "n_samples = [10, 50, 100, 1000, 10000]\n",
    "noise_levels = [0, 0.1, 0.2, 0.3, 0.4, 0.5]\n",
    "clf_types = ['log_reg', 'svm']\n",
    "hp_range = <'Your hyper parameters ranges here'>\n",
    "regularization_values = <'Your regularization values here'>\n",
    "results = []\n",
    "for ds_type in datasets_type:\n",
    "    print(f'Working on {ds_type}')\n",
    "    for nl in noise_levels:\n",
    "        for n in n_samples:\n",
    "            ds = datasets.query(<'your query here'>).head(n)\n",
    "            print(f'Starting {k_folds}-fold cross validation for {ds_type} datasets with {n} samples and noise level {nl}. Going to train {clf_types} classifiers.')\n",
    "            for k in range(k_folds):\n",
    "                X, Y = <'Your code here'>\n",
    "                x_train,x_test,y_train,y_test= <'Your code here'>\n",
    "                for clf_type in clf_types:\n",
    "                    if clf_type == 'log_reg':\n",
    "                        for regularization_value in regularization_values:\n",
    "                            train_acc, test_acc = <'Your code here'>\n",
    "                            results.append(<'Your code here'>)\n",
    "                    if clf_type == 'svm':\n",
    "                        for gamma in hp_range:\n",
    "                            train_acc, test_acc = <'Your code here'>\n",
    "                            results.append(<'Your code here'>)"
   ]
  },
  {
   "cell_type": "markdown",
   "id": "8c757d2e-c9dc-4ca8-ad10-1b5b0b518681",
   "metadata": {},
   "source": [
    "### Question 1 - Manual Classification"
   ]
  },
  {
   "cell_type": "markdown",
   "id": "be99abda-4f26-4331-90f3-4e95b971b70f",
   "metadata": {},
   "source": [
    "The purpose of this excercise is to examplify the need in a fitting algorithm. We will do so by trying to find only 2 models parameters by ourselves. "
   ]
  },
  {
   "cell_type": "code",
   "execution_count": 30,
   "id": "98898c9c-d06c-49c1-a5c3-7dc5e7f9e787",
   "metadata": {},
   "outputs": [],
   "source": [
    "slope, intercept = 2.5, 6"
   ]
  },
  {
   "cell_type": "code",
   "execution_count": 31,
   "id": "c507c069-f14a-41a7-a526-1627c7453687",
   "metadata": {},
   "outputs": [],
   "source": [
    "x_1, x_2 = 0.2, 0.6\n",
    "on_line = [[x, x*slope + intercept,'on_line'] for x in np.linspace(-1,2,100)]\n",
    "\n",
    "above_line = [[x_1, x_1*slope + intercept + 2, 'Above'], \n",
    "              [x_2, x_2*slope + intercept + 2, 'Above']] \n",
    "\n",
    "below_line = [[x_1, x_1*slope + intercept - 2, 'Below'], \n",
    "              [x_2, x_2*slope + intercept - 2, 'Below']] "
   ]
  },
  {
   "cell_type": "code",
   "execution_count": 32,
   "id": "ad4ebc44-35aa-4d0a-b14f-4d0f96b8db6d",
   "metadata": {},
   "outputs": [],
   "source": [
    "columns = ['x','y','label']\n",
    "data = pd.DataFrame(on_line + above_line + below_line, columns = columns)"
   ]
  },
  {
   "cell_type": "code",
   "execution_count": 33,
   "id": "7dcf258b-2747-49de-b575-5b0b4f4c436b",
   "metadata": {},
   "outputs": [
    {
     "data": {
      "application/vnd.plotly.v1+json": {
       "config": {
        "plotlyServerURL": "https://plot.ly"
       },
       "data": [
        {
         "hovertemplate": "label=on_line<br>x=%{x}<br>y=%{y}<extra></extra>",
         "legendgroup": "on_line",
         "marker": {
          "color": "#636efa",
          "symbol": "circle"
         },
         "mode": "markers",
         "name": "on_line",
         "orientation": "v",
         "showlegend": true,
         "type": "scatter",
         "visible": true,
         "x": [
          -1,
          -0.9696969696969697,
          -0.9393939393939394,
          -0.9090909090909091,
          -0.8787878787878788,
          -0.8484848484848485,
          -0.8181818181818181,
          -0.7878787878787878,
          -0.7575757575757576,
          -0.7272727272727273,
          -0.696969696969697,
          -0.6666666666666666,
          -0.6363636363636364,
          -0.6060606060606061,
          -0.5757575757575757,
          -0.5454545454545454,
          -0.5151515151515151,
          -0.48484848484848486,
          -0.4545454545454546,
          -0.4242424242424242,
          -0.3939393939393939,
          -0.36363636363636365,
          -0.33333333333333326,
          -0.303030303030303,
          -0.2727272727272727,
          -0.24242424242424243,
          -0.21212121212121215,
          -0.18181818181818177,
          -0.1515151515151515,
          -0.12121212121212122,
          -0.09090909090909083,
          -0.06060606060606055,
          -0.030303030303030276,
          0,
          0.030303030303030276,
          0.06060606060606055,
          0.09090909090909083,
          0.12121212121212133,
          0.1515151515151516,
          0.18181818181818188,
          0.21212121212121215,
          0.24242424242424243,
          0.2727272727272727,
          0.303030303030303,
          0.3333333333333335,
          0.36363636363636376,
          0.39393939393939403,
          0.4242424242424243,
          0.4545454545454546,
          0.48484848484848486,
          0.5151515151515151,
          0.5454545454545454,
          0.5757575757575757,
          0.6060606060606062,
          0.6363636363636365,
          0.6666666666666667,
          0.696969696969697,
          0.7272727272727273,
          0.7575757575757576,
          0.7878787878787878,
          0.8181818181818183,
          0.8484848484848486,
          0.8787878787878789,
          0.9090909090909092,
          0.9393939393939394,
          0.9696969696969697,
          1,
          1.0303030303030303,
          1.0606060606060606,
          1.0909090909090908,
          1.121212121212121,
          1.1515151515151514,
          1.1818181818181817,
          1.2121212121212124,
          1.2424242424242427,
          1.272727272727273,
          1.3030303030303032,
          1.3333333333333335,
          1.3636363636363638,
          1.393939393939394,
          1.4242424242424243,
          1.4545454545454546,
          1.4848484848484849,
          1.5151515151515151,
          1.5454545454545454,
          1.5757575757575757,
          1.606060606060606,
          1.6363636363636362,
          1.666666666666667,
          1.6969696969696972,
          1.7272727272727275,
          1.7575757575757578,
          1.787878787878788,
          1.8181818181818183,
          1.8484848484848486,
          1.878787878787879,
          1.9090909090909092,
          1.9393939393939394,
          1.9696969696969697,
          2
         ],
         "xaxis": "x",
         "y": [
          3.5,
          3.5757575757575757,
          3.6515151515151514,
          3.7272727272727275,
          3.803030303030303,
          3.878787878787879,
          3.9545454545454546,
          4.03030303030303,
          4.1060606060606055,
          4.181818181818182,
          4.257575757575758,
          4.333333333333334,
          4.409090909090909,
          4.484848484848484,
          4.5606060606060606,
          4.636363636363637,
          4.712121212121212,
          4.787878787878788,
          4.863636363636363,
          4.9393939393939394,
          5.015151515151516,
          5.090909090909091,
          5.166666666666667,
          5.242424242424242,
          5.318181818181818,
          5.393939393939394,
          5.46969696969697,
          5.545454545454546,
          5.621212121212121,
          5.696969696969697,
          5.772727272727273,
          5.848484848484849,
          5.924242424242424,
          6,
          6.075757575757576,
          6.151515151515151,
          6.227272727272727,
          6.303030303030304,
          6.378787878787879,
          6.454545454545455,
          6.53030303030303,
          6.606060606060606,
          6.681818181818182,
          6.757575757575758,
          6.833333333333334,
          6.909090909090909,
          6.984848484848485,
          7.0606060606060606,
          7.136363636363637,
          7.212121212121212,
          7.287878787878788,
          7.363636363636363,
          7.4393939393939394,
          7.515151515151516,
          7.590909090909092,
          7.666666666666667,
          7.742424242424242,
          7.818181818181818,
          7.8939393939393945,
          7.96969696969697,
          8.045454545454547,
          8.121212121212121,
          8.196969696969697,
          8.272727272727273,
          8.348484848484848,
          8.424242424242424,
          8.5,
          8.575757575757576,
          8.651515151515152,
          8.727272727272727,
          8.803030303030303,
          8.878787878787879,
          8.954545454545453,
          9.030303030303031,
          9.106060606060606,
          9.181818181818183,
          9.257575757575758,
          9.333333333333334,
          9.40909090909091,
          9.484848484848484,
          9.56060606060606,
          9.636363636363637,
          9.712121212121211,
          9.787878787878789,
          9.863636363636363,
          9.93939393939394,
          10.015151515151516,
          10.09090909090909,
          10.166666666666668,
          10.242424242424242,
          10.318181818181818,
          10.393939393939394,
          10.46969696969697,
          10.545454545454547,
          10.621212121212121,
          10.696969696969697,
          10.772727272727273,
          10.848484848484848,
          10.924242424242424,
          11
         ],
         "yaxis": "y"
        },
        {
         "hovertemplate": "label=Above<br>x=%{x}<br>y=%{y}<extra></extra>",
         "legendgroup": "Above",
         "marker": {
          "color": "#EF553B",
          "symbol": "circle"
         },
         "mode": "markers",
         "name": "Above",
         "orientation": "v",
         "showlegend": true,
         "type": "scatter",
         "x": [
          0.2,
          0.6
         ],
         "xaxis": "x",
         "y": [
          8.5,
          9.5
         ],
         "yaxis": "y"
        },
        {
         "hovertemplate": "label=Below<br>x=%{x}<br>y=%{y}<extra></extra>",
         "legendgroup": "Below",
         "marker": {
          "color": "#00cc96",
          "symbol": "circle"
         },
         "mode": "markers",
         "name": "Below",
         "orientation": "v",
         "showlegend": true,
         "type": "scatter",
         "x": [
          0.2,
          0.6
         ],
         "xaxis": "x",
         "y": [
          4.5,
          5.5
         ],
         "yaxis": "y"
        }
       ],
       "layout": {
        "autosize": true,
        "legend": {
         "title": {
          "text": "label"
         },
         "tracegroupgap": 0
        },
        "margin": {
         "t": 60
        },
        "template": {
         "data": {
          "bar": [
           {
            "error_x": {
             "color": "#2a3f5f"
            },
            "error_y": {
             "color": "#2a3f5f"
            },
            "marker": {
             "line": {
              "color": "#E5ECF6",
              "width": 0.5
             },
             "pattern": {
              "fillmode": "overlay",
              "size": 10,
              "solidity": 0.2
             }
            },
            "type": "bar"
           }
          ],
          "barpolar": [
           {
            "marker": {
             "line": {
              "color": "#E5ECF6",
              "width": 0.5
             },
             "pattern": {
              "fillmode": "overlay",
              "size": 10,
              "solidity": 0.2
             }
            },
            "type": "barpolar"
           }
          ],
          "carpet": [
           {
            "aaxis": {
             "endlinecolor": "#2a3f5f",
             "gridcolor": "white",
             "linecolor": "white",
             "minorgridcolor": "white",
             "startlinecolor": "#2a3f5f"
            },
            "baxis": {
             "endlinecolor": "#2a3f5f",
             "gridcolor": "white",
             "linecolor": "white",
             "minorgridcolor": "white",
             "startlinecolor": "#2a3f5f"
            },
            "type": "carpet"
           }
          ],
          "choropleth": [
           {
            "colorbar": {
             "outlinewidth": 0,
             "ticks": ""
            },
            "type": "choropleth"
           }
          ],
          "contour": [
           {
            "colorbar": {
             "outlinewidth": 0,
             "ticks": ""
            },
            "colorscale": [
             [
              0,
              "#0d0887"
             ],
             [
              0.1111111111111111,
              "#46039f"
             ],
             [
              0.2222222222222222,
              "#7201a8"
             ],
             [
              0.3333333333333333,
              "#9c179e"
             ],
             [
              0.4444444444444444,
              "#bd3786"
             ],
             [
              0.5555555555555556,
              "#d8576b"
             ],
             [
              0.6666666666666666,
              "#ed7953"
             ],
             [
              0.7777777777777778,
              "#fb9f3a"
             ],
             [
              0.8888888888888888,
              "#fdca26"
             ],
             [
              1,
              "#f0f921"
             ]
            ],
            "type": "contour"
           }
          ],
          "contourcarpet": [
           {
            "colorbar": {
             "outlinewidth": 0,
             "ticks": ""
            },
            "type": "contourcarpet"
           }
          ],
          "heatmap": [
           {
            "colorbar": {
             "outlinewidth": 0,
             "ticks": ""
            },
            "colorscale": [
             [
              0,
              "#0d0887"
             ],
             [
              0.1111111111111111,
              "#46039f"
             ],
             [
              0.2222222222222222,
              "#7201a8"
             ],
             [
              0.3333333333333333,
              "#9c179e"
             ],
             [
              0.4444444444444444,
              "#bd3786"
             ],
             [
              0.5555555555555556,
              "#d8576b"
             ],
             [
              0.6666666666666666,
              "#ed7953"
             ],
             [
              0.7777777777777778,
              "#fb9f3a"
             ],
             [
              0.8888888888888888,
              "#fdca26"
             ],
             [
              1,
              "#f0f921"
             ]
            ],
            "type": "heatmap"
           }
          ],
          "heatmapgl": [
           {
            "colorbar": {
             "outlinewidth": 0,
             "ticks": ""
            },
            "colorscale": [
             [
              0,
              "#0d0887"
             ],
             [
              0.1111111111111111,
              "#46039f"
             ],
             [
              0.2222222222222222,
              "#7201a8"
             ],
             [
              0.3333333333333333,
              "#9c179e"
             ],
             [
              0.4444444444444444,
              "#bd3786"
             ],
             [
              0.5555555555555556,
              "#d8576b"
             ],
             [
              0.6666666666666666,
              "#ed7953"
             ],
             [
              0.7777777777777778,
              "#fb9f3a"
             ],
             [
              0.8888888888888888,
              "#fdca26"
             ],
             [
              1,
              "#f0f921"
             ]
            ],
            "type": "heatmapgl"
           }
          ],
          "histogram": [
           {
            "marker": {
             "pattern": {
              "fillmode": "overlay",
              "size": 10,
              "solidity": 0.2
             }
            },
            "type": "histogram"
           }
          ],
          "histogram2d": [
           {
            "colorbar": {
             "outlinewidth": 0,
             "ticks": ""
            },
            "colorscale": [
             [
              0,
              "#0d0887"
             ],
             [
              0.1111111111111111,
              "#46039f"
             ],
             [
              0.2222222222222222,
              "#7201a8"
             ],
             [
              0.3333333333333333,
              "#9c179e"
             ],
             [
              0.4444444444444444,
              "#bd3786"
             ],
             [
              0.5555555555555556,
              "#d8576b"
             ],
             [
              0.6666666666666666,
              "#ed7953"
             ],
             [
              0.7777777777777778,
              "#fb9f3a"
             ],
             [
              0.8888888888888888,
              "#fdca26"
             ],
             [
              1,
              "#f0f921"
             ]
            ],
            "type": "histogram2d"
           }
          ],
          "histogram2dcontour": [
           {
            "colorbar": {
             "outlinewidth": 0,
             "ticks": ""
            },
            "colorscale": [
             [
              0,
              "#0d0887"
             ],
             [
              0.1111111111111111,
              "#46039f"
             ],
             [
              0.2222222222222222,
              "#7201a8"
             ],
             [
              0.3333333333333333,
              "#9c179e"
             ],
             [
              0.4444444444444444,
              "#bd3786"
             ],
             [
              0.5555555555555556,
              "#d8576b"
             ],
             [
              0.6666666666666666,
              "#ed7953"
             ],
             [
              0.7777777777777778,
              "#fb9f3a"
             ],
             [
              0.8888888888888888,
              "#fdca26"
             ],
             [
              1,
              "#f0f921"
             ]
            ],
            "type": "histogram2dcontour"
           }
          ],
          "mesh3d": [
           {
            "colorbar": {
             "outlinewidth": 0,
             "ticks": ""
            },
            "type": "mesh3d"
           }
          ],
          "parcoords": [
           {
            "line": {
             "colorbar": {
              "outlinewidth": 0,
              "ticks": ""
             }
            },
            "type": "parcoords"
           }
          ],
          "pie": [
           {
            "automargin": true,
            "type": "pie"
           }
          ],
          "scatter": [
           {
            "fillpattern": {
             "fillmode": "overlay",
             "size": 10,
             "solidity": 0.2
            },
            "type": "scatter"
           }
          ],
          "scatter3d": [
           {
            "line": {
             "colorbar": {
              "outlinewidth": 0,
              "ticks": ""
             }
            },
            "marker": {
             "colorbar": {
              "outlinewidth": 0,
              "ticks": ""
             }
            },
            "type": "scatter3d"
           }
          ],
          "scattercarpet": [
           {
            "marker": {
             "colorbar": {
              "outlinewidth": 0,
              "ticks": ""
             }
            },
            "type": "scattercarpet"
           }
          ],
          "scattergeo": [
           {
            "marker": {
             "colorbar": {
              "outlinewidth": 0,
              "ticks": ""
             }
            },
            "type": "scattergeo"
           }
          ],
          "scattergl": [
           {
            "marker": {
             "colorbar": {
              "outlinewidth": 0,
              "ticks": ""
             }
            },
            "type": "scattergl"
           }
          ],
          "scattermapbox": [
           {
            "marker": {
             "colorbar": {
              "outlinewidth": 0,
              "ticks": ""
             }
            },
            "type": "scattermapbox"
           }
          ],
          "scatterpolar": [
           {
            "marker": {
             "colorbar": {
              "outlinewidth": 0,
              "ticks": ""
             }
            },
            "type": "scatterpolar"
           }
          ],
          "scatterpolargl": [
           {
            "marker": {
             "colorbar": {
              "outlinewidth": 0,
              "ticks": ""
             }
            },
            "type": "scatterpolargl"
           }
          ],
          "scatterternary": [
           {
            "marker": {
             "colorbar": {
              "outlinewidth": 0,
              "ticks": ""
             }
            },
            "type": "scatterternary"
           }
          ],
          "surface": [
           {
            "colorbar": {
             "outlinewidth": 0,
             "ticks": ""
            },
            "colorscale": [
             [
              0,
              "#0d0887"
             ],
             [
              0.1111111111111111,
              "#46039f"
             ],
             [
              0.2222222222222222,
              "#7201a8"
             ],
             [
              0.3333333333333333,
              "#9c179e"
             ],
             [
              0.4444444444444444,
              "#bd3786"
             ],
             [
              0.5555555555555556,
              "#d8576b"
             ],
             [
              0.6666666666666666,
              "#ed7953"
             ],
             [
              0.7777777777777778,
              "#fb9f3a"
             ],
             [
              0.8888888888888888,
              "#fdca26"
             ],
             [
              1,
              "#f0f921"
             ]
            ],
            "type": "surface"
           }
          ],
          "table": [
           {
            "cells": {
             "fill": {
              "color": "#EBF0F8"
             },
             "line": {
              "color": "white"
             }
            },
            "header": {
             "fill": {
              "color": "#C8D4E3"
             },
             "line": {
              "color": "white"
             }
            },
            "type": "table"
           }
          ]
         },
         "layout": {
          "annotationdefaults": {
           "arrowcolor": "#2a3f5f",
           "arrowhead": 0,
           "arrowwidth": 1
          },
          "autotypenumbers": "strict",
          "coloraxis": {
           "colorbar": {
            "outlinewidth": 0,
            "ticks": ""
           }
          },
          "colorscale": {
           "diverging": [
            [
             0,
             "#8e0152"
            ],
            [
             0.1,
             "#c51b7d"
            ],
            [
             0.2,
             "#de77ae"
            ],
            [
             0.3,
             "#f1b6da"
            ],
            [
             0.4,
             "#fde0ef"
            ],
            [
             0.5,
             "#f7f7f7"
            ],
            [
             0.6,
             "#e6f5d0"
            ],
            [
             0.7,
             "#b8e186"
            ],
            [
             0.8,
             "#7fbc41"
            ],
            [
             0.9,
             "#4d9221"
            ],
            [
             1,
             "#276419"
            ]
           ],
           "sequential": [
            [
             0,
             "#0d0887"
            ],
            [
             0.1111111111111111,
             "#46039f"
            ],
            [
             0.2222222222222222,
             "#7201a8"
            ],
            [
             0.3333333333333333,
             "#9c179e"
            ],
            [
             0.4444444444444444,
             "#bd3786"
            ],
            [
             0.5555555555555556,
             "#d8576b"
            ],
            [
             0.6666666666666666,
             "#ed7953"
            ],
            [
             0.7777777777777778,
             "#fb9f3a"
            ],
            [
             0.8888888888888888,
             "#fdca26"
            ],
            [
             1,
             "#f0f921"
            ]
           ],
           "sequentialminus": [
            [
             0,
             "#0d0887"
            ],
            [
             0.1111111111111111,
             "#46039f"
            ],
            [
             0.2222222222222222,
             "#7201a8"
            ],
            [
             0.3333333333333333,
             "#9c179e"
            ],
            [
             0.4444444444444444,
             "#bd3786"
            ],
            [
             0.5555555555555556,
             "#d8576b"
            ],
            [
             0.6666666666666666,
             "#ed7953"
            ],
            [
             0.7777777777777778,
             "#fb9f3a"
            ],
            [
             0.8888888888888888,
             "#fdca26"
            ],
            [
             1,
             "#f0f921"
            ]
           ]
          },
          "colorway": [
           "#636efa",
           "#EF553B",
           "#00cc96",
           "#ab63fa",
           "#FFA15A",
           "#19d3f3",
           "#FF6692",
           "#B6E880",
           "#FF97FF",
           "#FECB52"
          ],
          "font": {
           "color": "#2a3f5f"
          },
          "geo": {
           "bgcolor": "white",
           "lakecolor": "white",
           "landcolor": "#E5ECF6",
           "showlakes": true,
           "showland": true,
           "subunitcolor": "white"
          },
          "hoverlabel": {
           "align": "left"
          },
          "hovermode": "closest",
          "mapbox": {
           "style": "light"
          },
          "paper_bgcolor": "white",
          "plot_bgcolor": "#E5ECF6",
          "polar": {
           "angularaxis": {
            "gridcolor": "white",
            "linecolor": "white",
            "ticks": ""
           },
           "bgcolor": "#E5ECF6",
           "radialaxis": {
            "gridcolor": "white",
            "linecolor": "white",
            "ticks": ""
           }
          },
          "scene": {
           "xaxis": {
            "backgroundcolor": "#E5ECF6",
            "gridcolor": "white",
            "gridwidth": 2,
            "linecolor": "white",
            "showbackground": true,
            "ticks": "",
            "zerolinecolor": "white"
           },
           "yaxis": {
            "backgroundcolor": "#E5ECF6",
            "gridcolor": "white",
            "gridwidth": 2,
            "linecolor": "white",
            "showbackground": true,
            "ticks": "",
            "zerolinecolor": "white"
           },
           "zaxis": {
            "backgroundcolor": "#E5ECF6",
            "gridcolor": "white",
            "gridwidth": 2,
            "linecolor": "white",
            "showbackground": true,
            "ticks": "",
            "zerolinecolor": "white"
           }
          },
          "shapedefaults": {
           "line": {
            "color": "#2a3f5f"
           }
          },
          "ternary": {
           "aaxis": {
            "gridcolor": "white",
            "linecolor": "white",
            "ticks": ""
           },
           "baxis": {
            "gridcolor": "white",
            "linecolor": "white",
            "ticks": ""
           },
           "bgcolor": "#E5ECF6",
           "caxis": {
            "gridcolor": "white",
            "linecolor": "white",
            "ticks": ""
           }
          },
          "title": {
           "x": 0.05
          },
          "xaxis": {
           "automargin": true,
           "gridcolor": "white",
           "linecolor": "white",
           "ticks": "",
           "title": {
            "standoff": 15
           },
           "zerolinecolor": "white",
           "zerolinewidth": 2
          },
          "yaxis": {
           "automargin": true,
           "gridcolor": "white",
           "linecolor": "white",
           "ticks": "",
           "title": {
            "standoff": 15
           },
           "zerolinecolor": "white",
           "zerolinewidth": 2
          }
         }
        },
        "xaxis": {
         "anchor": "y",
         "autorange": true,
         "domain": [
          0,
          1
         ],
         "range": [
          -1.1813846697280113,
          2.1813846697280113
         ],
         "title": {
          "text": "x"
         },
         "type": "linear"
        },
        "yaxis": {
         "anchor": "x",
         "autorange": true,
         "domain": [
          0,
          1
         ],
         "range": [
          2.9192913385826773,
          11.580708661417322
         ],
         "title": {
          "text": "y"
         },
         "type": "linear"
        }
       }
      },
      "image/png": "[encoded data removed]",
      "text/html": [
       "<div>                            <div id=\"cfe186ce-fb1d-422f-be74-e7ddbbd04e4e\" class=\"plotly-graph-div\" style=\"height:525px; width:100%;\"></div>            <script type=\"text/javascript\">                require([\"plotly\"], function(Plotly) {                    window.PLOTLYENV=window.PLOTLYENV || {};                                    if (document.getElementById(\"cfe186ce-fb1d-422f-be74-e7ddbbd04e4e\")) {                    Plotly.newPlot(                        \"cfe186ce-fb1d-422f-be74-e7ddbbd04e4e\",                        [{\"hovertemplate\":\"label=on_line<br>x=%{x}<br>y=%{y}<extra></extra>\",\"legendgroup\":\"on_line\",\"marker\":{\"color\":\"#636efa\",\"symbol\":\"circle\"},\"mode\":\"markers\",\"name\":\"on_line\",\"orientation\":\"v\",\"showlegend\":true,\"x\":[-1.0,-0.9696969696969697,-0.9393939393939394,-0.9090909090909091,-0.8787878787878788,-0.8484848484848485,-0.8181818181818181,-0.7878787878787878,-0.7575757575757576,-0.7272727272727273,-0.696969696969697,-0.6666666666666666,-0.6363636363636364,-0.6060606060606061,-0.5757575757575757,-0.5454545454545454,-0.5151515151515151,-0.48484848484848486,-0.4545454545454546,-0.4242424242424242,-0.3939393939393939,-0.36363636363636365,-0.33333333333333326,-0.303030303030303,-0.2727272727272727,-0.24242424242424243,-0.21212121212121215,-0.18181818181818177,-0.1515151515151515,-0.12121212121212122,-0.09090909090909083,-0.06060606060606055,-0.030303030303030276,0.0,0.030303030303030276,0.06060606060606055,0.09090909090909083,0.12121212121212133,0.1515151515151516,0.18181818181818188,0.21212121212121215,0.24242424242424243,0.2727272727272727,0.303030303030303,0.3333333333333335,0.36363636363636376,0.39393939393939403,0.4242424242424243,0.4545454545454546,0.48484848484848486,0.5151515151515151,0.5454545454545454,0.5757575757575757,0.6060606060606062,0.6363636363636365,0.6666666666666667,0.696969696969697,0.7272727272727273,0.7575757575757576,0.7878787878787878,0.8181818181818183,0.8484848484848486,0.8787878787878789,0.9090909090909092,0.9393939393939394,0.9696969696969697,1.0,1.0303030303030303,1.0606060606060606,1.0909090909090908,1.121212121212121,1.1515151515151514,1.1818181818181817,1.2121212121212124,1.2424242424242427,1.272727272727273,1.3030303030303032,1.3333333333333335,1.3636363636363638,1.393939393939394,1.4242424242424243,1.4545454545454546,1.4848484848484849,1.5151515151515151,1.5454545454545454,1.5757575757575757,1.606060606060606,1.6363636363636362,1.666666666666667,1.6969696969696972,1.7272727272727275,1.7575757575757578,1.787878787878788,1.8181818181818183,1.8484848484848486,1.878787878787879,1.9090909090909092,1.9393939393939394,1.9696969696969697,2.0],\"xaxis\":\"x\",\"y\":[3.5,3.5757575757575757,3.6515151515151514,3.7272727272727275,3.803030303030303,3.878787878787879,3.9545454545454546,4.03030303030303,4.1060606060606055,4.181818181818182,4.257575757575758,4.333333333333334,4.409090909090909,4.484848484848484,4.5606060606060606,4.636363636363637,4.712121212121212,4.787878787878788,4.863636363636363,4.9393939393939394,5.015151515151516,5.090909090909091,5.166666666666667,5.242424242424242,5.318181818181818,5.393939393939394,5.46969696969697,5.545454545454546,5.621212121212121,5.696969696969697,5.772727272727273,5.848484848484849,5.924242424242424,6.0,6.075757575757576,6.151515151515151,6.227272727272727,6.303030303030304,6.378787878787879,6.454545454545455,6.53030303030303,6.606060606060606,6.681818181818182,6.757575757575758,6.833333333333334,6.909090909090909,6.984848484848485,7.0606060606060606,7.136363636363637,7.212121212121212,7.287878787878788,7.363636363636363,7.4393939393939394,7.515151515151516,7.590909090909092,7.666666666666667,7.742424242424242,7.818181818181818,7.8939393939393945,7.96969696969697,8.045454545454547,8.121212121212121,8.196969696969697,8.272727272727273,8.348484848484848,8.424242424242424,8.5,8.575757575757576,8.651515151515152,8.727272727272727,8.803030303030303,8.878787878787879,8.954545454545453,9.030303030303031,9.106060606060606,9.181818181818183,9.257575757575758,9.333333333333334,9.40909090909091,9.484848484848484,9.56060606060606,9.636363636363637,9.712121212121211,9.787878787878789,9.863636363636363,9.93939393939394,10.015151515151516,10.09090909090909,10.166666666666668,10.242424242424242,10.318181818181818,10.393939393939394,10.46969696969697,10.545454545454547,10.621212121212121,10.696969696969697,10.772727272727273,10.848484848484848,10.924242424242424,11.0],\"yaxis\":\"y\",\"type\":\"scatter\"},{\"hovertemplate\":\"label=Above<br>x=%{x}<br>y=%{y}<extra></extra>\",\"legendgroup\":\"Above\",\"marker\":{\"color\":\"#EF553B\",\"symbol\":\"circle\"},\"mode\":\"markers\",\"name\":\"Above\",\"orientation\":\"v\",\"showlegend\":true,\"x\":[0.2,0.6],\"xaxis\":\"x\",\"y\":[8.5,9.5],\"yaxis\":\"y\",\"type\":\"scatter\"},{\"hovertemplate\":\"label=Below<br>x=%{x}<br>y=%{y}<extra></extra>\",\"legendgroup\":\"Below\",\"marker\":{\"color\":\"#00cc96\",\"symbol\":\"circle\"},\"mode\":\"markers\",\"name\":\"Below\",\"orientation\":\"v\",\"showlegend\":true,\"x\":[0.2,0.6],\"xaxis\":\"x\",\"y\":[4.5,5.5],\"yaxis\":\"y\",\"type\":\"scatter\"}],                        {\"template\":{\"data\":{\"histogram2dcontour\":[{\"type\":\"histogram2dcontour\",\"colorbar\":{\"outlinewidth\":0,\"ticks\":\"\"},\"colorscale\":[[0.0,\"#0d0887\"],[0.1111111111111111,\"#46039f\"],[0.2222222222222222,\"#7201a8\"],[0.3333333333333333,\"#9c179e\"],[0.4444444444444444,\"#bd3786\"],[0.5555555555555556,\"#d8576b\"],[0.6666666666666666,\"#ed7953\"],[0.7777777777777778,\"#fb9f3a\"],[0.8888888888888888,\"#fdca26\"],[1.0,\"#f0f921\"]]}],\"choropleth\":[{\"type\":\"choropleth\",\"colorbar\":{\"outlinewidth\":0,\"ticks\":\"\"}}],\"histogram2d\":[{\"type\":\"histogram2d\",\"colorbar\":{\"outlinewidth\":0,\"ticks\":\"\"},\"colorscale\":[[0.0,\"#0d0887\"],[0.1111111111111111,\"#46039f\"],[0.2222222222222222,\"#7201a8\"],[0.3333333333333333,\"#9c179e\"],[0.4444444444444444,\"#bd3786\"],[0.5555555555555556,\"#d8576b\"],[0.6666666666666666,\"#ed7953\"],[0.7777777777777778,\"#fb9f3a\"],[0.8888888888888888,\"#fdca26\"],[1.0,\"#f0f921\"]]}],\"heatmap\":[{\"type\":\"heatmap\",\"colorbar\":{\"outlinewidth\":0,\"ticks\":\"\"},\"colorscale\":[[0.0,\"#0d0887\"],[0.1111111111111111,\"#46039f\"],[0.2222222222222222,\"#7201a8\"],[0.3333333333333333,\"#9c179e\"],[0.4444444444444444,\"#bd3786\"],[0.5555555555555556,\"#d8576b\"],[0.6666666666666666,\"#ed7953\"],[0.7777777777777778,\"#fb9f3a\"],[0.8888888888888888,\"#fdca26\"],[1.0,\"#f0f921\"]]}],\"heatmapgl\":[{\"type\":\"heatmapgl\",\"colorbar\":{\"outlinewidth\":0,\"ticks\":\"\"},\"colorscale\":[[0.0,\"#0d0887\"],[0.1111111111111111,\"#46039f\"],[0.2222222222222222,\"#7201a8\"],[0.3333333333333333,\"#9c179e\"],[0.4444444444444444,\"#bd3786\"],[0.5555555555555556,\"#d8576b\"],[0.6666666666666666,\"#ed7953\"],[0.7777777777777778,\"#fb9f3a\"],[0.8888888888888888,\"#fdca26\"],[1.0,\"#f0f921\"]]}],\"contourcarpet\":[{\"type\":\"contourcarpet\",\"colorbar\":{\"outlinewidth\":0,\"ticks\":\"\"}}],\"contour\":[{\"type\":\"contour\",\"colorbar\":{\"outlinewidth\":0,\"ticks\":\"\"},\"colorscale\":[[0.0,\"#0d0887\"],[0.1111111111111111,\"#46039f\"],[0.2222222222222222,\"#7201a8\"],[0.3333333333333333,\"#9c179e\"],[0.4444444444444444,\"#bd3786\"],[0.5555555555555556,\"#d8576b\"],[0.6666666666666666,\"#ed7953\"],[0.7777777777777778,\"#fb9f3a\"],[0.8888888888888888,\"#fdca26\"],[1.0,\"#f0f921\"]]}],\"surface\":[{\"type\":\"surface\",\"colorbar\":{\"outlinewidth\":0,\"ticks\":\"\"},\"colorscale\":[[0.0,\"#0d0887\"],[0.1111111111111111,\"#46039f\"],[0.2222222222222222,\"#7201a8\"],[0.3333333333333333,\"#9c179e\"],[0.4444444444444444,\"#bd3786\"],[0.5555555555555556,\"#d8576b\"],[0.6666666666666666,\"#ed7953\"],[0.7777777777777778,\"#fb9f3a\"],[0.8888888888888888,\"#fdca26\"],[1.0,\"#f0f921\"]]}],\"mesh3d\":[{\"type\":\"mesh3d\",\"colorbar\":{\"outlinewidth\":0,\"ticks\":\"\"}}],\"scatter\":[{\"fillpattern\":{\"fillmode\":\"overlay\",\"size\":10,\"solidity\":0.2},\"type\":\"scatter\"}],\"parcoords\":[{\"type\":\"parcoords\",\"line\":{\"colorbar\":{\"outlinewidth\":0,\"ticks\":\"\"}}}],\"scatterpolargl\":[{\"type\":\"scatterpolargl\",\"marker\":{\"colorbar\":{\"outlinewidth\":0,\"ticks\":\"\"}}}],\"bar\":[{\"error_x\":{\"color\":\"#2a3f5f\"},\"error_y\":{\"color\":\"#2a3f5f\"},\"marker\":{\"line\":{\"color\":\"#E5ECF6\",\"width\":0.5},\"pattern\":{\"fillmode\":\"overlay\",\"size\":10,\"solidity\":0.2}},\"type\":\"bar\"}],\"scattergeo\":[{\"type\":\"scattergeo\",\"marker\":{\"colorbar\":{\"outlinewidth\":0,\"ticks\":\"\"}}}],\"scatterpolar\":[{\"type\":\"scatterpolar\",\"marker\":{\"colorbar\":{\"outlinewidth\":0,\"ticks\":\"\"}}}],\"histogram\":[{\"marker\":{\"pattern\":{\"fillmode\":\"overlay\",\"size\":10,\"solidity\":0.2}},\"type\":\"histogram\"}],\"scattergl\":[{\"type\":\"scattergl\",\"marker\":{\"colorbar\":{\"outlinewidth\":0,\"ticks\":\"\"}}}],\"scatter3d\":[{\"type\":\"scatter3d\",\"line\":{\"colorbar\":{\"outlinewidth\":0,\"ticks\":\"\"}},\"marker\":{\"colorbar\":{\"outlinewidth\":0,\"ticks\":\"\"}}}],\"scattermapbox\":[{\"type\":\"scattermapbox\",\"marker\":{\"colorbar\":{\"outlinewidth\":0,\"ticks\":\"\"}}}],\"scatterternary\":[{\"type\":\"scatterternary\",\"marker\":{\"colorbar\":{\"outlinewidth\":0,\"ticks\":\"\"}}}],\"scattercarpet\":[{\"type\":\"scattercarpet\",\"marker\":{\"colorbar\":{\"outlinewidth\":0,\"ticks\":\"\"}}}],\"carpet\":[{\"aaxis\":{\"endlinecolor\":\"#2a3f5f\",\"gridcolor\":\"white\",\"linecolor\":\"white\",\"minorgridcolor\":\"white\",\"startlinecolor\":\"#2a3f5f\"},\"baxis\":{\"endlinecolor\":\"#2a3f5f\",\"gridcolor\":\"white\",\"linecolor\":\"white\",\"minorgridcolor\":\"white\",\"startlinecolor\":\"#2a3f5f\"},\"type\":\"carpet\"}],\"table\":[{\"cells\":{\"fill\":{\"color\":\"#EBF0F8\"},\"line\":{\"color\":\"white\"}},\"header\":{\"fill\":{\"color\":\"#C8D4E3\"},\"line\":{\"color\":\"white\"}},\"type\":\"table\"}],\"barpolar\":[{\"marker\":{\"line\":{\"color\":\"#E5ECF6\",\"width\":0.5},\"pattern\":{\"fillmode\":\"overlay\",\"size\":10,\"solidity\":0.2}},\"type\":\"barpolar\"}],\"pie\":[{\"automargin\":true,\"type\":\"pie\"}]},\"layout\":{\"autotypenumbers\":\"strict\",\"colorway\":[\"#636efa\",\"#EF553B\",\"#00cc96\",\"#ab63fa\",\"#FFA15A\",\"#19d3f3\",\"#FF6692\",\"#B6E880\",\"#FF97FF\",\"#FECB52\"],\"font\":{\"color\":\"#2a3f5f\"},\"hovermode\":\"closest\",\"hoverlabel\":{\"align\":\"left\"},\"paper_bgcolor\":\"white\",\"plot_bgcolor\":\"#E5ECF6\",\"polar\":{\"bgcolor\":\"#E5ECF6\",\"angularaxis\":{\"gridcolor\":\"white\",\"linecolor\":\"white\",\"ticks\":\"\"},\"radialaxis\":{\"gridcolor\":\"white\",\"linecolor\":\"white\",\"ticks\":\"\"}},\"ternary\":{\"bgcolor\":\"#E5ECF6\",\"aaxis\":{\"gridcolor\":\"white\",\"linecolor\":\"white\",\"ticks\":\"\"},\"baxis\":{\"gridcolor\":\"white\",\"linecolor\":\"white\",\"ticks\":\"\"},\"caxis\":{\"gridcolor\":\"white\",\"linecolor\":\"white\",\"ticks\":\"\"}},\"coloraxis\":{\"colorbar\":{\"outlinewidth\":0,\"ticks\":\"\"}},\"colorscale\":{\"sequential\":[[0.0,\"#0d0887\"],[0.1111111111111111,\"#46039f\"],[0.2222222222222222,\"#7201a8\"],[0.3333333333333333,\"#9c179e\"],[0.4444444444444444,\"#bd3786\"],[0.5555555555555556,\"#d8576b\"],[0.6666666666666666,\"#ed7953\"],[0.7777777777777778,\"#fb9f3a\"],[0.8888888888888888,\"#fdca26\"],[1.0,\"#f0f921\"]],\"sequentialminus\":[[0.0,\"#0d0887\"],[0.1111111111111111,\"#46039f\"],[0.2222222222222222,\"#7201a8\"],[0.3333333333333333,\"#9c179e\"],[0.4444444444444444,\"#bd3786\"],[0.5555555555555556,\"#d8576b\"],[0.6666666666666666,\"#ed7953\"],[0.7777777777777778,\"#fb9f3a\"],[0.8888888888888888,\"#fdca26\"],[1.0,\"#f0f921\"]],\"diverging\":[[0,\"#8e0152\"],[0.1,\"#c51b7d\"],[0.2,\"#de77ae\"],[0.3,\"#f1b6da\"],[0.4,\"#fde0ef\"],[0.5,\"#f7f7f7\"],[0.6,\"#e6f5d0\"],[0.7,\"#b8e186\"],[0.8,\"#7fbc41\"],[0.9,\"#4d9221\"],[1,\"#276419\"]]},\"xaxis\":{\"gridcolor\":\"white\",\"linecolor\":\"white\",\"ticks\":\"\",\"title\":{\"standoff\":15},\"zerolinecolor\":\"white\",\"automargin\":true,\"zerolinewidth\":2},\"yaxis\":{\"gridcolor\":\"white\",\"linecolor\":\"white\",\"ticks\":\"\",\"title\":{\"standoff\":15},\"zerolinecolor\":\"white\",\"automargin\":true,\"zerolinewidth\":2},\"scene\":{\"xaxis\":{\"backgroundcolor\":\"#E5ECF6\",\"gridcolor\":\"white\",\"linecolor\":\"white\",\"showbackground\":true,\"ticks\":\"\",\"zerolinecolor\":\"white\",\"gridwidth\":2},\"yaxis\":{\"backgroundcolor\":\"#E5ECF6\",\"gridcolor\":\"white\",\"linecolor\":\"white\",\"showbackground\":true,\"ticks\":\"\",\"zerolinecolor\":\"white\",\"gridwidth\":2},\"zaxis\":{\"backgroundcolor\":\"#E5ECF6\",\"gridcolor\":\"white\",\"linecolor\":\"white\",\"showbackground\":true,\"ticks\":\"\",\"zerolinecolor\":\"white\",\"gridwidth\":2}},\"shapedefaults\":{\"line\":{\"color\":\"#2a3f5f\"}},\"annotationdefaults\":{\"arrowcolor\":\"#2a3f5f\",\"arrowhead\":0,\"arrowwidth\":1},\"geo\":{\"bgcolor\":\"white\",\"landcolor\":\"#E5ECF6\",\"subunitcolor\":\"white\",\"showland\":true,\"showlakes\":true,\"lakecolor\":\"white\"},\"title\":{\"x\":0.05},\"mapbox\":{\"style\":\"light\"}}},\"xaxis\":{\"anchor\":\"y\",\"domain\":[0.0,1.0],\"title\":{\"text\":\"x\"}},\"yaxis\":{\"anchor\":\"x\",\"domain\":[0.0,1.0],\"title\":{\"text\":\"y\"}},\"legend\":{\"title\":{\"text\":\"label\"},\"tracegroupgap\":0},\"margin\":{\"t\":60}},                        {\"responsive\": true}                    ).then(function(){\n",
       "                            \n",
       "var gd = document.getElementById('cfe186ce-fb1d-422f-be74-e7ddbbd04e4e');\n",
       "var x = new MutationObserver(function (mutations, observer) {{\n",
       "        var display = window.getComputedStyle(gd).display;\n",
       "        if (!display || display === 'none') {{\n",
       "            console.log([gd, 'removed!']);\n",
       "            Plotly.purge(gd);\n",
       "            observer.disconnect();\n",
       "        }}\n",
       "}});\n",
       "\n",
       "// Listen for the removal of the full notebook cells\n",
       "var notebookContainer = gd.closest('#notebook-container');\n",
       "if (notebookContainer) {{\n",
       "    x.observe(notebookContainer, {childList: true});\n",
       "}}\n",
       "\n",
       "// Listen for the clearing of the current output cell\n",
       "var outputEl = gd.closest('.output');\n",
       "if (outputEl) {{\n",
       "    x.observe(outputEl, {childList: true});\n",
       "}}\n",
       "\n",
       "                        })                };                });            </script>        </div>"
      ]
     },
     "metadata": {},
     "output_type": "display_data"
    }
   ],
   "source": [
    "px.scatter(data, x='x', y='y', color = 'label')"
   ]
  },
  {
   "cell_type": "code",
   "execution_count": null,
   "id": "1ecdb12a-a0c7-4ace-aef0-c7477027dc2e",
   "metadata": {},
   "outputs": [],
   "source": []
  }
 ],
 "metadata": {
  "kernelspec": {
   "display_name": "Python 3 (ipykernel)",
   "language": "python",
   "name": "python3"
  },
  "language_info": {
   "codemirror_mode": {
    "name": "ipython",
    "version": 3
   },
   "file_extension": ".py",
   "mimetype": "text/x-python",
   "name": "python",
   "nbconvert_exporter": "python",
   "pygments_lexer": "ipython3",
   "version": "3.9.4"
  }
 },
 "nbformat": 4,
 "nbformat_minor": 5
}
