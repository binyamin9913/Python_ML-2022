{
 "cells": [
  {
   "cell_type": "markdown",
   "metadata": {},
   "source": [
    "# Wines Points prediction "
   ]
  },
  {
   "cell_type": "code",
   "execution_count": 1,
   "metadata": {},
   "outputs": [],
   "source": [
    "%load_ext autoreload\n",
    "%autoreload 2\n",
    "import sys; sys.path.append('../')"
   ]
  },
  {
   "cell_type": "markdown",
   "metadata": {},
   "source": [
    "Here we will try to predict the points a wine will get based on known characteristics (i.e. features, in the ML terminology). The mine point in this stage is to establish a simple, ideally super cost effective, basline.\n",
    "In the real world there is a tradeoff between complexity and perforamnce, and the DS job, among others, is to present a tradeoff tables of what performance is achivalbel at what complexity level. \n",
    "\n",
    "to which models with increased complexity and resource demands will be compared. Complexity should then be translated into cost. For example:\n",
    " * Compute cost \n",
    " * Maintenance cost\n",
    " * Serving costs (i.e. is new platform needed?) \n",
    " "
   ]
  },
  {
   "cell_type": "markdown",
   "metadata": {},
   "source": [
    "## Loading the data"
   ]
  },
  {
   "cell_type": "code",
   "execution_count": 2,
   "metadata": {},
   "outputs": [
    {
     "data": {
      "text/html": [
       "        <script type=\"text/javascript\">\n",
       "        window.PlotlyConfig = {MathJaxConfig: 'local'};\n",
       "        if (window.MathJax) {MathJax.Hub.Config({SVG: {font: \"STIX-Web\"}});}\n",
       "        if (typeof require !== 'undefined') {\n",
       "        require.undef(\"plotly\");\n",
       "        requirejs.config({\n",
       "            paths: {\n",
       "                'plotly': ['https://cdn.plot.ly/plotly-2.11.1.min']\n",
       "            }\n",
       "        });\n",
       "        require(['plotly'], function(Plotly) {\n",
       "            window._Plotly = Plotly;\n",
       "        });\n",
       "        }\n",
       "        </script>\n",
       "        "
      ]
     },
     "metadata": {},
     "output_type": "display_data"
    }
   ],
   "source": [
    "import pandas as pd\n",
    "import cufflinks as cf; cf.go_offline()"
   ]
  },
  {
   "cell_type": "code",
   "execution_count": 3,
   "metadata": {},
   "outputs": [
    {
     "data": {
      "text/plain": [
       "(129971, 14)"
      ]
     },
     "execution_count": 3,
     "metadata": {},
     "output_type": "execute_result"
    }
   ],
   "source": [
    "wine_reviews = pd.read_csv(\"data/winemag-data-130k-v2.csv\")\n",
    "wine_reviews.shape"
   ]
  },
  {
   "cell_type": "code",
   "execution_count": 4,
   "metadata": {},
   "outputs": [
    {
     "data": {
      "text/html": [
       "<div>\n",
       "<style scoped>\n",
       "    .dataframe tbody tr th:only-of-type {\n",
       "        vertical-align: middle;\n",
       "    }\n",
       "\n",
       "    .dataframe tbody tr th {\n",
       "        vertical-align: top;\n",
       "    }\n",
       "\n",
       "    .dataframe thead th {\n",
       "        text-align: right;\n",
       "    }\n",
       "</style>\n",
       "<table border=\"1\" class=\"dataframe\">\n",
       "  <thead>\n",
       "    <tr style=\"text-align: right;\">\n",
       "      <th></th>\n",
       "      <th>Unnamed: 0</th>\n",
       "      <th>country</th>\n",
       "      <th>description</th>\n",
       "      <th>designation</th>\n",
       "      <th>points</th>\n",
       "      <th>price</th>\n",
       "      <th>province</th>\n",
       "      <th>region_1</th>\n",
       "      <th>region_2</th>\n",
       "      <th>taster_name</th>\n",
       "      <th>taster_twitter_handle</th>\n",
       "      <th>title</th>\n",
       "      <th>variety</th>\n",
       "      <th>winery</th>\n",
       "    </tr>\n",
       "  </thead>\n",
       "  <tbody>\n",
       "    <tr>\n",
       "      <th>80527</th>\n",
       "      <td>80527</td>\n",
       "      <td>Italy</td>\n",
       "      <td>Sunbaked earth, mature black-skinned berry and...</td>\n",
       "      <td>NaN</td>\n",
       "      <td>88</td>\n",
       "      <td>18.0</td>\n",
       "      <td>Tuscany</td>\n",
       "      <td>Morellino di Scansano</td>\n",
       "      <td>NaN</td>\n",
       "      <td>Kerin O’Keefe</td>\n",
       "      <td>@kerinokeefe</td>\n",
       "      <td>La Selva 2015  Morellino di Scansano</td>\n",
       "      <td>Red Blend</td>\n",
       "      <td>La Selva</td>\n",
       "    </tr>\n",
       "    <tr>\n",
       "      <th>39127</th>\n",
       "      <td>39127</td>\n",
       "      <td>France</td>\n",
       "      <td>Good balance between crisp lemon acidity and r...</td>\n",
       "      <td>Cuvée Tracot</td>\n",
       "      <td>89</td>\n",
       "      <td>19.0</td>\n",
       "      <td>Beaujolais</td>\n",
       "      <td>Beaujolais-Villages</td>\n",
       "      <td>NaN</td>\n",
       "      <td>Roger Voss</td>\n",
       "      <td>@vossroger</td>\n",
       "      <td>Domaine Dubost 2014 Cuvée Tracot  (Beaujolais-...</td>\n",
       "      <td>Chardonnay</td>\n",
       "      <td>Domaine Dubost</td>\n",
       "    </tr>\n",
       "    <tr>\n",
       "      <th>50878</th>\n",
       "      <td>50878</td>\n",
       "      <td>Italy</td>\n",
       "      <td>This generous wine opens with aromas of ripe d...</td>\n",
       "      <td>Praepositus Riserva</td>\n",
       "      <td>90</td>\n",
       "      <td>40.0</td>\n",
       "      <td>Northeastern Italy</td>\n",
       "      <td>Alto Adige</td>\n",
       "      <td>NaN</td>\n",
       "      <td>Kerin O’Keefe</td>\n",
       "      <td>@kerinokeefe</td>\n",
       "      <td>Abbazia di Novacella 2011 Praepositus Riserva ...</td>\n",
       "      <td>Lagrein</td>\n",
       "      <td>Abbazia di Novacella</td>\n",
       "    </tr>\n",
       "    <tr>\n",
       "      <th>76185</th>\n",
       "      <td>76185</td>\n",
       "      <td>US</td>\n",
       "      <td>This is an earthy Pinot Noir with prominent mu...</td>\n",
       "      <td>Estate</td>\n",
       "      <td>84</td>\n",
       "      <td>40.0</td>\n",
       "      <td>California</td>\n",
       "      <td>Santa Lucia Highlands</td>\n",
       "      <td>Central Coast</td>\n",
       "      <td>NaN</td>\n",
       "      <td>NaN</td>\n",
       "      <td>Boekenoogen 2011 Estate Pinot Noir (Santa Luci...</td>\n",
       "      <td>Pinot Noir</td>\n",
       "      <td>Boekenoogen</td>\n",
       "    </tr>\n",
       "    <tr>\n",
       "      <th>125345</th>\n",
       "      <td>125345</td>\n",
       "      <td>US</td>\n",
       "      <td>Bright aromas of peach, lime leaf, jasmine and...</td>\n",
       "      <td>Olsen Vineyard</td>\n",
       "      <td>88</td>\n",
       "      <td>22.0</td>\n",
       "      <td>Washington</td>\n",
       "      <td>Yakima Valley</td>\n",
       "      <td>Columbia Valley</td>\n",
       "      <td>Sean P. Sullivan</td>\n",
       "      <td>@wawinereport</td>\n",
       "      <td>Swiftwater Cellars 2015 Olsen Vineyard Rieslin...</td>\n",
       "      <td>Riesling</td>\n",
       "      <td>Swiftwater Cellars</td>\n",
       "    </tr>\n",
       "  </tbody>\n",
       "</table>\n",
       "</div>"
      ],
      "text/plain": [
       "        Unnamed: 0 country                                        description  \\\n",
       "80527        80527   Italy  Sunbaked earth, mature black-skinned berry and...   \n",
       "39127        39127  France  Good balance between crisp lemon acidity and r...   \n",
       "50878        50878   Italy  This generous wine opens with aromas of ripe d...   \n",
       "76185        76185      US  This is an earthy Pinot Noir with prominent mu...   \n",
       "125345      125345      US  Bright aromas of peach, lime leaf, jasmine and...   \n",
       "\n",
       "                designation  points  price            province  \\\n",
       "80527                   NaN      88   18.0             Tuscany   \n",
       "39127          Cuvée Tracot      89   19.0          Beaujolais   \n",
       "50878   Praepositus Riserva      90   40.0  Northeastern Italy   \n",
       "76185                Estate      84   40.0          California   \n",
       "125345       Olsen Vineyard      88   22.0          Washington   \n",
       "\n",
       "                     region_1         region_2       taster_name  \\\n",
       "80527   Morellino di Scansano              NaN     Kerin O’Keefe   \n",
       "39127     Beaujolais-Villages              NaN        Roger Voss   \n",
       "50878              Alto Adige              NaN     Kerin O’Keefe   \n",
       "76185   Santa Lucia Highlands    Central Coast               NaN   \n",
       "125345          Yakima Valley  Columbia Valley  Sean P. Sullivan   \n",
       "\n",
       "       taster_twitter_handle  \\\n",
       "80527           @kerinokeefe   \n",
       "39127             @vossroger   \n",
       "50878           @kerinokeefe   \n",
       "76185                    NaN   \n",
       "125345         @wawinereport   \n",
       "\n",
       "                                                    title     variety  \\\n",
       "80527                La Selva 2015  Morellino di Scansano   Red Blend   \n",
       "39127   Domaine Dubost 2014 Cuvée Tracot  (Beaujolais-...  Chardonnay   \n",
       "50878   Abbazia di Novacella 2011 Praepositus Riserva ...     Lagrein   \n",
       "76185   Boekenoogen 2011 Estate Pinot Noir (Santa Luci...  Pinot Noir   \n",
       "125345  Swiftwater Cellars 2015 Olsen Vineyard Rieslin...    Riesling   \n",
       "\n",
       "                      winery  \n",
       "80527               La Selva  \n",
       "39127         Domaine Dubost  \n",
       "50878   Abbazia di Novacella  \n",
       "76185            Boekenoogen  \n",
       "125345    Swiftwater Cellars  "
      ]
     },
     "execution_count": 4,
     "metadata": {},
     "output_type": "execute_result"
    }
   ],
   "source": [
    "wine_reviews.sample(5)"
   ]
  },
  {
   "cell_type": "code",
   "execution_count": 5,
   "metadata": {},
   "outputs": [],
   "source": [
    "wine_reviews = wine_reviews.drop(columns=['Unnamed: 0'])"
   ]
  },
  {
   "cell_type": "code",
   "execution_count": 6,
   "metadata": {},
   "outputs": [
    {
     "data": {
      "text/plain": [
       "(119988, 13)"
      ]
     },
     "execution_count": 6,
     "metadata": {},
     "output_type": "execute_result"
    }
   ],
   "source": [
    "wine_reviews = wine_reviews.drop_duplicates()\n",
    "wine_reviews.shape"
   ]
  },
  {
   "cell_type": "code",
   "execution_count": 7,
   "metadata": {},
   "outputs": [
    {
     "data": {
      "text/html": [
       "<div>\n",
       "<style scoped>\n",
       "    .dataframe tbody tr th:only-of-type {\n",
       "        vertical-align: middle;\n",
       "    }\n",
       "\n",
       "    .dataframe tbody tr th {\n",
       "        vertical-align: top;\n",
       "    }\n",
       "\n",
       "    .dataframe thead th {\n",
       "        text-align: right;\n",
       "    }\n",
       "</style>\n",
       "<table border=\"1\" class=\"dataframe\">\n",
       "  <thead>\n",
       "    <tr style=\"text-align: right;\">\n",
       "      <th></th>\n",
       "      <th>country</th>\n",
       "      <th>description</th>\n",
       "      <th>designation</th>\n",
       "      <th>points</th>\n",
       "      <th>price</th>\n",
       "      <th>province</th>\n",
       "      <th>region_1</th>\n",
       "      <th>region_2</th>\n",
       "      <th>taster_name</th>\n",
       "      <th>taster_twitter_handle</th>\n",
       "      <th>title</th>\n",
       "      <th>variety</th>\n",
       "      <th>winery</th>\n",
       "      <th>desc_low</th>\n",
       "    </tr>\n",
       "  </thead>\n",
       "  <tbody>\n",
       "    <tr>\n",
       "      <th>42529</th>\n",
       "      <td>Italy</td>\n",
       "      <td>This passito dessert wine from the island of L...</td>\n",
       "      <td>NaN</td>\n",
       "      <td>90</td>\n",
       "      <td>NaN</td>\n",
       "      <td>Sicily &amp; Sardinia</td>\n",
       "      <td>Malvasia delle Lipari</td>\n",
       "      <td>NaN</td>\n",
       "      <td>NaN</td>\n",
       "      <td>NaN</td>\n",
       "      <td>Cantine Florio 2008  Malvasia delle Lipari</td>\n",
       "      <td>Malvasia</td>\n",
       "      <td>Cantine Florio</td>\n",
       "      <td>this passito dessert wine from the island of l...</td>\n",
       "    </tr>\n",
       "  </tbody>\n",
       "</table>\n",
       "</div>"
      ],
      "text/plain": [
       "      country                                        description designation  \\\n",
       "42529   Italy  This passito dessert wine from the island of L...         NaN   \n",
       "\n",
       "       points  price           province               region_1 region_2  \\\n",
       "42529      90    NaN  Sicily & Sardinia  Malvasia delle Lipari      NaN   \n",
       "\n",
       "      taster_name taster_twitter_handle  \\\n",
       "42529         NaN                   NaN   \n",
       "\n",
       "                                            title   variety          winery  \\\n",
       "42529  Cantine Florio 2008  Malvasia delle Lipari  Malvasia  Cantine Florio   \n",
       "\n",
       "                                                desc_low  \n",
       "42529  this passito dessert wine from the island of l...  "
      ]
     },
     "execution_count": 7,
     "metadata": {},
     "output_type": "execute_result"
    }
   ],
   "source": [
    "wine_reviews['desc_low'] = wine_reviews['description'].str.lower()\n",
    "wine_reviews.sample()"
   ]
  },
  {
   "cell_type": "markdown",
   "metadata": {},
   "source": [
    "## Points prediction"
   ]
  },
  {
   "cell_type": "markdown",
   "metadata": {},
   "source": [
    "Points is descrete value target. There for we are talking about a prediction (Regression) problem (in contrary to classification problem). Prediction solutions can be measured in few metrics:\n",
    "\n",
    "* MSE - [Mean score error](https://en.wikipedia.org/wiki/Mean_squared_error)\n",
    "* R2 - [R Square](https://en.wikipedia.org/wiki/Coefficient_of_determination)\n",
    "* MAE - [Mean absolut error](https://en.wikipedia.org/wiki/Mean_absolute_error)\n",
    "\n",
    "Read more [here](https://towardsdatascience.com/what-are-the-best-metrics-to-evaluate-your-regression-model-418ca481755b)"
   ]
  },
  {
   "cell_type": "markdown",
   "metadata": {},
   "source": [
    "### Train and test set split"
   ]
  },
  {
   "cell_type": "markdown",
   "metadata": {},
   "source": [
    "To properly report results, let's split to train and test datasets:"
   ]
  },
  {
   "cell_type": "code",
   "execution_count": 8,
   "metadata": {},
   "outputs": [],
   "source": [
    "train_data = wine_reviews.sample(frac = 0.8)\n",
    "test_data = wine_reviews[~wine_reviews.index.isin(train_data.index)]\n",
    "assert(len(train_data) + len(test_data) == len(wine_reviews))"
   ]
  },
  {
   "cell_type": "code",
   "execution_count": 9,
   "metadata": {},
   "outputs": [
    {
     "data": {
      "text/plain": [
       "(23998, 95990)"
      ]
     },
     "execution_count": 9,
     "metadata": {},
     "output_type": "execute_result"
    }
   ],
   "source": [
    "len(test_data), len(train_data)"
   ]
  },
  {
   "cell_type": "markdown",
   "metadata": {},
   "source": [
    "### Baselines"
   ]
  },
  {
   "cell_type": "code",
   "execution_count": 10,
   "metadata": {},
   "outputs": [],
   "source": [
    "from sklearn.metrics import mean_absolute_error, mean_squared_error, r2_score"
   ]
  },
  {
   "cell_type": "code",
   "execution_count": 11,
   "metadata": {},
   "outputs": [],
   "source": [
    "def calc_prediction_quality(df, pred_score_col, true_score_col):\n",
    "    return pd.Series({'MSE': mean_squared_error(df[true_score_col], df[pred_score_col]),\n",
    "                      'MAE': mean_absolute_error(df[true_score_col], df[pred_score_col]),\n",
    "                      'R2': r2_score(df[true_score_col], df[pred_score_col])})"
   ]
  },
  {
   "cell_type": "markdown",
   "metadata": {},
   "source": [
    "#### Baseline 1"
   ]
  },
  {
   "cell_type": "markdown",
   "metadata": {},
   "source": [
    "The most basic baseline is simply the average points. The implementaion is as simple as:"
   ]
  },
  {
   "cell_type": "code",
   "execution_count": 12,
   "metadata": {},
   "outputs": [
    {
     "data": {
      "text/plain": [
       "MSE    9.559410\n",
       "MAE    2.534726\n",
       "R2    -0.000087\n",
       "dtype: float64"
      ]
     },
     "execution_count": 12,
     "metadata": {},
     "output_type": "execute_result"
    }
   ],
   "source": [
    "test_data['basiline_1_predicted_points'] = train_data.points.mean()\n",
    "b1_stats = calc_prediction_quality(test_data, 'basiline_1_predicted_points', 'points')\n",
    "b1_stats"
   ]
  },
  {
   "cell_type": "markdown",
   "metadata": {},
   "source": [
    "#### Basline 2"
   ]
  },
  {
   "cell_type": "markdown",
   "metadata": {},
   "source": [
    "We can probably improve by predicting the average score based on the origin country:"
   ]
  },
  {
   "cell_type": "code",
   "execution_count": 13,
   "metadata": {},
   "outputs": [
    {
     "data": {
      "text/plain": [
       "country\n",
       "Argentina                 86.657830\n",
       "Armenia                   87.500000\n",
       "Australia                 88.574504\n",
       "Austria                   90.138797\n",
       "Bosnia and Herzegovina    85.000000\n",
       "Name: points, dtype: float64"
      ]
     },
     "execution_count": 13,
     "metadata": {},
     "output_type": "execute_result"
    }
   ],
   "source": [
    "avg_points_by_country = train_data.groupby('country').points.mean()\n",
    "avg_points_by_country.head()"
   ]
  },
  {
   "cell_type": "code",
   "execution_count": 14,
   "metadata": {},
   "outputs": [
    {
     "data": {
      "text/plain": [
       "MSE    9.052361\n",
       "MAE    2.462888\n",
       "R2     0.052960\n",
       "dtype: float64"
      ]
     },
     "execution_count": 14,
     "metadata": {},
     "output_type": "execute_result"
    }
   ],
   "source": [
    "test_data['basiline_2_predicted_points'] = test_data.country.map(avg_points_by_country).fillna(train_data.points.mean())\n",
    "b2_stats = calc_prediction_quality(test_data, 'basiline_2_predicted_points', 'points')\n",
    "b2_stats"
   ]
  },
  {
   "cell_type": "markdown",
   "metadata": {},
   "source": [
    "#### Baseline 3"
   ]
  },
  {
   "cell_type": "markdown",
   "metadata": {},
   "source": [
    "Adding more breakdowns will increase our granularity but can result in overfitting. Yet:"
   ]
  },
  {
   "cell_type": "code",
   "execution_count": 15,
   "metadata": {},
   "outputs": [
    {
     "data": {
      "text/plain": [
       "country    province        \n",
       "Argentina  Mendoza Province    86.773485\n",
       "           Other               85.960784\n",
       "Armenia    Armenia             87.500000\n",
       "Australia  Australia Other     85.430851\n",
       "           New South Wales     87.455882\n",
       "Name: basiline_3_predicted_points, dtype: float64"
      ]
     },
     "execution_count": 15,
     "metadata": {},
     "output_type": "execute_result"
    }
   ],
   "source": [
    "avg_points_by_country_and_region = train_data.groupby(['country','province']).points.mean().rename('basiline_3_predicted_points')\n",
    "avg_points_by_country_and_region.head()"
   ]
  },
  {
   "cell_type": "code",
   "execution_count": 16,
   "metadata": {},
   "outputs": [
    {
     "data": {
      "text/plain": [
       "((23998, 17), (23998, 16))"
      ]
     },
     "execution_count": 16,
     "metadata": {},
     "output_type": "execute_result"
    }
   ],
   "source": [
    "test_data_with_baseline_3 = test_data.merge(avg_points_by_country_and_region, on = ['country','province'], how='left')\n",
    "test_data_with_baseline_3.basiline_3_predicted_points = test_data_with_baseline_3.basiline_3_predicted_points.fillna(test_data_with_baseline_3.basiline_2_predicted_points).fillna(test_data.basiline_1_predicted_points)\n",
    "test_data_with_baseline_3.shape, test_data.shape"
   ]
  },
  {
   "cell_type": "code",
   "execution_count": 17,
   "metadata": {},
   "outputs": [
    {
     "data": {
      "text/plain": [
       "MSE    8.521883\n",
       "MAE    2.373365\n",
       "R2     0.108457\n",
       "dtype: float64"
      ]
     },
     "execution_count": 17,
     "metadata": {},
     "output_type": "execute_result"
    }
   ],
   "source": [
    "b3_stats = calc_prediction_quality(test_data_with_baseline_3, 'basiline_3_predicted_points', 'points')\n",
    "b3_stats"
   ]
  },
  {
   "cell_type": "markdown",
   "metadata": {},
   "source": [
    "### Baselines summary"
   ]
  },
  {
   "cell_type": "code",
   "execution_count": 18,
   "metadata": {},
   "outputs": [
    {
     "data": {
      "text/html": [
       "<div>\n",
       "<style scoped>\n",
       "    .dataframe tbody tr th:only-of-type {\n",
       "        vertical-align: middle;\n",
       "    }\n",
       "\n",
       "    .dataframe tbody tr th {\n",
       "        vertical-align: top;\n",
       "    }\n",
       "\n",
       "    .dataframe thead th {\n",
       "        text-align: right;\n",
       "    }\n",
       "</style>\n",
       "<table border=\"1\" class=\"dataframe\">\n",
       "  <thead>\n",
       "    <tr style=\"text-align: right;\">\n",
       "      <th></th>\n",
       "      <th>MSE</th>\n",
       "      <th>MAE</th>\n",
       "      <th>R2</th>\n",
       "    </tr>\n",
       "  </thead>\n",
       "  <tbody>\n",
       "    <tr>\n",
       "      <th>baseline_1</th>\n",
       "      <td>9.559410</td>\n",
       "      <td>2.534726</td>\n",
       "      <td>-0.000087</td>\n",
       "    </tr>\n",
       "    <tr>\n",
       "      <th>baseline_2</th>\n",
       "      <td>9.052361</td>\n",
       "      <td>2.462888</td>\n",
       "      <td>0.052960</td>\n",
       "    </tr>\n",
       "    <tr>\n",
       "      <th>baseline_3</th>\n",
       "      <td>8.521883</td>\n",
       "      <td>2.373365</td>\n",
       "      <td>0.108457</td>\n",
       "    </tr>\n",
       "  </tbody>\n",
       "</table>\n",
       "</div>"
      ],
      "text/plain": [
       "                 MSE       MAE        R2\n",
       "baseline_1  9.559410  2.534726 -0.000087\n",
       "baseline_2  9.052361  2.462888  0.052960\n",
       "baseline_3  8.521883  2.373365  0.108457"
      ]
     },
     "execution_count": 18,
     "metadata": {},
     "output_type": "execute_result"
    }
   ],
   "source": [
    "baseline_summary = pd.DataFrame([b1_stats, b2_stats, b3_stats], index=['baseline_1', 'baseline_2','baseline_3'])\n",
    "baseline_summary"
   ]
  },
  {
   "cell_type": "code",
   "execution_count": 19,
   "metadata": {},
   "outputs": [],
   "source": [
    "baseline_summary.to_csv('data/baselines_summary.csv', index=False)"
   ]
  },
  {
   "cell_type": "markdown",
   "metadata": {},
   "source": [
    "## Training a Boosting trees regressor"
   ]
  },
  {
   "cell_type": "code",
   "execution_count": 20,
   "metadata": {},
   "outputs": [],
   "source": [
    "from sklearn.preprocessing import LabelEncoder\n",
    "le = LabelEncoder()"
   ]
  },
  {
   "cell_type": "markdown",
   "metadata": {},
   "source": [
    "#### Preparing data - Lable encoding categorical features"
   ]
  },
  {
   "cell_type": "code",
   "execution_count": 21,
   "metadata": {},
   "outputs": [],
   "source": [
    "categorical_features = ['country','province','region_1','region_2','taster_name','variety','winery']\n",
    "numerical_features = ['price']\n",
    "features = categorical_features + numerical_features"
   ]
  },
  {
   "cell_type": "code",
   "execution_count": 22,
   "metadata": {},
   "outputs": [
    {
     "data": {
      "text/html": [
       "<div>\n",
       "<style scoped>\n",
       "    .dataframe tbody tr th:only-of-type {\n",
       "        vertical-align: middle;\n",
       "    }\n",
       "\n",
       "    .dataframe tbody tr th {\n",
       "        vertical-align: top;\n",
       "    }\n",
       "\n",
       "    .dataframe thead th {\n",
       "        text-align: right;\n",
       "    }\n",
       "</style>\n",
       "<table border=\"1\" class=\"dataframe\">\n",
       "  <thead>\n",
       "    <tr style=\"text-align: right;\">\n",
       "      <th></th>\n",
       "      <th>country</th>\n",
       "      <th>province</th>\n",
       "      <th>region_1</th>\n",
       "      <th>region_2</th>\n",
       "      <th>taster_name</th>\n",
       "      <th>variety</th>\n",
       "      <th>winery</th>\n",
       "      <th>price</th>\n",
       "      <th>points</th>\n",
       "    </tr>\n",
       "  </thead>\n",
       "  <tbody>\n",
       "    <tr>\n",
       "      <th>0</th>\n",
       "      <td>22</td>\n",
       "      <td>332</td>\n",
       "      <td>424</td>\n",
       "      <td>6</td>\n",
       "      <td>9</td>\n",
       "      <td>691</td>\n",
       "      <td>11608</td>\n",
       "      <td>-1.0</td>\n",
       "      <td>87</td>\n",
       "    </tr>\n",
       "    <tr>\n",
       "      <th>1</th>\n",
       "      <td>32</td>\n",
       "      <td>108</td>\n",
       "      <td>738</td>\n",
       "      <td>6</td>\n",
       "      <td>16</td>\n",
       "      <td>451</td>\n",
       "      <td>12956</td>\n",
       "      <td>15.0</td>\n",
       "      <td>87</td>\n",
       "    </tr>\n",
       "    <tr>\n",
       "      <th>2</th>\n",
       "      <td>41</td>\n",
       "      <td>269</td>\n",
       "      <td>1218</td>\n",
       "      <td>17</td>\n",
       "      <td>15</td>\n",
       "      <td>437</td>\n",
       "      <td>13018</td>\n",
       "      <td>14.0</td>\n",
       "      <td>87</td>\n",
       "    </tr>\n",
       "    <tr>\n",
       "      <th>3</th>\n",
       "      <td>41</td>\n",
       "      <td>218</td>\n",
       "      <td>549</td>\n",
       "      <td>6</td>\n",
       "      <td>0</td>\n",
       "      <td>480</td>\n",
       "      <td>14390</td>\n",
       "      <td>13.0</td>\n",
       "      <td>87</td>\n",
       "    </tr>\n",
       "    <tr>\n",
       "      <th>4</th>\n",
       "      <td>41</td>\n",
       "      <td>269</td>\n",
       "      <td>1218</td>\n",
       "      <td>17</td>\n",
       "      <td>15</td>\n",
       "      <td>441</td>\n",
       "      <td>14621</td>\n",
       "      <td>65.0</td>\n",
       "      <td>87</td>\n",
       "    </tr>\n",
       "  </tbody>\n",
       "</table>\n",
       "</div>"
      ],
      "text/plain": [
       "   country  province  region_1  region_2  taster_name  variety  winery  price  \\\n",
       "0       22       332       424         6            9      691   11608   -1.0   \n",
       "1       32       108       738         6           16      451   12956   15.0   \n",
       "2       41       269      1218        17           15      437   13018   14.0   \n",
       "3       41       218       549         6            0      480   14390   13.0   \n",
       "4       41       269      1218        17           15      441   14621   65.0   \n",
       "\n",
       "   points  \n",
       "0      87  \n",
       "1      87  \n",
       "2      87  \n",
       "3      87  \n",
       "4      87  "
      ]
     },
     "execution_count": 22,
     "metadata": {},
     "output_type": "execute_result"
    }
   ],
   "source": [
    "encoded_features = wine_reviews[categorical_features].apply(lambda col: le.fit_transform(col.fillna('NA')))\n",
    "encoded_features['price'] = wine_reviews.price.fillna(-1)\n",
    "encoded_features['points'] = wine_reviews.points\n",
    "encoded_features.head()"
   ]
  },
  {
   "cell_type": "markdown",
   "metadata": {
    "tags": []
   },
   "source": [
    "#### Re-splitting to train and test"
   ]
  },
  {
   "cell_type": "code",
   "execution_count": 23,
   "metadata": {},
   "outputs": [],
   "source": [
    "train_encoded_features = encoded_features[encoded_features.index.isin(train_data.index)]\n",
    "test_encoded_features = encoded_features[encoded_features.index.isin(test_data.index)]\n",
    "assert(len(train_encoded_features) + len(test_encoded_features) == len(wine_reviews))"
   ]
  },
  {
   "cell_type": "markdown",
   "metadata": {},
   "source": [
    "#### Fitting a tree-regressor"
   ]
  },
  {
   "cell_type": "code",
   "execution_count": 24,
   "metadata": {},
   "outputs": [],
   "source": [
    "from src.models import i_feel_lucky_xgboost_training"
   ]
  },
  {
   "cell_type": "code",
   "execution_count": 25,
   "metadata": {},
   "outputs": [
    {
     "name": "stdout",
     "output_type": "stream",
     "text": [
      "<class 'pandas.core.frame.DataFrame'>\n",
      "Int64Index: 95990 entries, 2 to 129970\n",
      "Data columns (total 9 columns):\n",
      " #   Column       Non-Null Count  Dtype  \n",
      "---  ------       --------------  -----  \n",
      " 0   country      95990 non-null  int32  \n",
      " 1   province     95990 non-null  int32  \n",
      " 2   region_1     95990 non-null  int32  \n",
      " 3   region_2     95990 non-null  int32  \n",
      " 4   taster_name  95990 non-null  int32  \n",
      " 5   variety      95990 non-null  int32  \n",
      " 6   winery       95990 non-null  int32  \n",
      " 7   price        95990 non-null  float64\n",
      " 8   points       95990 non-null  int64  \n",
      "dtypes: float64(1), int32(7), int64(1)\n",
      "memory usage: 4.8 MB\n"
     ]
    }
   ],
   "source": [
    "train_encoded_features.info()"
   ]
  },
  {
   "cell_type": "code",
   "execution_count": null,
   "metadata": {
    "tags": []
   },
   "outputs": [],
   "source": [
    "xgb_clf, clf_name = i_feel_lucky_xgboost_training(train_encoded_features, test_encoded_features, features, 'points', name='xgb_clf_points_prediction')"
   ]
  },
  {
   "cell_type": "markdown",
   "metadata": {},
   "source": [
    "Let's look at the function output - specifically the **xgb_clf_points_prediction** column:"
   ]
  },
  {
   "cell_type": "code",
   "execution_count": null,
   "metadata": {},
   "outputs": [],
   "source": [
    "test_encoded_features.head()"
   ]
  },
  {
   "cell_type": "code",
   "execution_count": null,
   "metadata": {},
   "outputs": [],
   "source": [
    "xgb_stats = calc_prediction_quality(test_encoded_features, 'xgb_clf_points_prediction','points')\n",
    "xgb_stats"
   ]
  },
  {
   "cell_type": "code",
   "execution_count": null,
   "metadata": {},
   "outputs": [],
   "source": [
    "all_compared = pd.DataFrame([b1_stats, b2_stats, b3_stats, xgb_stats], index=['baseline_1', 'baseline_2','baseline_3','regression_by_xgb'])\n",
    "all_compared"
   ]
  },
  {
   "cell_type": "code",
   "execution_count": null,
   "metadata": {},
   "outputs": [],
   "source": [
    "all_compared.to_csv('data/all_models_compared.csv', index=False)"
   ]
  },
  {
   "cell_type": "markdown",
   "metadata": {},
   "source": [
    "<br>\n",
    "<br>\n",
    "<br>"
   ]
  },
  {
   "cell_type": "markdown",
   "metadata": {},
   "source": [
    "## Classical NLP approaches"
   ]
  },
  {
   "cell_type": "markdown",
   "metadata": {},
   "source": [
    "### Using only the text from the \"description\" column"
   ]
  },
  {
   "cell_type": "markdown",
   "metadata": {},
   "source": [
    "### Data exploration"
   ]
  },
  {
   "cell_type": "code",
   "execution_count": 61,
   "metadata": {},
   "outputs": [
    {
     "name": "stderr",
     "output_type": "stream",
     "text": [
      "[nltk_data] Downloading package stopwords to\n",
      "[nltk_data]     C:\\Users\\1\\AppData\\Roaming\\nltk_data...\n",
      "[nltk_data]   Package stopwords is already up-to-date!\n"
     ]
    },
    {
     "data": {
      "text/plain": [
       "True"
      ]
     },
     "execution_count": 61,
     "metadata": {},
     "output_type": "execute_result"
    }
   ],
   "source": [
    "import nltk\n",
    "nltk.download('stopwords')"
   ]
  },
  {
   "cell_type": "code",
   "execution_count": 62,
   "metadata": {},
   "outputs": [
    {
     "data": {
      "text/plain": [
       "['i', 'me', 'my', 'myself', 'we']"
      ]
     },
     "execution_count": 62,
     "metadata": {},
     "output_type": "execute_result"
    }
   ],
   "source": [
    "stopwords=nltk.corpus.stopwords.words(\"english\")\n",
    "stopwords[:5]"
   ]
  },
  {
   "cell_type": "markdown",
   "metadata": {},
   "source": [
    "#### Creating vocabulary from the Train set only:"
   ]
  },
  {
   "cell_type": "code",
   "execution_count": 63,
   "metadata": {},
   "outputs": [
    {
     "data": {
      "text/html": [
       "<div>\n",
       "<style scoped>\n",
       "    .dataframe tbody tr th:only-of-type {\n",
       "        vertical-align: middle;\n",
       "    }\n",
       "\n",
       "    .dataframe tbody tr th {\n",
       "        vertical-align: top;\n",
       "    }\n",
       "\n",
       "    .dataframe thead th {\n",
       "        text-align: right;\n",
       "    }\n",
       "</style>\n",
       "<table border=\"1\" class=\"dataframe\">\n",
       "  <thead>\n",
       "    <tr style=\"text-align: right;\">\n",
       "      <th></th>\n",
       "      <th>word</th>\n",
       "      <th>wordCount</th>\n",
       "      <th>wordImportance</th>\n",
       "    </tr>\n",
       "  </thead>\n",
       "  <tbody>\n",
       "    <tr>\n",
       "      <th>0</th>\n",
       "      <td>,</td>\n",
       "      <td>326566</td>\n",
       "      <td>3.870211e-07</td>\n",
       "    </tr>\n",
       "    <tr>\n",
       "      <th>1</th>\n",
       "      <td>.</td>\n",
       "      <td>261288</td>\n",
       "      <td>4.837112e-07</td>\n",
       "    </tr>\n",
       "    <tr>\n",
       "      <th>2</th>\n",
       "      <td>wine</td>\n",
       "      <td>59225</td>\n",
       "      <td>2.134030e-06</td>\n",
       "    </tr>\n",
       "    <tr>\n",
       "      <th>3</th>\n",
       "      <td>flavors</td>\n",
       "      <td>46390</td>\n",
       "      <td>2.724465e-06</td>\n",
       "    </tr>\n",
       "    <tr>\n",
       "      <th>4</th>\n",
       "      <td>'s</td>\n",
       "      <td>38242</td>\n",
       "      <td>3.304951e-06</td>\n",
       "    </tr>\n",
       "  </tbody>\n",
       "</table>\n",
       "</div>"
      ],
      "text/plain": [
       "      word  wordCount  wordImportance\n",
       "0        ,     326566    3.870211e-07\n",
       "1        .     261288    4.837112e-07\n",
       "2     wine      59225    2.134030e-06\n",
       "3  flavors      46390    2.724465e-06\n",
       "4       's      38242    3.304951e-06"
      ]
     },
     "execution_count": 63,
     "metadata": {},
     "output_type": "execute_result"
    }
   ],
   "source": [
    "all_words = [word for desc in train_data.desc_low for word in nltk.word_tokenize(desc) if word.lower() not in stopwords] # Words without stop words\n",
    "words_df = pd.DataFrame(data = all_words, columns = ['word']).word.value_counts().reset_index()\n",
    "words_df.columns = ['word','wordCount']\n",
    "words_df['wordImportance'] = len(words_df) / words_df.wordCount / words_df.wordCount.max()\n",
    "words_df.head()"
   ]
  },
  {
   "cell_type": "code",
   "execution_count": 64,
   "metadata": {},
   "outputs": [
    {
     "data": {
      "text/plain": [
       "(41274, 3)"
      ]
     },
     "execution_count": 64,
     "metadata": {},
     "output_type": "execute_result"
    }
   ],
   "source": [
    "words_df.shape"
   ]
  },
  {
   "cell_type": "code",
   "execution_count": 65,
   "metadata": {},
   "outputs": [
    {
     "data": {
      "application/vnd.plotly.v1+json": {
       "config": {
        "linkText": "Export to plot.ly",
        "plotlyServerURL": "https://plot.ly",
        "showLink": true
       },
       "data": [
        {
         "marker": {
          "color": "rgba(255, 153, 51, 0.6)",
          "line": {
           "color": "rgba(255, 153, 51, 1.0)",
           "width": 1
          }
         },
         "name": "wordCount",
         "orientation": "v",
         "text": "",
         "type": "bar",
         "x": [
          ",",
          ".",
          "wine",
          "flavors",
          "'s",
          "fruit",
          "aromas",
          "palate",
          "acidity",
          "finish",
          "tannins",
          "drink",
          "cherry",
          "ripe",
          "black",
          "%",
          "notes",
          "red",
          "spice",
          "rich"
         ],
         "y": [
          326566,
          261288,
          59225,
          46390,
          38242,
          33144,
          28912,
          27816,
          25703,
          25697,
          22806,
          22059,
          20011,
          19861,
          18653,
          14053,
          13976,
          13889,
          13880,
          12802
         ]
        }
       ],
       "layout": {
        "autosize": true,
        "legend": {
         "bgcolor": "#F5F6F9",
         "font": {
          "color": "#4D5663"
         }
        },
        "paper_bgcolor": "#F5F6F9",
        "plot_bgcolor": "#F5F6F9",
        "template": {
         "data": {
          "bar": [
           {
            "error_x": {
             "color": "#2a3f5f"
            },
            "error_y": {
             "color": "#2a3f5f"
            },
            "marker": {
             "line": {
              "color": "#E5ECF6",
              "width": 0.5
             },
             "pattern": {
              "fillmode": "overlay",
              "size": 10,
              "solidity": 0.2
             }
            },
            "type": "bar"
           }
          ],
          "barpolar": [
           {
            "marker": {
             "line": {
              "color": "#E5ECF6",
              "width": 0.5
             },
             "pattern": {
              "fillmode": "overlay",
              "size": 10,
              "solidity": 0.2
             }
            },
            "type": "barpolar"
           }
          ],
          "carpet": [
           {
            "aaxis": {
             "endlinecolor": "#2a3f5f",
             "gridcolor": "white",
             "linecolor": "white",
             "minorgridcolor": "white",
             "startlinecolor": "#2a3f5f"
            },
            "baxis": {
             "endlinecolor": "#2a3f5f",
             "gridcolor": "white",
             "linecolor": "white",
             "minorgridcolor": "white",
             "startlinecolor": "#2a3f5f"
            },
            "type": "carpet"
           }
          ],
          "choropleth": [
           {
            "colorbar": {
             "outlinewidth": 0,
             "ticks": ""
            },
            "type": "choropleth"
           }
          ],
          "contour": [
           {
            "colorbar": {
             "outlinewidth": 0,
             "ticks": ""
            },
            "colorscale": [
             [
              0,
              "#0d0887"
             ],
             [
              0.1111111111111111,
              "#46039f"
             ],
             [
              0.2222222222222222,
              "#7201a8"
             ],
             [
              0.3333333333333333,
              "#9c179e"
             ],
             [
              0.4444444444444444,
              "#bd3786"
             ],
             [
              0.5555555555555556,
              "#d8576b"
             ],
             [
              0.6666666666666666,
              "#ed7953"
             ],
             [
              0.7777777777777778,
              "#fb9f3a"
             ],
             [
              0.8888888888888888,
              "#fdca26"
             ],
             [
              1,
              "#f0f921"
             ]
            ],
            "type": "contour"
           }
          ],
          "contourcarpet": [
           {
            "colorbar": {
             "outlinewidth": 0,
             "ticks": ""
            },
            "type": "contourcarpet"
           }
          ],
          "heatmap": [
           {
            "colorbar": {
             "outlinewidth": 0,
             "ticks": ""
            },
            "colorscale": [
             [
              0,
              "#0d0887"
             ],
             [
              0.1111111111111111,
              "#46039f"
             ],
             [
              0.2222222222222222,
              "#7201a8"
             ],
             [
              0.3333333333333333,
              "#9c179e"
             ],
             [
              0.4444444444444444,
              "#bd3786"
             ],
             [
              0.5555555555555556,
              "#d8576b"
             ],
             [
              0.6666666666666666,
              "#ed7953"
             ],
             [
              0.7777777777777778,
              "#fb9f3a"
             ],
             [
              0.8888888888888888,
              "#fdca26"
             ],
             [
              1,
              "#f0f921"
             ]
            ],
            "type": "heatmap"
           }
          ],
          "heatmapgl": [
           {
            "colorbar": {
             "outlinewidth": 0,
             "ticks": ""
            },
            "colorscale": [
             [
              0,
              "#0d0887"
             ],
             [
              0.1111111111111111,
              "#46039f"
             ],
             [
              0.2222222222222222,
              "#7201a8"
             ],
             [
              0.3333333333333333,
              "#9c179e"
             ],
             [
              0.4444444444444444,
              "#bd3786"
             ],
             [
              0.5555555555555556,
              "#d8576b"
             ],
             [
              0.6666666666666666,
              "#ed7953"
             ],
             [
              0.7777777777777778,
              "#fb9f3a"
             ],
             [
              0.8888888888888888,
              "#fdca26"
             ],
             [
              1,
              "#f0f921"
             ]
            ],
            "type": "heatmapgl"
           }
          ],
          "histogram": [
           {
            "marker": {
             "pattern": {
              "fillmode": "overlay",
              "size": 10,
              "solidity": 0.2
             }
            },
            "type": "histogram"
           }
          ],
          "histogram2d": [
           {
            "colorbar": {
             "outlinewidth": 0,
             "ticks": ""
            },
            "colorscale": [
             [
              0,
              "#0d0887"
             ],
             [
              0.1111111111111111,
              "#46039f"
             ],
             [
              0.2222222222222222,
              "#7201a8"
             ],
             [
              0.3333333333333333,
              "#9c179e"
             ],
             [
              0.4444444444444444,
              "#bd3786"
             ],
             [
              0.5555555555555556,
              "#d8576b"
             ],
             [
              0.6666666666666666,
              "#ed7953"
             ],
             [
              0.7777777777777778,
              "#fb9f3a"
             ],
             [
              0.8888888888888888,
              "#fdca26"
             ],
             [
              1,
              "#f0f921"
             ]
            ],
            "type": "histogram2d"
           }
          ],
          "histogram2dcontour": [
           {
            "colorbar": {
             "outlinewidth": 0,
             "ticks": ""
            },
            "colorscale": [
             [
              0,
              "#0d0887"
             ],
             [
              0.1111111111111111,
              "#46039f"
             ],
             [
              0.2222222222222222,
              "#7201a8"
             ],
             [
              0.3333333333333333,
              "#9c179e"
             ],
             [
              0.4444444444444444,
              "#bd3786"
             ],
             [
              0.5555555555555556,
              "#d8576b"
             ],
             [
              0.6666666666666666,
              "#ed7953"
             ],
             [
              0.7777777777777778,
              "#fb9f3a"
             ],
             [
              0.8888888888888888,
              "#fdca26"
             ],
             [
              1,
              "#f0f921"
             ]
            ],
            "type": "histogram2dcontour"
           }
          ],
          "mesh3d": [
           {
            "colorbar": {
             "outlinewidth": 0,
             "ticks": ""
            },
            "type": "mesh3d"
           }
          ],
          "parcoords": [
           {
            "line": {
             "colorbar": {
              "outlinewidth": 0,
              "ticks": ""
             }
            },
            "type": "parcoords"
           }
          ],
          "pie": [
           {
            "automargin": true,
            "type": "pie"
           }
          ],
          "scatter": [
           {
            "fillpattern": {
             "fillmode": "overlay",
             "size": 10,
             "solidity": 0.2
            },
            "type": "scatter"
           }
          ],
          "scatter3d": [
           {
            "line": {
             "colorbar": {
              "outlinewidth": 0,
              "ticks": ""
             }
            },
            "marker": {
             "colorbar": {
              "outlinewidth": 0,
              "ticks": ""
             }
            },
            "type": "scatter3d"
           }
          ],
          "scattercarpet": [
           {
            "marker": {
             "colorbar": {
              "outlinewidth": 0,
              "ticks": ""
             }
            },
            "type": "scattercarpet"
           }
          ],
          "scattergeo": [
           {
            "marker": {
             "colorbar": {
              "outlinewidth": 0,
              "ticks": ""
             }
            },
            "type": "scattergeo"
           }
          ],
          "scattergl": [
           {
            "marker": {
             "colorbar": {
              "outlinewidth": 0,
              "ticks": ""
             }
            },
            "type": "scattergl"
           }
          ],
          "scattermapbox": [
           {
            "marker": {
             "colorbar": {
              "outlinewidth": 0,
              "ticks": ""
             }
            },
            "type": "scattermapbox"
           }
          ],
          "scatterpolar": [
           {
            "marker": {
             "colorbar": {
              "outlinewidth": 0,
              "ticks": ""
             }
            },
            "type": "scatterpolar"
           }
          ],
          "scatterpolargl": [
           {
            "marker": {
             "colorbar": {
              "outlinewidth": 0,
              "ticks": ""
             }
            },
            "type": "scatterpolargl"
           }
          ],
          "scatterternary": [
           {
            "marker": {
             "colorbar": {
              "outlinewidth": 0,
              "ticks": ""
             }
            },
            "type": "scatterternary"
           }
          ],
          "surface": [
           {
            "colorbar": {
             "outlinewidth": 0,
             "ticks": ""
            },
            "colorscale": [
             [
              0,
              "#0d0887"
             ],
             [
              0.1111111111111111,
              "#46039f"
             ],
             [
              0.2222222222222222,
              "#7201a8"
             ],
             [
              0.3333333333333333,
              "#9c179e"
             ],
             [
              0.4444444444444444,
              "#bd3786"
             ],
             [
              0.5555555555555556,
              "#d8576b"
             ],
             [
              0.6666666666666666,
              "#ed7953"
             ],
             [
              0.7777777777777778,
              "#fb9f3a"
             ],
             [
              0.8888888888888888,
              "#fdca26"
             ],
             [
              1,
              "#f0f921"
             ]
            ],
            "type": "surface"
           }
          ],
          "table": [
           {
            "cells": {
             "fill": {
              "color": "#EBF0F8"
             },
             "line": {
              "color": "white"
             }
            },
            "header": {
             "fill": {
              "color": "#C8D4E3"
             },
             "line": {
              "color": "white"
             }
            },
            "type": "table"
           }
          ]
         },
         "layout": {
          "annotationdefaults": {
           "arrowcolor": "#2a3f5f",
           "arrowhead": 0,
           "arrowwidth": 1
          },
          "autotypenumbers": "strict",
          "coloraxis": {
           "colorbar": {
            "outlinewidth": 0,
            "ticks": ""
           }
          },
          "colorscale": {
           "diverging": [
            [
             0,
             "#8e0152"
            ],
            [
             0.1,
             "#c51b7d"
            ],
            [
             0.2,
             "#de77ae"
            ],
            [
             0.3,
             "#f1b6da"
            ],
            [
             0.4,
             "#fde0ef"
            ],
            [
             0.5,
             "#f7f7f7"
            ],
            [
             0.6,
             "#e6f5d0"
            ],
            [
             0.7,
             "#b8e186"
            ],
            [
             0.8,
             "#7fbc41"
            ],
            [
             0.9,
             "#4d9221"
            ],
            [
             1,
             "#276419"
            ]
           ],
           "sequential": [
            [
             0,
             "#0d0887"
            ],
            [
             0.1111111111111111,
             "#46039f"
            ],
            [
             0.2222222222222222,
             "#7201a8"
            ],
            [
             0.3333333333333333,
             "#9c179e"
            ],
            [
             0.4444444444444444,
             "#bd3786"
            ],
            [
             0.5555555555555556,
             "#d8576b"
            ],
            [
             0.6666666666666666,
             "#ed7953"
            ],
            [
             0.7777777777777778,
             "#fb9f3a"
            ],
            [
             0.8888888888888888,
             "#fdca26"
            ],
            [
             1,
             "#f0f921"
            ]
           ],
           "sequentialminus": [
            [
             0,
             "#0d0887"
            ],
            [
             0.1111111111111111,
             "#46039f"
            ],
            [
             0.2222222222222222,
             "#7201a8"
            ],
            [
             0.3333333333333333,
             "#9c179e"
            ],
            [
             0.4444444444444444,
             "#bd3786"
            ],
            [
             0.5555555555555556,
             "#d8576b"
            ],
            [
             0.6666666666666666,
             "#ed7953"
            ],
            [
             0.7777777777777778,
             "#fb9f3a"
            ],
            [
             0.8888888888888888,
             "#fdca26"
            ],
            [
             1,
             "#f0f921"
            ]
           ]
          },
          "colorway": [
           "#636efa",
           "#EF553B",
           "#00cc96",
           "#ab63fa",
           "#FFA15A",
           "#19d3f3",
           "#FF6692",
           "#B6E880",
           "#FF97FF",
           "#FECB52"
          ],
          "font": {
           "color": "#2a3f5f"
          },
          "geo": {
           "bgcolor": "white",
           "lakecolor": "white",
           "landcolor": "#E5ECF6",
           "showlakes": true,
           "showland": true,
           "subunitcolor": "white"
          },
          "hoverlabel": {
           "align": "left"
          },
          "hovermode": "closest",
          "mapbox": {
           "style": "light"
          },
          "paper_bgcolor": "white",
          "plot_bgcolor": "#E5ECF6",
          "polar": {
           "angularaxis": {
            "gridcolor": "white",
            "linecolor": "white",
            "ticks": ""
           },
           "bgcolor": "#E5ECF6",
           "radialaxis": {
            "gridcolor": "white",
            "linecolor": "white",
            "ticks": ""
           }
          },
          "scene": {
           "xaxis": {
            "backgroundcolor": "#E5ECF6",
            "gridcolor": "white",
            "gridwidth": 2,
            "linecolor": "white",
            "showbackground": true,
            "ticks": "",
            "zerolinecolor": "white"
           },
           "yaxis": {
            "backgroundcolor": "#E5ECF6",
            "gridcolor": "white",
            "gridwidth": 2,
            "linecolor": "white",
            "showbackground": true,
            "ticks": "",
            "zerolinecolor": "white"
           },
           "zaxis": {
            "backgroundcolor": "#E5ECF6",
            "gridcolor": "white",
            "gridwidth": 2,
            "linecolor": "white",
            "showbackground": true,
            "ticks": "",
            "zerolinecolor": "white"
           }
          },
          "shapedefaults": {
           "line": {
            "color": "#2a3f5f"
           }
          },
          "ternary": {
           "aaxis": {
            "gridcolor": "white",
            "linecolor": "white",
            "ticks": ""
           },
           "baxis": {
            "gridcolor": "white",
            "linecolor": "white",
            "ticks": ""
           },
           "bgcolor": "#E5ECF6",
           "caxis": {
            "gridcolor": "white",
            "linecolor": "white",
            "ticks": ""
           }
          },
          "title": {
           "x": 0.05
          },
          "xaxis": {
           "automargin": true,
           "gridcolor": "white",
           "linecolor": "white",
           "ticks": "",
           "title": {
            "standoff": 15
           },
           "zerolinecolor": "white",
           "zerolinewidth": 2
          },
          "yaxis": {
           "automargin": true,
           "gridcolor": "white",
           "linecolor": "white",
           "ticks": "",
           "title": {
            "standoff": 15
           },
           "zerolinecolor": "white",
           "zerolinewidth": 2
          }
         }
        },
        "title": {
         "font": {
          "color": "#4D5663"
         },
         "text": "Most frequent words in Corpus"
        },
        "xaxis": {
         "autorange": true,
         "gridcolor": "#E1E5ED",
         "range": [
          -0.5,
          19.5
         ],
         "showgrid": true,
         "tickfont": {
          "color": "#4D5663"
         },
         "title": {
          "font": {
           "color": "#4D5663"
          },
          "text": "Word"
         },
         "type": "category",
         "zerolinecolor": "#E1E5ED"
        },
        "yaxis": {
         "autorange": true,
         "gridcolor": "#E1E5ED",
         "range": [
          0,
          343753.6842105263
         ],
         "showgrid": true,
         "tickfont": {
          "color": "#4D5663"
         },
         "title": {
          "font": {
           "color": "#4D5663"
          },
          "text": "Count"
         },
         "type": "linear",
         "zerolinecolor": "#E1E5ED"
        }
       }
      },
      "image/png": "[encoded data removed]",
      "text/html": [
       "<div>                            <div id=\"f9e3f7f4-5877-4fd6-ae87-a88759953996\" class=\"plotly-graph-div\" style=\"height:525px; width:100%;\"></div>            <script type=\"text/javascript\">                require([\"plotly\"], function(Plotly) {                    window.PLOTLYENV=window.PLOTLYENV || {};\n",
       "                    window.PLOTLYENV.BASE_URL='https://plot.ly';                                    if (document.getElementById(\"f9e3f7f4-5877-4fd6-ae87-a88759953996\")) {                    Plotly.newPlot(                        \"f9e3f7f4-5877-4fd6-ae87-a88759953996\",                        [{\"marker\":{\"color\":\"rgba(255, 153, 51, 0.6)\",\"line\":{\"color\":\"rgba(255, 153, 51, 1.0)\",\"width\":1}},\"name\":\"wordCount\",\"orientation\":\"v\",\"text\":\"\",\"x\":[\",\",\".\",\"wine\",\"flavors\",\"'s\",\"fruit\",\"aromas\",\"palate\",\"acidity\",\"finish\",\"tannins\",\"drink\",\"cherry\",\"ripe\",\"black\",\"%\",\"notes\",\"red\",\"spice\",\"rich\"],\"y\":[326566,261288,59225,46390,38242,33144,28912,27816,25703,25697,22806,22059,20011,19861,18653,14053,13976,13889,13880,12802],\"type\":\"bar\"}],                        {\"legend\":{\"bgcolor\":\"#F5F6F9\",\"font\":{\"color\":\"#4D5663\"}},\"paper_bgcolor\":\"#F5F6F9\",\"plot_bgcolor\":\"#F5F6F9\",\"template\":{\"data\":{\"barpolar\":[{\"marker\":{\"line\":{\"color\":\"#E5ECF6\",\"width\":0.5},\"pattern\":{\"fillmode\":\"overlay\",\"size\":10,\"solidity\":0.2}},\"type\":\"barpolar\"}],\"bar\":[{\"error_x\":{\"color\":\"#2a3f5f\"},\"error_y\":{\"color\":\"#2a3f5f\"},\"marker\":{\"line\":{\"color\":\"#E5ECF6\",\"width\":0.5},\"pattern\":{\"fillmode\":\"overlay\",\"size\":10,\"solidity\":0.2}},\"type\":\"bar\"}],\"carpet\":[{\"aaxis\":{\"endlinecolor\":\"#2a3f5f\",\"gridcolor\":\"white\",\"linecolor\":\"white\",\"minorgridcolor\":\"white\",\"startlinecolor\":\"#2a3f5f\"},\"baxis\":{\"endlinecolor\":\"#2a3f5f\",\"gridcolor\":\"white\",\"linecolor\":\"white\",\"minorgridcolor\":\"white\",\"startlinecolor\":\"#2a3f5f\"},\"type\":\"carpet\"}],\"choropleth\":[{\"colorbar\":{\"outlinewidth\":0,\"ticks\":\"\"},\"type\":\"choropleth\"}],\"contourcarpet\":[{\"colorbar\":{\"outlinewidth\":0,\"ticks\":\"\"},\"type\":\"contourcarpet\"}],\"contour\":[{\"colorbar\":{\"outlinewidth\":0,\"ticks\":\"\"},\"colorscale\":[[0.0,\"#0d0887\"],[0.1111111111111111,\"#46039f\"],[0.2222222222222222,\"#7201a8\"],[0.3333333333333333,\"#9c179e\"],[0.4444444444444444,\"#bd3786\"],[0.5555555555555556,\"#d8576b\"],[0.6666666666666666,\"#ed7953\"],[0.7777777777777778,\"#fb9f3a\"],[0.8888888888888888,\"#fdca26\"],[1.0,\"#f0f921\"]],\"type\":\"contour\"}],\"heatmapgl\":[{\"colorbar\":{\"outlinewidth\":0,\"ticks\":\"\"},\"colorscale\":[[0.0,\"#0d0887\"],[0.1111111111111111,\"#46039f\"],[0.2222222222222222,\"#7201a8\"],[0.3333333333333333,\"#9c179e\"],[0.4444444444444444,\"#bd3786\"],[0.5555555555555556,\"#d8576b\"],[0.6666666666666666,\"#ed7953\"],[0.7777777777777778,\"#fb9f3a\"],[0.8888888888888888,\"#fdca26\"],[1.0,\"#f0f921\"]],\"type\":\"heatmapgl\"}],\"heatmap\":[{\"colorbar\":{\"outlinewidth\":0,\"ticks\":\"\"},\"colorscale\":[[0.0,\"#0d0887\"],[0.1111111111111111,\"#46039f\"],[0.2222222222222222,\"#7201a8\"],[0.3333333333333333,\"#9c179e\"],[0.4444444444444444,\"#bd3786\"],[0.5555555555555556,\"#d8576b\"],[0.6666666666666666,\"#ed7953\"],[0.7777777777777778,\"#fb9f3a\"],[0.8888888888888888,\"#fdca26\"],[1.0,\"#f0f921\"]],\"type\":\"heatmap\"}],\"histogram2dcontour\":[{\"colorbar\":{\"outlinewidth\":0,\"ticks\":\"\"},\"colorscale\":[[0.0,\"#0d0887\"],[0.1111111111111111,\"#46039f\"],[0.2222222222222222,\"#7201a8\"],[0.3333333333333333,\"#9c179e\"],[0.4444444444444444,\"#bd3786\"],[0.5555555555555556,\"#d8576b\"],[0.6666666666666666,\"#ed7953\"],[0.7777777777777778,\"#fb9f3a\"],[0.8888888888888888,\"#fdca26\"],[1.0,\"#f0f921\"]],\"type\":\"histogram2dcontour\"}],\"histogram2d\":[{\"colorbar\":{\"outlinewidth\":0,\"ticks\":\"\"},\"colorscale\":[[0.0,\"#0d0887\"],[0.1111111111111111,\"#46039f\"],[0.2222222222222222,\"#7201a8\"],[0.3333333333333333,\"#9c179e\"],[0.4444444444444444,\"#bd3786\"],[0.5555555555555556,\"#d8576b\"],[0.6666666666666666,\"#ed7953\"],[0.7777777777777778,\"#fb9f3a\"],[0.8888888888888888,\"#fdca26\"],[1.0,\"#f0f921\"]],\"type\":\"histogram2d\"}],\"histogram\":[{\"marker\":{\"pattern\":{\"fillmode\":\"overlay\",\"size\":10,\"solidity\":0.2}},\"type\":\"histogram\"}],\"mesh3d\":[{\"colorbar\":{\"outlinewidth\":0,\"ticks\":\"\"},\"type\":\"mesh3d\"}],\"parcoords\":[{\"line\":{\"colorbar\":{\"outlinewidth\":0,\"ticks\":\"\"}},\"type\":\"parcoords\"}],\"pie\":[{\"automargin\":true,\"type\":\"pie\"}],\"scatter3d\":[{\"line\":{\"colorbar\":{\"outlinewidth\":0,\"ticks\":\"\"}},\"marker\":{\"colorbar\":{\"outlinewidth\":0,\"ticks\":\"\"}},\"type\":\"scatter3d\"}],\"scattercarpet\":[{\"marker\":{\"colorbar\":{\"outlinewidth\":0,\"ticks\":\"\"}},\"type\":\"scattercarpet\"}],\"scattergeo\":[{\"marker\":{\"colorbar\":{\"outlinewidth\":0,\"ticks\":\"\"}},\"type\":\"scattergeo\"}],\"scattergl\":[{\"marker\":{\"colorbar\":{\"outlinewidth\":0,\"ticks\":\"\"}},\"type\":\"scattergl\"}],\"scattermapbox\":[{\"marker\":{\"colorbar\":{\"outlinewidth\":0,\"ticks\":\"\"}},\"type\":\"scattermapbox\"}],\"scatterpolargl\":[{\"marker\":{\"colorbar\":{\"outlinewidth\":0,\"ticks\":\"\"}},\"type\":\"scatterpolargl\"}],\"scatterpolar\":[{\"marker\":{\"colorbar\":{\"outlinewidth\":0,\"ticks\":\"\"}},\"type\":\"scatterpolar\"}],\"scatter\":[{\"fillpattern\":{\"fillmode\":\"overlay\",\"size\":10,\"solidity\":0.2},\"type\":\"scatter\"}],\"scatterternary\":[{\"marker\":{\"colorbar\":{\"outlinewidth\":0,\"ticks\":\"\"}},\"type\":\"scatterternary\"}],\"surface\":[{\"colorbar\":{\"outlinewidth\":0,\"ticks\":\"\"},\"colorscale\":[[0.0,\"#0d0887\"],[0.1111111111111111,\"#46039f\"],[0.2222222222222222,\"#7201a8\"],[0.3333333333333333,\"#9c179e\"],[0.4444444444444444,\"#bd3786\"],[0.5555555555555556,\"#d8576b\"],[0.6666666666666666,\"#ed7953\"],[0.7777777777777778,\"#fb9f3a\"],[0.8888888888888888,\"#fdca26\"],[1.0,\"#f0f921\"]],\"type\":\"surface\"}],\"table\":[{\"cells\":{\"fill\":{\"color\":\"#EBF0F8\"},\"line\":{\"color\":\"white\"}},\"header\":{\"fill\":{\"color\":\"#C8D4E3\"},\"line\":{\"color\":\"white\"}},\"type\":\"table\"}]},\"layout\":{\"annotationdefaults\":{\"arrowcolor\":\"#2a3f5f\",\"arrowhead\":0,\"arrowwidth\":1},\"autotypenumbers\":\"strict\",\"coloraxis\":{\"colorbar\":{\"outlinewidth\":0,\"ticks\":\"\"}},\"colorscale\":{\"diverging\":[[0,\"#8e0152\"],[0.1,\"#c51b7d\"],[0.2,\"#de77ae\"],[0.3,\"#f1b6da\"],[0.4,\"#fde0ef\"],[0.5,\"#f7f7f7\"],[0.6,\"#e6f5d0\"],[0.7,\"#b8e186\"],[0.8,\"#7fbc41\"],[0.9,\"#4d9221\"],[1,\"#276419\"]],\"sequential\":[[0.0,\"#0d0887\"],[0.1111111111111111,\"#46039f\"],[0.2222222222222222,\"#7201a8\"],[0.3333333333333333,\"#9c179e\"],[0.4444444444444444,\"#bd3786\"],[0.5555555555555556,\"#d8576b\"],[0.6666666666666666,\"#ed7953\"],[0.7777777777777778,\"#fb9f3a\"],[0.8888888888888888,\"#fdca26\"],[1.0,\"#f0f921\"]],\"sequentialminus\":[[0.0,\"#0d0887\"],[0.1111111111111111,\"#46039f\"],[0.2222222222222222,\"#7201a8\"],[0.3333333333333333,\"#9c179e\"],[0.4444444444444444,\"#bd3786\"],[0.5555555555555556,\"#d8576b\"],[0.6666666666666666,\"#ed7953\"],[0.7777777777777778,\"#fb9f3a\"],[0.8888888888888888,\"#fdca26\"],[1.0,\"#f0f921\"]]},\"colorway\":[\"#636efa\",\"#EF553B\",\"#00cc96\",\"#ab63fa\",\"#FFA15A\",\"#19d3f3\",\"#FF6692\",\"#B6E880\",\"#FF97FF\",\"#FECB52\"],\"font\":{\"color\":\"#2a3f5f\"},\"geo\":{\"bgcolor\":\"white\",\"lakecolor\":\"white\",\"landcolor\":\"#E5ECF6\",\"showlakes\":true,\"showland\":true,\"subunitcolor\":\"white\"},\"hoverlabel\":{\"align\":\"left\"},\"hovermode\":\"closest\",\"mapbox\":{\"style\":\"light\"},\"paper_bgcolor\":\"white\",\"plot_bgcolor\":\"#E5ECF6\",\"polar\":{\"angularaxis\":{\"gridcolor\":\"white\",\"linecolor\":\"white\",\"ticks\":\"\"},\"bgcolor\":\"#E5ECF6\",\"radialaxis\":{\"gridcolor\":\"white\",\"linecolor\":\"white\",\"ticks\":\"\"}},\"scene\":{\"xaxis\":{\"backgroundcolor\":\"#E5ECF6\",\"gridcolor\":\"white\",\"gridwidth\":2,\"linecolor\":\"white\",\"showbackground\":true,\"ticks\":\"\",\"zerolinecolor\":\"white\"},\"yaxis\":{\"backgroundcolor\":\"#E5ECF6\",\"gridcolor\":\"white\",\"gridwidth\":2,\"linecolor\":\"white\",\"showbackground\":true,\"ticks\":\"\",\"zerolinecolor\":\"white\"},\"zaxis\":{\"backgroundcolor\":\"#E5ECF6\",\"gridcolor\":\"white\",\"gridwidth\":2,\"linecolor\":\"white\",\"showbackground\":true,\"ticks\":\"\",\"zerolinecolor\":\"white\"}},\"shapedefaults\":{\"line\":{\"color\":\"#2a3f5f\"}},\"ternary\":{\"aaxis\":{\"gridcolor\":\"white\",\"linecolor\":\"white\",\"ticks\":\"\"},\"baxis\":{\"gridcolor\":\"white\",\"linecolor\":\"white\",\"ticks\":\"\"},\"bgcolor\":\"#E5ECF6\",\"caxis\":{\"gridcolor\":\"white\",\"linecolor\":\"white\",\"ticks\":\"\"}},\"title\":{\"x\":0.05},\"xaxis\":{\"automargin\":true,\"gridcolor\":\"white\",\"linecolor\":\"white\",\"ticks\":\"\",\"title\":{\"standoff\":15},\"zerolinecolor\":\"white\",\"zerolinewidth\":2},\"yaxis\":{\"automargin\":true,\"gridcolor\":\"white\",\"linecolor\":\"white\",\"ticks\":\"\",\"title\":{\"standoff\":15},\"zerolinecolor\":\"white\",\"zerolinewidth\":2}}},\"title\":{\"font\":{\"color\":\"#4D5663\"},\"text\":\"Most frequent words in Corpus\"},\"xaxis\":{\"gridcolor\":\"#E1E5ED\",\"showgrid\":true,\"tickfont\":{\"color\":\"#4D5663\"},\"title\":{\"font\":{\"color\":\"#4D5663\"},\"text\":\"Word\"},\"zerolinecolor\":\"#E1E5ED\"},\"yaxis\":{\"gridcolor\":\"#E1E5ED\",\"showgrid\":true,\"tickfont\":{\"color\":\"#4D5663\"},\"title\":{\"font\":{\"color\":\"#4D5663\"},\"text\":\"Count\"},\"zerolinecolor\":\"#E1E5ED\"}},                        {\"showLink\": true, \"linkText\": \"Export to plot.ly\", \"plotlyServerURL\": \"https://plot.ly\", \"responsive\": true}                    ).then(function(){\n",
       "                            \n",
       "var gd = document.getElementById('f9e3f7f4-5877-4fd6-ae87-a88759953996');\n",
       "var x = new MutationObserver(function (mutations, observer) {{\n",
       "        var display = window.getComputedStyle(gd).display;\n",
       "        if (!display || display === 'none') {{\n",
       "            console.log([gd, 'removed!']);\n",
       "            Plotly.purge(gd);\n",
       "            observer.disconnect();\n",
       "        }}\n",
       "}});\n",
       "\n",
       "// Listen for the removal of the full notebook cells\n",
       "var notebookContainer = gd.closest('#notebook-container');\n",
       "if (notebookContainer) {{\n",
       "    x.observe(notebookContainer, {childList: true});\n",
       "}}\n",
       "\n",
       "// Listen for the clearing of the current output cell\n",
       "var outputEl = gd.closest('.output');\n",
       "if (outputEl) {{\n",
       "    x.observe(outputEl, {childList: true});\n",
       "}}\n",
       "\n",
       "                        })                };                });            </script>        </div>"
      ]
     },
     "metadata": {},
     "output_type": "display_data"
    }
   ],
   "source": [
    "words_df.set_index('word').wordCount.head(20).iplot(kind = 'bar', title = 'Most frequent words in Corpus', yTitle = 'Count', xTitle = 'Word')"
   ]
  },
  {
   "cell_type": "code",
   "execution_count": 66,
   "metadata": {},
   "outputs": [
    {
     "name": "stdout",
     "output_type": "stream",
     "text": [
      "Total of 3048144 words, 41274 unique words\n"
     ]
    }
   ],
   "source": [
    "print(\"Total of {} words, {} unique words\".format(len(all_words), len(words_df)))"
   ]
  },
  {
   "cell_type": "code",
   "execution_count": 67,
   "metadata": {},
   "outputs": [
    {
     "name": "stdout",
     "output_type": "stream",
     "text": [
      "Using words with 4 or more appearances will reduce the corpus size to: 13983\n"
     ]
    }
   ],
   "source": [
    "print (\"Using words with 4 or more appearances will reduce the corpus size to: {}\".format(sum(words_df.wordCount >= 4)))"
   ]
  },
  {
   "cell_type": "code",
   "execution_count": 68,
   "metadata": {},
   "outputs": [],
   "source": [
    "words_df = words_df[words_df.wordCount >= 4]"
   ]
  },
  {
   "cell_type": "markdown",
   "metadata": {},
   "source": [
    "#### Bag of words (One-hot-encoding) for Train and Test"
   ]
  },
  {
   "cell_type": "code",
   "execution_count": 69,
   "metadata": {},
   "outputs": [],
   "source": [
    "from sklearn.feature_extraction.text import CountVectorizer\n",
    "from sklearn.feature_extraction.text import TfidfVectorizer"
   ]
  },
  {
   "cell_type": "code",
   "execution_count": 70,
   "metadata": {},
   "outputs": [],
   "source": [
    "clean_vocab = set(words_df.word)"
   ]
  },
  {
   "cell_type": "code",
   "execution_count": 71,
   "metadata": {
    "tags": []
   },
   "outputs": [],
   "source": [
    "count_vect = CountVectorizer(vocabulary = clean_vocab, tokenizer=nltk.word_tokenize)"
   ]
  },
  {
   "cell_type": "code",
   "execution_count": 72,
   "metadata": {
    "tags": []
   },
   "outputs": [],
   "source": [
    "clean_bow_counts_train = count_vect.fit_transform(train_data.desc_low)\n",
    "clean_bow_counts_test = count_vect.fit_transform(test_data.desc_low)"
   ]
  },
  {
   "cell_type": "markdown",
   "metadata": {},
   "source": [
    "<h3>Define <b style = \"color:green\">clean_bow_counts_train</b> for <b style = \"color:red\">train</b> with description , and <b style = \"color:green\">clean_bow_counts_test</b> for <b style = \"color:red\">test</b> </h3>\n",
    "<br>\n",
    "<br>"
   ]
  },
  {
   "cell_type": "markdown",
   "metadata": {},
   "source": [
    "### Regression"
   ]
  },
  {
   "cell_type": "code",
   "execution_count": 73,
   "metadata": {
    "tags": []
   },
   "outputs": [],
   "source": [
    "import numpy as np\n",
    "from sklearn.model_selection import train_test_split, cross_val_score\n",
    "from sklearn.metrics import roc_auc_score, precision_score, recall_score, accuracy_score, mean_squared_error, r2_score, mean_absolute_error\n",
    "from sklearn.linear_model import LinearRegression, Ridge"
   ]
  },
  {
   "cell_type": "markdown",
   "metadata": {},
   "source": [
    "#### Search for the best alpha on the Train set only :"
   ]
  },
  {
   "cell_type": "code",
   "execution_count": 74,
   "metadata": {},
   "outputs": [],
   "source": [
    "%%capture\n",
    "search_grid = np.logspace(-2, 4, num=50, endpoint=True, base=10.0)\n",
    "MSE_by_alpha = []\n",
    "for alpha in search_grid:\n",
    "    model = Ridge(alpha=alpha)\n",
    "    avg_score = cross_val_score(model, clean_bow_counts_train, y = train_data.points, cv = 10, scoring = 'neg_mean_squared_error').mean()\n",
    "    MSE_by_alpha.append((alpha,avg_score))"
   ]
  },
  {
   "cell_type": "code",
   "execution_count": 75,
   "metadata": {},
   "outputs": [
    {
     "data": {
      "application/vnd.plotly.v1+json": {
       "config": {
        "linkText": "Export to plot.ly",
        "plotlyServerURL": "https://plot.ly",
        "showLink": true
       },
       "data": [
        {
         "line": {
          "color": "rgba(255, 153, 51, 1.0)",
          "dash": "solid",
          "shape": "linear",
          "width": 3
         },
         "mode": "lines",
         "name": "MSE",
         "text": "",
         "type": "scatter",
         "x": [
          0.01,
          0.013257113655901088,
          0.017575106248547922,
          0.023299518105153717,
          0.030888435964774818,
          0.040949150623804255,
          0.054286754393238594,
          0.07196856730011521,
          0.09540954763499938,
          0.12648552168552957,
          0.16768329368110083,
          0.22229964825261944,
          0.29470517025518095,
          0.3906939937054617,
          0.517947467923121,
          0.6866488450043002,
          0.9102981779915218,
          1.2067926406393288,
          1.5998587196060574,
          2.1209508879201904,
          2.8117686979742307,
          3.727593720314938,
          4.941713361323833,
          6.551285568595509,
          8.68511373751352,
          11.513953993264469,
          15.264179671752334,
          20.235896477251575,
          26.826957952797247,
          35.564803062231285,
          47.14866363457394
         ],
         "y": [
          -3.2386917387947385,
          -3.236315108873214,
          -3.237438148501004,
          -3.2361702912725137,
          -3.232467868044452,
          -3.228704174413104,
          -3.225769962401847,
          -3.2221962365097476,
          -3.217138701098757,
          -3.210330837768494,
          -3.201642785279821,
          -3.191314732558811,
          -3.1777576467680144,
          -3.159317614055928,
          -3.1401479079800385,
          -3.1176364263447414,
          -3.09245499095841,
          -3.065305484240741,
          -3.0366370862847445,
          -3.007766310729468,
          -2.9814341381125615,
          -2.956714504143629,
          -2.93583519316593,
          -2.9190395299818777,
          -2.9066439877447876,
          -2.8999649113178574,
          -2.8981644549698355,
          -2.902085518879928,
          -2.9119757531552795,
          -2.927994890509056,
          -2.950013577816123
         ]
        }
       ],
       "layout": {
        "autosize": true,
        "legend": {
         "bgcolor": "#F5F6F9",
         "font": {
          "color": "#4D5663"
         }
        },
        "paper_bgcolor": "#F5F6F9",
        "plot_bgcolor": "#F5F6F9",
        "shapes": [
         {
          "line": {
           "color": "#db4052",
           "dash": "solid",
           "width": 1
          },
          "type": "line",
          "x0": 0,
          "x1": 1,
          "xref": "paper",
          "y0": [
           0,
           0
          ],
          "y1": [
           0,
           0
          ],
          "yref": "y"
         }
        ],
        "title": {
         "font": {
          "color": "#4D5663"
         },
         "text": "BOW Counts - MSE as a function of alpha (on train set)"
        },
        "xaxis": {
         "autorange": true,
         "gridcolor": "#E1E5ED",
         "range": [
          0.01,
          47.14866363457394
         ],
         "showgrid": true,
         "tickfont": {
          "color": "#4D5663"
         },
         "title": {
          "font": {
           "color": "#4D5663"
          },
          "text": "alpha"
         },
         "type": "linear",
         "zerolinecolor": "#E1E5ED"
        },
        "yaxis": {
         "autorange": true,
         "gridcolor": "#E1E5ED",
         "range": [
          -3.2576099212294554,
          -2.8792462725351187
         ],
         "showgrid": true,
         "tickfont": {
          "color": "#4D5663"
         },
         "title": {
          "font": {
           "color": "#4D5663"
          },
          "text": "MSE"
         },
         "type": "linear",
         "zerolinecolor": "#E1E5ED"
        }
       }
      },
      "image/png": "[encoded data removed]",
      "text/html": [
       "<div>                            <div id=\"940b85e1-61d4-4e5b-ad93-6f5c16576c2d\" class=\"plotly-graph-div\" style=\"height:525px; width:100%;\"></div>            <script type=\"text/javascript\">                require([\"plotly\"], function(Plotly) {                    window.PLOTLYENV=window.PLOTLYENV || {};\n",
       "                    window.PLOTLYENV.BASE_URL='https://plot.ly';                                    if (document.getElementById(\"940b85e1-61d4-4e5b-ad93-6f5c16576c2d\")) {                    Plotly.newPlot(                        \"940b85e1-61d4-4e5b-ad93-6f5c16576c2d\",                        [{\"line\":{\"color\":\"rgba(255, 153, 51, 1.0)\",\"dash\":\"solid\",\"shape\":\"linear\",\"width\":3},\"mode\":\"lines\",\"name\":\"MSE\",\"text\":\"\",\"x\":[0.01,0.013257113655901088,0.017575106248547922,0.023299518105153717,0.030888435964774818,0.040949150623804255,0.054286754393238594,0.07196856730011521,0.09540954763499938,0.12648552168552957,0.16768329368110083,0.22229964825261944,0.29470517025518095,0.3906939937054617,0.517947467923121,0.6866488450043002,0.9102981779915218,1.2067926406393288,1.5998587196060574,2.1209508879201904,2.8117686979742307,3.727593720314938,4.941713361323833,6.551285568595509,8.68511373751352,11.513953993264469,15.264179671752334,20.235896477251575,26.826957952797247,35.564803062231285,47.14866363457394],\"y\":[-3.2386917387947385,-3.236315108873214,-3.237438148501004,-3.2361702912725137,-3.232467868044452,-3.228704174413104,-3.225769962401847,-3.2221962365097476,-3.217138701098757,-3.210330837768494,-3.201642785279821,-3.191314732558811,-3.1777576467680144,-3.159317614055928,-3.1401479079800385,-3.1176364263447414,-3.09245499095841,-3.065305484240741,-3.0366370862847445,-3.007766310729468,-2.9814341381125615,-2.956714504143629,-2.93583519316593,-2.9190395299818777,-2.9066439877447876,-2.8999649113178574,-2.8981644549698355,-2.902085518879928,-2.9119757531552795,-2.927994890509056,-2.950013577816123],\"type\":\"scatter\"}],                        {\"legend\":{\"bgcolor\":\"#F5F6F9\",\"font\":{\"color\":\"#4D5663\"}},\"paper_bgcolor\":\"#F5F6F9\",\"plot_bgcolor\":\"#F5F6F9\",\"yaxis\":{\"tickfont\":{\"color\":\"#4D5663\"},\"gridcolor\":\"#E1E5ED\",\"titlefont\":{\"color\":\"#4D5663\"},\"zerolinecolor\":\"#E1E5ED\",\"showgrid\":true,\"title\":\"MSE\"},\"xaxis\":{\"tickfont\":{\"color\":\"#4D5663\"},\"gridcolor\":\"#E1E5ED\",\"titlefont\":{\"color\":\"#4D5663\"},\"zerolinecolor\":\"#E1E5ED\",\"showgrid\":true,\"title\":\"alpha\"},\"titlefont\":{\"color\":\"#4D5663\"},\"title\":\"BOW Counts - MSE as a function of alpha (on train set)\",\"shapes\":[{\"x0\":0,\"y0\":[0,0],\"x1\":1,\"y1\":[0,0],\"line\":{\"color\":\"#db4052\",\"width\":1,\"dash\":\"solid\"},\"xref\":\"paper\",\"yref\":\"y\",\"type\":\"line\"}]},                        {\"showLink\": true, \"linkText\": \"Export to plot.ly\", \"plotlyServerURL\": \"https://plot.ly\", \"responsive\": true}                    ).then(function(){\n",
       "                            \n",
       "var gd = document.getElementById('940b85e1-61d4-4e5b-ad93-6f5c16576c2d');\n",
       "var x = new MutationObserver(function (mutations, observer) {{\n",
       "        var display = window.getComputedStyle(gd).display;\n",
       "        if (!display || display === 'none') {{\n",
       "            console.log([gd, 'removed!']);\n",
       "            Plotly.purge(gd);\n",
       "            observer.disconnect();\n",
       "        }}\n",
       "}});\n",
       "\n",
       "// Listen for the removal of the full notebook cells\n",
       "var notebookContainer = gd.closest('#notebook-container');\n",
       "if (notebookContainer) {{\n",
       "    x.observe(notebookContainer, {childList: true});\n",
       "}}\n",
       "\n",
       "// Listen for the clearing of the current output cell\n",
       "var outputEl = gd.closest('.output');\n",
       "if (outputEl) {{\n",
       "    x.observe(outputEl, {childList: true});\n",
       "}}\n",
       "\n",
       "                        })                };                });            </script>        </div>"
      ]
     },
     "metadata": {},
     "output_type": "display_data"
    }
   ],
   "source": [
    "cv_results = pd.DataFrame(MSE_by_alpha, columns = ['alpha', 'MSE'])\n",
    "cv_results.query('alpha < 50').set_index('alpha').MSE.iplot(title = 'BOW Counts - MSE as a function of alpha (on train set)', xTitle = 'alpha', yTitle = 'MSE', width = 3, hline=(0,0))"
   ]
  },
  {
   "cell_type": "code",
   "execution_count": 76,
   "metadata": {},
   "outputs": [
    {
     "name": "stdout",
     "output_type": "stream",
     "text": [
      "15.264179671752334 2.8981644549698355\n"
     ]
    }
   ],
   "source": [
    "opt_alpha, max_MSE = cv_results.loc[cv_results.MSE.idxmax()]\n",
    "print(opt_alpha, -max_MSE)"
   ]
  },
  {
   "cell_type": "markdown",
   "metadata": {},
   "source": [
    "#### Optimal Model : training the model with the best alpha, on the train set:"
   ]
  },
  {
   "cell_type": "code",
   "execution_count": 77,
   "metadata": {},
   "outputs": [
    {
     "data": {
      "text/html": [
       "<style>#sk-container-id-3 {color: black;background-color: white;}#sk-container-id-3 pre{padding: 0;}#sk-container-id-3 div.sk-toggleable {background-color: white;}#sk-container-id-3 label.sk-toggleable__label {cursor: pointer;display: block;width: 100%;margin-bottom: 0;padding: 0.3em;box-sizing: border-box;text-align: center;}#sk-container-id-3 label.sk-toggleable__label-arrow:before {content: \"▸\";float: left;margin-right: 0.25em;color: #696969;}#sk-container-id-3 label.sk-toggleable__label-arrow:hover:before {color: black;}#sk-container-id-3 div.sk-estimator:hover label.sk-toggleable__label-arrow:before {color: black;}#sk-container-id-3 div.sk-toggleable__content {max-height: 0;max-width: 0;overflow: hidden;text-align: left;background-color: #f0f8ff;}#sk-container-id-3 div.sk-toggleable__content pre {margin: 0.2em;color: black;border-radius: 0.25em;background-color: #f0f8ff;}#sk-container-id-3 input.sk-toggleable__control:checked~div.sk-toggleable__content {max-height: 200px;max-width: 100%;overflow: auto;}#sk-container-id-3 input.sk-toggleable__control:checked~label.sk-toggleable__label-arrow:before {content: \"▾\";}#sk-container-id-3 div.sk-estimator input.sk-toggleable__control:checked~label.sk-toggleable__label {background-color: #d4ebff;}#sk-container-id-3 div.sk-label input.sk-toggleable__control:checked~label.sk-toggleable__label {background-color: #d4ebff;}#sk-container-id-3 input.sk-hidden--visually {border: 0;clip: rect(1px 1px 1px 1px);clip: rect(1px, 1px, 1px, 1px);height: 1px;margin: -1px;overflow: hidden;padding: 0;position: absolute;width: 1px;}#sk-container-id-3 div.sk-estimator {font-family: monospace;background-color: #f0f8ff;border: 1px dotted black;border-radius: 0.25em;box-sizing: border-box;margin-bottom: 0.5em;}#sk-container-id-3 div.sk-estimator:hover {background-color: #d4ebff;}#sk-container-id-3 div.sk-parallel-item::after {content: \"\";width: 100%;border-bottom: 1px solid gray;flex-grow: 1;}#sk-container-id-3 div.sk-label:hover label.sk-toggleable__label {background-color: #d4ebff;}#sk-container-id-3 div.sk-serial::before {content: \"\";position: absolute;border-left: 1px solid gray;box-sizing: border-box;top: 0;bottom: 0;left: 50%;z-index: 0;}#sk-container-id-3 div.sk-serial {display: flex;flex-direction: column;align-items: center;background-color: white;padding-right: 0.2em;padding-left: 0.2em;position: relative;}#sk-container-id-3 div.sk-item {position: relative;z-index: 1;}#sk-container-id-3 div.sk-parallel {display: flex;align-items: stretch;justify-content: center;background-color: white;position: relative;}#sk-container-id-3 div.sk-item::before, #sk-container-id-3 div.sk-parallel-item::before {content: \"\";position: absolute;border-left: 1px solid gray;box-sizing: border-box;top: 0;bottom: 0;left: 50%;z-index: -1;}#sk-container-id-3 div.sk-parallel-item {display: flex;flex-direction: column;z-index: 1;position: relative;background-color: white;}#sk-container-id-3 div.sk-parallel-item:first-child::after {align-self: flex-end;width: 50%;}#sk-container-id-3 div.sk-parallel-item:last-child::after {align-self: flex-start;width: 50%;}#sk-container-id-3 div.sk-parallel-item:only-child::after {width: 0;}#sk-container-id-3 div.sk-dashed-wrapped {border: 1px dashed gray;margin: 0 0.4em 0.5em 0.4em;box-sizing: border-box;padding-bottom: 0.4em;background-color: white;}#sk-container-id-3 div.sk-label label {font-family: monospace;font-weight: bold;display: inline-block;line-height: 1.2em;}#sk-container-id-3 div.sk-label-container {text-align: center;}#sk-container-id-3 div.sk-container {/* jupyter's `normalize.less` sets `[hidden] { display: none; }` but bootstrap.min.css set `[hidden] { display: none !important; }` so we also need the `!important` here to be able to override the default hidden behavior on the sphinx rendered scikit-learn.org. See: https://github.com/scikit-learn/scikit-learn/issues/21755 */display: inline-block !important;position: relative;}#sk-container-id-3 div.sk-text-repr-fallback {display: none;}</style><div id=\"sk-container-id-3\" class=\"sk-top-container\"><div class=\"sk-text-repr-fallback\"><pre>Ridge(alpha=15.264179671752334)</pre><b>In a Jupyter environment, please rerun this cell to show the HTML representation or trust the notebook. <br />On GitHub, the HTML representation is unable to render, please try loading this page with nbviewer.org.</b></div><div class=\"sk-container\" hidden><div class=\"sk-item\"><div class=\"sk-estimator sk-toggleable\"><input class=\"sk-toggleable__control sk-hidden--visually\" id=\"sk-estimator-id-3\" type=\"checkbox\" checked><label for=\"sk-estimator-id-3\" class=\"sk-toggleable__label sk-toggleable__label-arrow\">Ridge</label><div class=\"sk-toggleable__content\"><pre>Ridge(alpha=15.264179671752334)</pre></div></div></div></div></div>"
      ],
      "text/plain": [
       "Ridge(alpha=15.264179671752334)"
      ]
     },
     "execution_count": 77,
     "metadata": {},
     "output_type": "execute_result"
    }
   ],
   "source": [
    "model = Ridge(alpha=opt_alpha)\n",
    "model.fit(clean_bow_counts_train, train_data.points)"
   ]
  },
  {
   "cell_type": "code",
   "execution_count": 78,
   "metadata": {},
   "outputs": [],
   "source": [
    "test_data['NLP_with_description_predicted_points'] = model.predict(clean_bow_counts_test)"
   ]
  },
  {
   "cell_type": "code",
   "execution_count": 79,
   "metadata": {},
   "outputs": [
    {
     "data": {
      "text/plain": [
       "MSE    2.883265\n",
       "MAE    1.334152\n",
       "R2     0.698358\n",
       "dtype: float64"
      ]
     },
     "execution_count": 79,
     "metadata": {},
     "output_type": "execute_result"
    }
   ],
   "source": [
    "NLP_with_description_predicted_points = calc_prediction_quality(test_data, 'NLP_with_description_predicted_points','points')\n",
    "NLP_with_description_predicted_points"
   ]
  },
  {
   "cell_type": "code",
   "execution_count": 105,
   "metadata": {},
   "outputs": [
    {
     "data": {
      "text/html": [
       "<div>\n",
       "<style scoped>\n",
       "    .dataframe tbody tr th:only-of-type {\n",
       "        vertical-align: middle;\n",
       "    }\n",
       "\n",
       "    .dataframe tbody tr th {\n",
       "        vertical-align: top;\n",
       "    }\n",
       "\n",
       "    .dataframe thead th {\n",
       "        text-align: right;\n",
       "    }\n",
       "</style>\n",
       "<table border=\"1\" class=\"dataframe\">\n",
       "  <thead>\n",
       "    <tr style=\"text-align: right;\">\n",
       "      <th></th>\n",
       "      <th>MSE</th>\n",
       "      <th>MAE</th>\n",
       "      <th>R2</th>\n",
       "    </tr>\n",
       "  </thead>\n",
       "  <tbody>\n",
       "    <tr>\n",
       "      <th>baseline_1</th>\n",
       "      <td>9.559410</td>\n",
       "      <td>2.534726</td>\n",
       "      <td>-0.000087</td>\n",
       "    </tr>\n",
       "    <tr>\n",
       "      <th>baseline_2</th>\n",
       "      <td>9.052361</td>\n",
       "      <td>2.462888</td>\n",
       "      <td>0.052960</td>\n",
       "    </tr>\n",
       "    <tr>\n",
       "      <th>baseline_3</th>\n",
       "      <td>8.521883</td>\n",
       "      <td>2.373365</td>\n",
       "      <td>0.108457</td>\n",
       "    </tr>\n",
       "    <tr>\n",
       "      <th>NLP_with_description_predicted_points</th>\n",
       "      <td>2.883265</td>\n",
       "      <td>1.334152</td>\n",
       "      <td>0.698358</td>\n",
       "    </tr>\n",
       "  </tbody>\n",
       "</table>\n",
       "</div>"
      ],
      "text/plain": [
       "                                            MSE       MAE        R2\n",
       "baseline_1                             9.559410  2.534726 -0.000087\n",
       "baseline_2                             9.052361  2.462888  0.052960\n",
       "baseline_3                             8.521883  2.373365  0.108457\n",
       "NLP_with_description_predicted_points  2.883265  1.334152  0.698358"
      ]
     },
     "execution_count": 105,
     "metadata": {},
     "output_type": "execute_result"
    }
   ],
   "source": [
    "all_compared = pd.DataFrame([b1_stats, b2_stats, b3_stats, NLP_with_description_predicted_points], index=['baseline_1', 'baseline_2','baseline_3', 'NLP_with_description_predicted_points'])\n",
    "all_compared"
   ]
  },
  {
   "cell_type": "markdown",
   "metadata": {},
   "source": [
    "<div style=\"border:1px solid green; padding:15px;border-radius:25px\">\n",
    "<br>\n",
    "<h3>The result of NLP_with_description_predicted_points </h3>\n",
    "<h5>MSE: 2.883265 </h5>\n",
    "<h5>MAE: 1.334152 </h5>\n",
    "<h5>R2:  0.698358</h5>\n",
    "<br>\n",
    "    </div>"
   ]
  },
  {
   "cell_type": "markdown",
   "metadata": {
    "tags": []
   },
   "source": [
    "# Using both the text and other features"
   ]
  },
  {
   "cell_type": "markdown",
   "metadata": {},
   "source": [
    "#### Using both the text and other features (encoded in the Boosting trees part)"
   ]
  },
  {
   "cell_type": "code",
   "execution_count": 81,
   "metadata": {},
   "outputs": [
    {
     "data": {
      "text/plain": [
       "['country',\n",
       " 'province',\n",
       " 'region_1',\n",
       " 'region_2',\n",
       " 'taster_name',\n",
       " 'variety',\n",
       " 'winery',\n",
       " 'price']"
      ]
     },
     "execution_count": 81,
     "metadata": {},
     "output_type": "execute_result"
    }
   ],
   "source": [
    "features"
   ]
  },
  {
   "cell_type": "code",
   "execution_count": 82,
   "metadata": {
    "tags": []
   },
   "outputs": [],
   "source": [
    "from scipy.sparse import coo_matrix, hstack\n",
    "from sklearn.preprocessing import StandardScaler"
   ]
  },
  {
   "cell_type": "markdown",
   "metadata": {},
   "source": [
    "### using scale and standard for make all features in same scale"
   ]
  },
  {
   "cell_type": "code",
   "execution_count": 83,
   "metadata": {},
   "outputs": [],
   "source": [
    "scaler = StandardScaler()\n",
    "scaled_train = scaler.fit_transform(train_encoded_features.values)\n",
    "scaled_train_df = pd.DataFrame(scaled_train, index=train_encoded_features.index, columns=train_encoded_features.columns)\n",
    "scaled_test = scaler.transform(test_encoded_features.values)\n",
    "scaled_test_df = pd.DataFrame(scaled_test, index=test_encoded_features.index, columns=test_encoded_features.columns)"
   ]
  },
  {
   "cell_type": "markdown",
   "metadata": {},
   "source": [
    "### make train_united_features that combain description column with other features , same as with test"
   ]
  },
  {
   "cell_type": "code",
   "execution_count": 84,
   "metadata": {},
   "outputs": [],
   "source": [
    "train_features_spares_matrix = coo_matrix(scaled_train_df[features])\n",
    "train_united_features = hstack((clean_bow_counts_train ,train_features_spares_matrix))\n",
    "\n",
    "test_features_spares_matrix = coo_matrix(scaled_test_df[features])\n",
    "test_united_features = hstack((clean_bow_counts_test ,test_features_spares_matrix))"
   ]
  },
  {
   "cell_type": "code",
   "execution_count": 85,
   "metadata": {},
   "outputs": [
    {
     "data": {
      "text/plain": [
       "(95990, 8)"
      ]
     },
     "execution_count": 85,
     "metadata": {},
     "output_type": "execute_result"
    }
   ],
   "source": [
    "train_features_spares_matrix.shape"
   ]
  },
  {
   "cell_type": "markdown",
   "metadata": {},
   "source": [
    "#### Search for the best alpha on the Train set only :"
   ]
  },
  {
   "cell_type": "code",
   "execution_count": 86,
   "metadata": {},
   "outputs": [],
   "source": [
    "%%capture\n",
    "search_grid = np.logspace(-2, 4, num=50, endpoint=True, base=10.0)\n",
    "MSE_by_alpha = []\n",
    "for alpha in search_grid:\n",
    "    model = Ridge(alpha=alpha)\n",
    "    avg_score = cross_val_score(model, train_united_features, y = train_data.points, cv = 10, scoring = 'neg_mean_squared_error').mean()\n",
    "    MSE_by_alpha.append((alpha,avg_score))"
   ]
  },
  {
   "cell_type": "code",
   "execution_count": 87,
   "metadata": {},
   "outputs": [
    {
     "data": {
      "application/vnd.plotly.v1+json": {
       "config": {
        "linkText": "Export to plot.ly",
        "plotlyServerURL": "https://plot.ly",
        "showLink": true
       },
       "data": [
        {
         "line": {
          "color": "rgba(255, 153, 51, 1.0)",
          "dash": "solid",
          "shape": "linear",
          "width": 3
         },
         "mode": "lines",
         "name": "MSE",
         "text": "",
         "type": "scatter",
         "x": [
          0.01,
          0.013257113655901088,
          0.017575106248547922,
          0.023299518105153717,
          0.030888435964774818,
          0.040949150623804255,
          0.054286754393238594,
          0.07196856730011521,
          0.09540954763499938,
          0.12648552168552957,
          0.16768329368110083,
          0.22229964825261944,
          0.29470517025518095,
          0.3906939937054617,
          0.517947467923121,
          0.6866488450043002,
          0.9102981779915218,
          1.2067926406393288,
          1.5998587196060574,
          2.1209508879201904,
          2.8117686979742307,
          3.727593720314938,
          4.941713361323833,
          6.551285568595509,
          8.68511373751352,
          11.513953993264469,
          15.264179671752334,
          20.235896477251575,
          26.826957952797247,
          35.564803062231285,
          47.14866363457394
         ],
         "y": [
          -3.2427420630777575,
          -3.2424614532830076,
          -3.23979137493608,
          -3.238643683027257,
          -3.240133144483205,
          -3.2339263961214924,
          -3.232607972138412,
          -3.2255455593356417,
          -3.220567008536102,
          -3.213411429115993,
          -3.2055233460972175,
          -3.192441652891483,
          -3.1775124458102804,
          -3.1613284861846713,
          -3.142116046524965,
          -3.118466844470696,
          -3.093802307633182,
          -3.0663636679270545,
          -3.036819617211394,
          -3.0087283734225134,
          -2.981659375273043,
          -2.9571071436867364,
          -2.935709275109881,
          -2.918956497335477,
          -2.9070437689123816,
          -2.9000836655025033,
          -2.89830211987311,
          -2.9023221166040107,
          -2.9122139218177816,
          -2.92789536130837,
          -2.9504891165501292
         ]
        }
       ],
       "layout": {
        "autosize": true,
        "legend": {
         "bgcolor": "#F5F6F9",
         "font": {
          "color": "#4D5663"
         }
        },
        "paper_bgcolor": "#F5F6F9",
        "plot_bgcolor": "#F5F6F9",
        "shapes": [
         {
          "line": {
           "color": "#db4052",
           "dash": "solid",
           "width": 1
          },
          "type": "line",
          "x0": 0,
          "x1": 1,
          "xref": "paper",
          "y0": [
           0,
           0
          ],
          "y1": [
           0,
           0
          ],
          "yref": "y"
         }
        ],
        "title": {
         "font": {
          "color": "#4D5663"
         },
         "text": "BOW Counts - MSE as a function of alpha (on train set)"
        },
        "xaxis": {
         "autorange": true,
         "gridcolor": "#E1E5ED",
         "range": [
          0.01,
          47.14866363457394
         ],
         "showgrid": true,
         "tickfont": {
          "color": "#4D5663"
         },
         "title": {
          "font": {
           "color": "#4D5663"
          },
          "text": "alpha"
         },
         "type": "linear",
         "zerolinecolor": "#E1E5ED"
        },
        "yaxis": {
         "autorange": true,
         "gridcolor": "#E1E5ED",
         "range": [
          -3.261877615478016,
          -2.8791665674728515
         ],
         "showgrid": true,
         "tickfont": {
          "color": "#4D5663"
         },
         "title": {
          "font": {
           "color": "#4D5663"
          },
          "text": "MSE"
         },
         "type": "linear",
         "zerolinecolor": "#E1E5ED"
        }
       }
      },
      "image/png": "[encoded data removed]",
      "text/html": [
       "<div>                            <div id=\"7b7e2854-b3cd-4137-b796-6b655a61d807\" class=\"plotly-graph-div\" style=\"height:525px; width:100%;\"></div>            <script type=\"text/javascript\">                require([\"plotly\"], function(Plotly) {                    window.PLOTLYENV=window.PLOTLYENV || {};\n",
       "                    window.PLOTLYENV.BASE_URL='https://plot.ly';                                    if (document.getElementById(\"7b7e2854-b3cd-4137-b796-6b655a61d807\")) {                    Plotly.newPlot(                        \"7b7e2854-b3cd-4137-b796-6b655a61d807\",                        [{\"line\":{\"color\":\"rgba(255, 153, 51, 1.0)\",\"dash\":\"solid\",\"shape\":\"linear\",\"width\":3},\"mode\":\"lines\",\"name\":\"MSE\",\"text\":\"\",\"x\":[0.01,0.013257113655901088,0.017575106248547922,0.023299518105153717,0.030888435964774818,0.040949150623804255,0.054286754393238594,0.07196856730011521,0.09540954763499938,0.12648552168552957,0.16768329368110083,0.22229964825261944,0.29470517025518095,0.3906939937054617,0.517947467923121,0.6866488450043002,0.9102981779915218,1.2067926406393288,1.5998587196060574,2.1209508879201904,2.8117686979742307,3.727593720314938,4.941713361323833,6.551285568595509,8.68511373751352,11.513953993264469,15.264179671752334,20.235896477251575,26.826957952797247,35.564803062231285,47.14866363457394],\"y\":[-3.2427420630777575,-3.2424614532830076,-3.23979137493608,-3.238643683027257,-3.240133144483205,-3.2339263961214924,-3.232607972138412,-3.2255455593356417,-3.220567008536102,-3.213411429115993,-3.2055233460972175,-3.192441652891483,-3.1775124458102804,-3.1613284861846713,-3.142116046524965,-3.118466844470696,-3.093802307633182,-3.0663636679270545,-3.036819617211394,-3.0087283734225134,-2.981659375273043,-2.9571071436867364,-2.935709275109881,-2.918956497335477,-2.9070437689123816,-2.9000836655025033,-2.89830211987311,-2.9023221166040107,-2.9122139218177816,-2.92789536130837,-2.9504891165501292],\"type\":\"scatter\"}],                        {\"legend\":{\"bgcolor\":\"#F5F6F9\",\"font\":{\"color\":\"#4D5663\"}},\"paper_bgcolor\":\"#F5F6F9\",\"plot_bgcolor\":\"#F5F6F9\",\"yaxis\":{\"tickfont\":{\"color\":\"#4D5663\"},\"gridcolor\":\"#E1E5ED\",\"titlefont\":{\"color\":\"#4D5663\"},\"zerolinecolor\":\"#E1E5ED\",\"showgrid\":true,\"title\":\"MSE\"},\"xaxis\":{\"tickfont\":{\"color\":\"#4D5663\"},\"gridcolor\":\"#E1E5ED\",\"titlefont\":{\"color\":\"#4D5663\"},\"zerolinecolor\":\"#E1E5ED\",\"showgrid\":true,\"title\":\"alpha\"},\"titlefont\":{\"color\":\"#4D5663\"},\"title\":\"BOW Counts - MSE as a function of alpha (on train set)\",\"shapes\":[{\"x0\":0,\"y0\":[0,0],\"x1\":1,\"y1\":[0,0],\"line\":{\"color\":\"#db4052\",\"width\":1,\"dash\":\"solid\"},\"xref\":\"paper\",\"yref\":\"y\",\"type\":\"line\"}]},                        {\"showLink\": true, \"linkText\": \"Export to plot.ly\", \"plotlyServerURL\": \"https://plot.ly\", \"responsive\": true}                    ).then(function(){\n",
       "                            \n",
       "var gd = document.getElementById('7b7e2854-b3cd-4137-b796-6b655a61d807');\n",
       "var x = new MutationObserver(function (mutations, observer) {{\n",
       "        var display = window.getComputedStyle(gd).display;\n",
       "        if (!display || display === 'none') {{\n",
       "            console.log([gd, 'removed!']);\n",
       "            Plotly.purge(gd);\n",
       "            observer.disconnect();\n",
       "        }}\n",
       "}});\n",
       "\n",
       "// Listen for the removal of the full notebook cells\n",
       "var notebookContainer = gd.closest('#notebook-container');\n",
       "if (notebookContainer) {{\n",
       "    x.observe(notebookContainer, {childList: true});\n",
       "}}\n",
       "\n",
       "// Listen for the clearing of the current output cell\n",
       "var outputEl = gd.closest('.output');\n",
       "if (outputEl) {{\n",
       "    x.observe(outputEl, {childList: true});\n",
       "}}\n",
       "\n",
       "                        })                };                });            </script>        </div>"
      ]
     },
     "metadata": {},
     "output_type": "display_data"
    }
   ],
   "source": [
    "cv_results = pd.DataFrame(MSE_by_alpha, columns = ['alpha', 'MSE'])\n",
    "cv_results.query('alpha < 50').set_index('alpha').MSE.iplot(title = 'BOW Counts - MSE as a function of alpha (on train set)', xTitle = 'alpha', yTitle = 'MSE', width = 3, hline=(0,0))"
   ]
  },
  {
   "cell_type": "code",
   "execution_count": 88,
   "metadata": {},
   "outputs": [
    {
     "name": "stdout",
     "output_type": "stream",
     "text": [
      "15.264179671752334 2.89830211987311\n"
     ]
    }
   ],
   "source": [
    "opt_alpha, max_MSE = cv_results.loc[cv_results.MSE.idxmax()]\n",
    "print(opt_alpha, -max_MSE)"
   ]
  },
  {
   "cell_type": "markdown",
   "metadata": {},
   "source": [
    "#### Optimal Model : training the model with the best alpha, on the train set:"
   ]
  },
  {
   "cell_type": "code",
   "execution_count": 89,
   "metadata": {},
   "outputs": [
    {
     "data": {
      "text/html": [
       "<style>#sk-container-id-4 {color: black;background-color: white;}#sk-container-id-4 pre{padding: 0;}#sk-container-id-4 div.sk-toggleable {background-color: white;}#sk-container-id-4 label.sk-toggleable__label {cursor: pointer;display: block;width: 100%;margin-bottom: 0;padding: 0.3em;box-sizing: border-box;text-align: center;}#sk-container-id-4 label.sk-toggleable__label-arrow:before {content: \"▸\";float: left;margin-right: 0.25em;color: #696969;}#sk-container-id-4 label.sk-toggleable__label-arrow:hover:before {color: black;}#sk-container-id-4 div.sk-estimator:hover label.sk-toggleable__label-arrow:before {color: black;}#sk-container-id-4 div.sk-toggleable__content {max-height: 0;max-width: 0;overflow: hidden;text-align: left;background-color: #f0f8ff;}#sk-container-id-4 div.sk-toggleable__content pre {margin: 0.2em;color: black;border-radius: 0.25em;background-color: #f0f8ff;}#sk-container-id-4 input.sk-toggleable__control:checked~div.sk-toggleable__content {max-height: 200px;max-width: 100%;overflow: auto;}#sk-container-id-4 input.sk-toggleable__control:checked~label.sk-toggleable__label-arrow:before {content: \"▾\";}#sk-container-id-4 div.sk-estimator input.sk-toggleable__control:checked~label.sk-toggleable__label {background-color: #d4ebff;}#sk-container-id-4 div.sk-label input.sk-toggleable__control:checked~label.sk-toggleable__label {background-color: #d4ebff;}#sk-container-id-4 input.sk-hidden--visually {border: 0;clip: rect(1px 1px 1px 1px);clip: rect(1px, 1px, 1px, 1px);height: 1px;margin: -1px;overflow: hidden;padding: 0;position: absolute;width: 1px;}#sk-container-id-4 div.sk-estimator {font-family: monospace;background-color: #f0f8ff;border: 1px dotted black;border-radius: 0.25em;box-sizing: border-box;margin-bottom: 0.5em;}#sk-container-id-4 div.sk-estimator:hover {background-color: #d4ebff;}#sk-container-id-4 div.sk-parallel-item::after {content: \"\";width: 100%;border-bottom: 1px solid gray;flex-grow: 1;}#sk-container-id-4 div.sk-label:hover label.sk-toggleable__label {background-color: #d4ebff;}#sk-container-id-4 div.sk-serial::before {content: \"\";position: absolute;border-left: 1px solid gray;box-sizing: border-box;top: 0;bottom: 0;left: 50%;z-index: 0;}#sk-container-id-4 div.sk-serial {display: flex;flex-direction: column;align-items: center;background-color: white;padding-right: 0.2em;padding-left: 0.2em;position: relative;}#sk-container-id-4 div.sk-item {position: relative;z-index: 1;}#sk-container-id-4 div.sk-parallel {display: flex;align-items: stretch;justify-content: center;background-color: white;position: relative;}#sk-container-id-4 div.sk-item::before, #sk-container-id-4 div.sk-parallel-item::before {content: \"\";position: absolute;border-left: 1px solid gray;box-sizing: border-box;top: 0;bottom: 0;left: 50%;z-index: -1;}#sk-container-id-4 div.sk-parallel-item {display: flex;flex-direction: column;z-index: 1;position: relative;background-color: white;}#sk-container-id-4 div.sk-parallel-item:first-child::after {align-self: flex-end;width: 50%;}#sk-container-id-4 div.sk-parallel-item:last-child::after {align-self: flex-start;width: 50%;}#sk-container-id-4 div.sk-parallel-item:only-child::after {width: 0;}#sk-container-id-4 div.sk-dashed-wrapped {border: 1px dashed gray;margin: 0 0.4em 0.5em 0.4em;box-sizing: border-box;padding-bottom: 0.4em;background-color: white;}#sk-container-id-4 div.sk-label label {font-family: monospace;font-weight: bold;display: inline-block;line-height: 1.2em;}#sk-container-id-4 div.sk-label-container {text-align: center;}#sk-container-id-4 div.sk-container {/* jupyter's `normalize.less` sets `[hidden] { display: none; }` but bootstrap.min.css set `[hidden] { display: none !important; }` so we also need the `!important` here to be able to override the default hidden behavior on the sphinx rendered scikit-learn.org. See: https://github.com/scikit-learn/scikit-learn/issues/21755 */display: inline-block !important;position: relative;}#sk-container-id-4 div.sk-text-repr-fallback {display: none;}</style><div id=\"sk-container-id-4\" class=\"sk-top-container\"><div class=\"sk-text-repr-fallback\"><pre>Ridge(alpha=15.264179671752334)</pre><b>In a Jupyter environment, please rerun this cell to show the HTML representation or trust the notebook. <br />On GitHub, the HTML representation is unable to render, please try loading this page with nbviewer.org.</b></div><div class=\"sk-container\" hidden><div class=\"sk-item\"><div class=\"sk-estimator sk-toggleable\"><input class=\"sk-toggleable__control sk-hidden--visually\" id=\"sk-estimator-id-4\" type=\"checkbox\" checked><label for=\"sk-estimator-id-4\" class=\"sk-toggleable__label sk-toggleable__label-arrow\">Ridge</label><div class=\"sk-toggleable__content\"><pre>Ridge(alpha=15.264179671752334)</pre></div></div></div></div></div>"
      ],
      "text/plain": [
       "Ridge(alpha=15.264179671752334)"
      ]
     },
     "execution_count": 89,
     "metadata": {},
     "output_type": "execute_result"
    }
   ],
   "source": [
    "model = Ridge(alpha=opt_alpha)\n",
    "model.fit(train_united_features, train_data.points)"
   ]
  },
  {
   "cell_type": "code",
   "execution_count": 90,
   "metadata": {},
   "outputs": [],
   "source": [
    "test_data['NLP_with_all_features_predicted_points'] = model.predict(test_united_features)"
   ]
  },
  {
   "cell_type": "code",
   "execution_count": 106,
   "metadata": {},
   "outputs": [
    {
     "data": {
      "text/plain": [
       "MSE    2.882593\n",
       "MAE    1.334042\n",
       "R2     0.698429\n",
       "dtype: float64"
      ]
     },
     "execution_count": 106,
     "metadata": {},
     "output_type": "execute_result"
    }
   ],
   "source": [
    "NLP_with_all_features_predicted_points = calc_prediction_quality(test_data, 'NLP_with_all_features_predicted_points','points')\n",
    "NLP_with_all_features_predicted_points"
   ]
  },
  {
   "cell_type": "code",
   "execution_count": 107,
   "metadata": {},
   "outputs": [
    {
     "data": {
      "text/html": [
       "<div>\n",
       "<style scoped>\n",
       "    .dataframe tbody tr th:only-of-type {\n",
       "        vertical-align: middle;\n",
       "    }\n",
       "\n",
       "    .dataframe tbody tr th {\n",
       "        vertical-align: top;\n",
       "    }\n",
       "\n",
       "    .dataframe thead th {\n",
       "        text-align: right;\n",
       "    }\n",
       "</style>\n",
       "<table border=\"1\" class=\"dataframe\">\n",
       "  <thead>\n",
       "    <tr style=\"text-align: right;\">\n",
       "      <th></th>\n",
       "      <th>MSE</th>\n",
       "      <th>MAE</th>\n",
       "      <th>R2</th>\n",
       "    </tr>\n",
       "  </thead>\n",
       "  <tbody>\n",
       "    <tr>\n",
       "      <th>baseline_1</th>\n",
       "      <td>9.559410</td>\n",
       "      <td>2.534726</td>\n",
       "      <td>-0.000087</td>\n",
       "    </tr>\n",
       "    <tr>\n",
       "      <th>baseline_2</th>\n",
       "      <td>9.052361</td>\n",
       "      <td>2.462888</td>\n",
       "      <td>0.052960</td>\n",
       "    </tr>\n",
       "    <tr>\n",
       "      <th>baseline_3</th>\n",
       "      <td>8.521883</td>\n",
       "      <td>2.373365</td>\n",
       "      <td>0.108457</td>\n",
       "    </tr>\n",
       "    <tr>\n",
       "      <th>NLP_with_description_predicted_points</th>\n",
       "      <td>2.883265</td>\n",
       "      <td>1.334152</td>\n",
       "      <td>0.698358</td>\n",
       "    </tr>\n",
       "    <tr>\n",
       "      <th>NLP_with_all_features_predicted_points</th>\n",
       "      <td>2.882593</td>\n",
       "      <td>1.334042</td>\n",
       "      <td>0.698429</td>\n",
       "    </tr>\n",
       "  </tbody>\n",
       "</table>\n",
       "</div>"
      ],
      "text/plain": [
       "                                             MSE       MAE        R2\n",
       "baseline_1                              9.559410  2.534726 -0.000087\n",
       "baseline_2                              9.052361  2.462888  0.052960\n",
       "baseline_3                              8.521883  2.373365  0.108457\n",
       "NLP_with_description_predicted_points   2.883265  1.334152  0.698358\n",
       "NLP_with_all_features_predicted_points  2.882593  1.334042  0.698429"
      ]
     },
     "execution_count": 107,
     "metadata": {},
     "output_type": "execute_result"
    }
   ],
   "source": [
    "all_compared = pd.DataFrame([b1_stats, b2_stats, b3_stats, NLP_with_description_predicted_points, NLP_with_all_features_predicted_points], index=['baseline_1', 'baseline_2','baseline_3', 'NLP_with_description_predicted_points', 'NLP_with_all_features_predicted_points'])\n",
    "all_compared"
   ]
  },
  {
   "cell_type": "markdown",
   "metadata": {},
   "source": [
    "<div style=\"border:1px solid green; padding:15px;border-radius:25px\">\n",
    "<br>\n",
    "<h3>The result of NLP_with_all_features_predicted_points </h3>\n",
    "<h5>MSE: 2.882593 </h5>\n",
    "<h5>MAE: 1.334042 </h5>\n",
    "<h5>R2: 0.698429</h5>\n",
    "<h5>Here we can see that the result a <b style=\"color:green\">little bit better</b> than the model with description column only</h5>\n",
    "<br>\n",
    "    </div>"
   ]
  },
  {
   "cell_type": "markdown",
   "metadata": {},
   "source": [
    "# Classical NLP without outliers"
   ]
  },
  {
   "cell_type": "code",
   "execution_count": 92,
   "metadata": {},
   "outputs": [
    {
     "data": {
      "text/plain": [
       "country           AxesSubplot(0.125,0.657941;0.227941x0.222059)\n",
       "province       AxesSubplot(0.398529,0.657941;0.227941x0.222059)\n",
       "region_1       AxesSubplot(0.672059,0.657941;0.227941x0.222059)\n",
       "region_2          AxesSubplot(0.125,0.391471;0.227941x0.222059)\n",
       "taster_name    AxesSubplot(0.398529,0.391471;0.227941x0.222059)\n",
       "variety        AxesSubplot(0.672059,0.391471;0.227941x0.222059)\n",
       "winery               AxesSubplot(0.125,0.125;0.227941x0.222059)\n",
       "price             AxesSubplot(0.398529,0.125;0.227941x0.222059)\n",
       "points            AxesSubplot(0.672059,0.125;0.227941x0.222059)\n",
       "dtype: object"
      ]
     },
     "execution_count": 92,
     "metadata": {},
     "output_type": "execute_result"
    },
    {
     "data": {
      "image/png": "[encoded data removed]",
      "text/plain": [
       "<Figure size 720x720 with 9 Axes>"
      ]
     },
     "metadata": {
      "needs_background": "light"
     },
     "output_type": "display_data"
    }
   ],
   "source": [
    "train_encoded_features.plot(kind='box', subplots=True, figsize=(10,10), layout=(3,3))"
   ]
  },
  {
   "cell_type": "code",
   "execution_count": 93,
   "metadata": {},
   "outputs": [],
   "source": [
    "selected_features = ['country',\n",
    " 'province',\n",
    " 'region_1',\n",
    " 'region_2',\n",
    " 'taster_name',\n",
    " 'variety',\n",
    " 'winery']"
   ]
  },
  {
   "cell_type": "markdown",
   "metadata": {},
   "source": [
    "import numpy as np\n",
    "from scipy import stats\n",
    "train_encoded_features[(np.abs(stats.zscore(train_encoded_features)) < 3).all(axis=1)]\n"
   ]
  },
  {
   "cell_type": "code",
   "execution_count": 94,
   "metadata": {},
   "outputs": [
    {
     "data": {
      "text/html": [
       "<div>\n",
       "<style scoped>\n",
       "    .dataframe tbody tr th:only-of-type {\n",
       "        vertical-align: middle;\n",
       "    }\n",
       "\n",
       "    .dataframe tbody tr th {\n",
       "        vertical-align: top;\n",
       "    }\n",
       "\n",
       "    .dataframe thead th {\n",
       "        text-align: right;\n",
       "    }\n",
       "</style>\n",
       "<table border=\"1\" class=\"dataframe\">\n",
       "  <thead>\n",
       "    <tr style=\"text-align: right;\">\n",
       "      <th></th>\n",
       "      <th>country</th>\n",
       "      <th>province</th>\n",
       "      <th>region_1</th>\n",
       "      <th>region_2</th>\n",
       "      <th>taster_name</th>\n",
       "      <th>variety</th>\n",
       "      <th>winery</th>\n",
       "      <th>points</th>\n",
       "    </tr>\n",
       "  </thead>\n",
       "  <tbody>\n",
       "    <tr>\n",
       "      <th>0</th>\n",
       "      <td>22</td>\n",
       "      <td>332</td>\n",
       "      <td>424</td>\n",
       "      <td>6</td>\n",
       "      <td>9</td>\n",
       "      <td>691</td>\n",
       "      <td>11608</td>\n",
       "      <td>87</td>\n",
       "    </tr>\n",
       "    <tr>\n",
       "      <th>1</th>\n",
       "      <td>32</td>\n",
       "      <td>108</td>\n",
       "      <td>738</td>\n",
       "      <td>6</td>\n",
       "      <td>16</td>\n",
       "      <td>451</td>\n",
       "      <td>12956</td>\n",
       "      <td>87</td>\n",
       "    </tr>\n",
       "    <tr>\n",
       "      <th>2</th>\n",
       "      <td>41</td>\n",
       "      <td>269</td>\n",
       "      <td>1218</td>\n",
       "      <td>17</td>\n",
       "      <td>15</td>\n",
       "      <td>437</td>\n",
       "      <td>13018</td>\n",
       "      <td>87</td>\n",
       "    </tr>\n",
       "    <tr>\n",
       "      <th>3</th>\n",
       "      <td>41</td>\n",
       "      <td>218</td>\n",
       "      <td>549</td>\n",
       "      <td>6</td>\n",
       "      <td>0</td>\n",
       "      <td>480</td>\n",
       "      <td>14390</td>\n",
       "      <td>87</td>\n",
       "    </tr>\n",
       "    <tr>\n",
       "      <th>4</th>\n",
       "      <td>41</td>\n",
       "      <td>269</td>\n",
       "      <td>1218</td>\n",
       "      <td>17</td>\n",
       "      <td>15</td>\n",
       "      <td>441</td>\n",
       "      <td>14621</td>\n",
       "      <td>87</td>\n",
       "    </tr>\n",
       "  </tbody>\n",
       "</table>\n",
       "</div>"
      ],
      "text/plain": [
       "   country  province  region_1  region_2  taster_name  variety  winery  points\n",
       "0       22       332       424         6            9      691   11608      87\n",
       "1       32       108       738         6           16      451   12956      87\n",
       "2       41       269      1218        17           15      437   13018      87\n",
       "3       41       218       549         6            0      480   14390      87\n",
       "4       41       269      1218        17           15      441   14621      87"
      ]
     },
     "execution_count": 94,
     "metadata": {},
     "output_type": "execute_result"
    }
   ],
   "source": [
    "encoded_features2 = wine_reviews[categorical_features].apply(lambda col: le.fit_transform(col.fillna('NA')))\n",
    "encoded_features2['points'] = wine_reviews.points\n",
    "encoded_features2.head()"
   ]
  },
  {
   "cell_type": "code",
   "execution_count": 95,
   "metadata": {},
   "outputs": [
    {
     "data": {
      "text/plain": [
       "(119988, 8)"
      ]
     },
     "execution_count": 95,
     "metadata": {},
     "output_type": "execute_result"
    }
   ],
   "source": [
    "encoded_features2.shape"
   ]
  },
  {
   "cell_type": "code",
   "execution_count": 96,
   "metadata": {},
   "outputs": [],
   "source": [
    "train_encoded_features2 = encoded_features2[encoded_features2.index.isin(train_data.index)]\n",
    "test_encoded_features2 = encoded_features2[encoded_features2.index.isin(test_data.index)]\n",
    "assert(len(train_encoded_features2) + len(test_encoded_features2) == len(wine_reviews))"
   ]
  },
  {
   "cell_type": "code",
   "execution_count": 97,
   "metadata": {},
   "outputs": [],
   "source": [
    "scaler = StandardScaler()\n",
    "scaled_train = scaler.fit_transform(train_encoded_features2.values)\n",
    "scaled_train_df = pd.DataFrame(scaled_train, index=train_encoded_features2.index, columns=train_encoded_features2.columns)\n",
    "scaled_test = scaler.transform(test_encoded_features2.values)\n",
    "scaled_test_df = pd.DataFrame(scaled_test, index=test_encoded_features2.index, columns=test_encoded_features2.columns)"
   ]
  },
  {
   "cell_type": "code",
   "execution_count": 98,
   "metadata": {},
   "outputs": [],
   "source": [
    "train_features_spares_matrix2 = coo_matrix(scaled_train_df[selected_features])\n",
    "train_united_features2 = hstack((clean_bow_counts_train ,train_features_spares_matrix2))\n",
    "\n",
    "test_features_spares_matrix2 = coo_matrix(scaled_test_df[selected_features])\n",
    "test_united_features2 = hstack((clean_bow_counts_test ,test_features_spares_matrix2))"
   ]
  },
  {
   "cell_type": "code",
   "execution_count": 99,
   "metadata": {},
   "outputs": [],
   "source": [
    "%%capture\n",
    "search_grid = np.logspace(-2, 4, num=50, endpoint=True, base=10.0)\n",
    "MSE_by_alpha = []\n",
    "for alpha in search_grid:\n",
    "    model = Ridge(alpha=alpha)\n",
    "    avg_score = cross_val_score(model, train_united_features2, y = train_data.points, cv = 10, scoring = 'neg_mean_squared_error').mean()\n",
    "    MSE_by_alpha.append((alpha,avg_score))"
   ]
  },
  {
   "cell_type": "code",
   "execution_count": 100,
   "metadata": {},
   "outputs": [
    {
     "data": {
      "application/vnd.plotly.v1+json": {
       "config": {
        "linkText": "Export to plot.ly",
        "plotlyServerURL": "https://plot.ly",
        "showLink": true
       },
       "data": [
        {
         "line": {
          "color": "rgba(255, 153, 51, 1.0)",
          "dash": "solid",
          "shape": "linear",
          "width": 3
         },
         "mode": "lines",
         "name": "MSE",
         "text": "",
         "type": "scatter",
         "x": [
          0.01,
          0.013257113655901088,
          0.017575106248547922,
          0.023299518105153717,
          0.030888435964774818,
          0.040949150623804255,
          0.054286754393238594,
          0.07196856730011521,
          0.09540954763499938,
          0.12648552168552957,
          0.16768329368110083,
          0.22229964825261944,
          0.29470517025518095,
          0.3906939937054617,
          0.517947467923121,
          0.6866488450043002,
          0.9102981779915218,
          1.2067926406393288,
          1.5998587196060574,
          2.1209508879201904,
          2.8117686979742307,
          3.727593720314938,
          4.941713361323833,
          6.551285568595509,
          8.68511373751352,
          11.513953993264469,
          15.264179671752334,
          20.235896477251575,
          26.826957952797247,
          35.564803062231285,
          47.14866363457394
         ],
         "y": [
          -3.2437730341686253,
          -3.241603553361402,
          -3.242579646728251,
          -3.2394983484834747,
          -3.238669920646495,
          -3.2342945681917366,
          -3.232539455981403,
          -3.227048800504375,
          -3.219754316424768,
          -3.2127759703704415,
          -3.2017371966564503,
          -3.1928005661867136,
          -3.178449040450034,
          -3.1603185584403617,
          -3.1407323713497273,
          -3.1183493903803456,
          -3.0939100839726454,
          -3.0654692496905085,
          -3.0366757425237862,
          -3.0087330110414277,
          -2.9814392086522785,
          -2.9567446723326625,
          -2.93617414144759,
          -2.9187998279241163,
          -2.906961516314771,
          -2.8997896476155285,
          -2.898247168021745,
          -2.90218973074874,
          -2.91211981442501,
          -2.927835407651839,
          -2.9501457092406893
         ]
        }
       ],
       "layout": {
        "autosize": true,
        "legend": {
         "bgcolor": "#F5F6F9",
         "font": {
          "color": "#4D5663"
         }
        },
        "paper_bgcolor": "#F5F6F9",
        "plot_bgcolor": "#F5F6F9",
        "shapes": [
         {
          "line": {
           "color": "#db4052",
           "dash": "solid",
           "width": 1
          },
          "type": "line",
          "x0": 0,
          "x1": 1,
          "xref": "paper",
          "y0": [
           0,
           0
          ],
          "y1": [
           0,
           0
          ],
          "yref": "y"
         }
        ],
        "title": {
         "font": {
          "color": "#4D5663"
         },
         "text": "BOW Counts - MSE as a function of alpha (on train set)"
        },
        "xaxis": {
         "autorange": true,
         "gridcolor": "#E1E5ED",
         "range": [
          0.01,
          47.14866363457394
         ],
         "showgrid": true,
         "tickfont": {
          "color": "#4D5663"
         },
         "title": {
          "font": {
           "color": "#4D5663"
          },
          "text": "alpha"
         },
         "type": "linear",
         "zerolinecolor": "#E1E5ED"
        },
        "yaxis": {
         "autorange": true,
         "gridcolor": "#E1E5ED",
         "range": [
          -3.26296891562123,
          -2.8790512865691404
         ],
         "showgrid": true,
         "tickfont": {
          "color": "#4D5663"
         },
         "title": {
          "font": {
           "color": "#4D5663"
          },
          "text": "MSE"
         },
         "type": "linear",
         "zerolinecolor": "#E1E5ED"
        }
       }
      },
      "image/png": "[encoded data removed]",
      "text/html": [
       "<div>                            <div id=\"879feca1-4c8a-4d38-b6d8-4a30d364e5a6\" class=\"plotly-graph-div\" style=\"height:525px; width:100%;\"></div>            <script type=\"text/javascript\">                require([\"plotly\"], function(Plotly) {                    window.PLOTLYENV=window.PLOTLYENV || {};\n",
       "                    window.PLOTLYENV.BASE_URL='https://plot.ly';                                    if (document.getElementById(\"879feca1-4c8a-4d38-b6d8-4a30d364e5a6\")) {                    Plotly.newPlot(                        \"879feca1-4c8a-4d38-b6d8-4a30d364e5a6\",                        [{\"line\":{\"color\":\"rgba(255, 153, 51, 1.0)\",\"dash\":\"solid\",\"shape\":\"linear\",\"width\":3},\"mode\":\"lines\",\"name\":\"MSE\",\"text\":\"\",\"x\":[0.01,0.013257113655901088,0.017575106248547922,0.023299518105153717,0.030888435964774818,0.040949150623804255,0.054286754393238594,0.07196856730011521,0.09540954763499938,0.12648552168552957,0.16768329368110083,0.22229964825261944,0.29470517025518095,0.3906939937054617,0.517947467923121,0.6866488450043002,0.9102981779915218,1.2067926406393288,1.5998587196060574,2.1209508879201904,2.8117686979742307,3.727593720314938,4.941713361323833,6.551285568595509,8.68511373751352,11.513953993264469,15.264179671752334,20.235896477251575,26.826957952797247,35.564803062231285,47.14866363457394],\"y\":[-3.2437730341686253,-3.241603553361402,-3.242579646728251,-3.2394983484834747,-3.238669920646495,-3.2342945681917366,-3.232539455981403,-3.227048800504375,-3.219754316424768,-3.2127759703704415,-3.2017371966564503,-3.1928005661867136,-3.178449040450034,-3.1603185584403617,-3.1407323713497273,-3.1183493903803456,-3.0939100839726454,-3.0654692496905085,-3.0366757425237862,-3.0087330110414277,-2.9814392086522785,-2.9567446723326625,-2.93617414144759,-2.9187998279241163,-2.906961516314771,-2.8997896476155285,-2.898247168021745,-2.90218973074874,-2.91211981442501,-2.927835407651839,-2.9501457092406893],\"type\":\"scatter\"}],                        {\"legend\":{\"bgcolor\":\"#F5F6F9\",\"font\":{\"color\":\"#4D5663\"}},\"paper_bgcolor\":\"#F5F6F9\",\"plot_bgcolor\":\"#F5F6F9\",\"yaxis\":{\"tickfont\":{\"color\":\"#4D5663\"},\"gridcolor\":\"#E1E5ED\",\"titlefont\":{\"color\":\"#4D5663\"},\"zerolinecolor\":\"#E1E5ED\",\"showgrid\":true,\"title\":\"MSE\"},\"xaxis\":{\"tickfont\":{\"color\":\"#4D5663\"},\"gridcolor\":\"#E1E5ED\",\"titlefont\":{\"color\":\"#4D5663\"},\"zerolinecolor\":\"#E1E5ED\",\"showgrid\":true,\"title\":\"alpha\"},\"titlefont\":{\"color\":\"#4D5663\"},\"title\":\"BOW Counts - MSE as a function of alpha (on train set)\",\"shapes\":[{\"x0\":0,\"y0\":[0,0],\"x1\":1,\"y1\":[0,0],\"line\":{\"color\":\"#db4052\",\"width\":1,\"dash\":\"solid\"},\"xref\":\"paper\",\"yref\":\"y\",\"type\":\"line\"}]},                        {\"showLink\": true, \"linkText\": \"Export to plot.ly\", \"plotlyServerURL\": \"https://plot.ly\", \"responsive\": true}                    ).then(function(){\n",
       "                            \n",
       "var gd = document.getElementById('879feca1-4c8a-4d38-b6d8-4a30d364e5a6');\n",
       "var x = new MutationObserver(function (mutations, observer) {{\n",
       "        var display = window.getComputedStyle(gd).display;\n",
       "        if (!display || display === 'none') {{\n",
       "            console.log([gd, 'removed!']);\n",
       "            Plotly.purge(gd);\n",
       "            observer.disconnect();\n",
       "        }}\n",
       "}});\n",
       "\n",
       "// Listen for the removal of the full notebook cells\n",
       "var notebookContainer = gd.closest('#notebook-container');\n",
       "if (notebookContainer) {{\n",
       "    x.observe(notebookContainer, {childList: true});\n",
       "}}\n",
       "\n",
       "// Listen for the clearing of the current output cell\n",
       "var outputEl = gd.closest('.output');\n",
       "if (outputEl) {{\n",
       "    x.observe(outputEl, {childList: true});\n",
       "}}\n",
       "\n",
       "                        })                };                });            </script>        </div>"
      ]
     },
     "metadata": {},
     "output_type": "display_data"
    }
   ],
   "source": [
    "cv_results = pd.DataFrame(MSE_by_alpha, columns = ['alpha', 'MSE'])\n",
    "cv_results.query('alpha < 50').set_index('alpha').MSE.iplot(title = 'BOW Counts - MSE as a function of alpha (on train set)', xTitle = 'alpha', yTitle = 'MSE', width = 3, hline=(0,0))"
   ]
  },
  {
   "cell_type": "code",
   "execution_count": 101,
   "metadata": {},
   "outputs": [
    {
     "name": "stdout",
     "output_type": "stream",
     "text": [
      "15.264179671752334 2.898247168021745\n"
     ]
    }
   ],
   "source": [
    "opt_alpha, max_MSE = cv_results.loc[cv_results.MSE.idxmax()]\n",
    "print(opt_alpha, -max_MSE)"
   ]
  },
  {
   "cell_type": "code",
   "execution_count": 102,
   "metadata": {},
   "outputs": [
    {
     "data": {
      "text/html": [
       "<style>#sk-container-id-5 {color: black;background-color: white;}#sk-container-id-5 pre{padding: 0;}#sk-container-id-5 div.sk-toggleable {background-color: white;}#sk-container-id-5 label.sk-toggleable__label {cursor: pointer;display: block;width: 100%;margin-bottom: 0;padding: 0.3em;box-sizing: border-box;text-align: center;}#sk-container-id-5 label.sk-toggleable__label-arrow:before {content: \"▸\";float: left;margin-right: 0.25em;color: #696969;}#sk-container-id-5 label.sk-toggleable__label-arrow:hover:before {color: black;}#sk-container-id-5 div.sk-estimator:hover label.sk-toggleable__label-arrow:before {color: black;}#sk-container-id-5 div.sk-toggleable__content {max-height: 0;max-width: 0;overflow: hidden;text-align: left;background-color: #f0f8ff;}#sk-container-id-5 div.sk-toggleable__content pre {margin: 0.2em;color: black;border-radius: 0.25em;background-color: #f0f8ff;}#sk-container-id-5 input.sk-toggleable__control:checked~div.sk-toggleable__content {max-height: 200px;max-width: 100%;overflow: auto;}#sk-container-id-5 input.sk-toggleable__control:checked~label.sk-toggleable__label-arrow:before {content: \"▾\";}#sk-container-id-5 div.sk-estimator input.sk-toggleable__control:checked~label.sk-toggleable__label {background-color: #d4ebff;}#sk-container-id-5 div.sk-label input.sk-toggleable__control:checked~label.sk-toggleable__label {background-color: #d4ebff;}#sk-container-id-5 input.sk-hidden--visually {border: 0;clip: rect(1px 1px 1px 1px);clip: rect(1px, 1px, 1px, 1px);height: 1px;margin: -1px;overflow: hidden;padding: 0;position: absolute;width: 1px;}#sk-container-id-5 div.sk-estimator {font-family: monospace;background-color: #f0f8ff;border: 1px dotted black;border-radius: 0.25em;box-sizing: border-box;margin-bottom: 0.5em;}#sk-container-id-5 div.sk-estimator:hover {background-color: #d4ebff;}#sk-container-id-5 div.sk-parallel-item::after {content: \"\";width: 100%;border-bottom: 1px solid gray;flex-grow: 1;}#sk-container-id-5 div.sk-label:hover label.sk-toggleable__label {background-color: #d4ebff;}#sk-container-id-5 div.sk-serial::before {content: \"\";position: absolute;border-left: 1px solid gray;box-sizing: border-box;top: 0;bottom: 0;left: 50%;z-index: 0;}#sk-container-id-5 div.sk-serial {display: flex;flex-direction: column;align-items: center;background-color: white;padding-right: 0.2em;padding-left: 0.2em;position: relative;}#sk-container-id-5 div.sk-item {position: relative;z-index: 1;}#sk-container-id-5 div.sk-parallel {display: flex;align-items: stretch;justify-content: center;background-color: white;position: relative;}#sk-container-id-5 div.sk-item::before, #sk-container-id-5 div.sk-parallel-item::before {content: \"\";position: absolute;border-left: 1px solid gray;box-sizing: border-box;top: 0;bottom: 0;left: 50%;z-index: -1;}#sk-container-id-5 div.sk-parallel-item {display: flex;flex-direction: column;z-index: 1;position: relative;background-color: white;}#sk-container-id-5 div.sk-parallel-item:first-child::after {align-self: flex-end;width: 50%;}#sk-container-id-5 div.sk-parallel-item:last-child::after {align-self: flex-start;width: 50%;}#sk-container-id-5 div.sk-parallel-item:only-child::after {width: 0;}#sk-container-id-5 div.sk-dashed-wrapped {border: 1px dashed gray;margin: 0 0.4em 0.5em 0.4em;box-sizing: border-box;padding-bottom: 0.4em;background-color: white;}#sk-container-id-5 div.sk-label label {font-family: monospace;font-weight: bold;display: inline-block;line-height: 1.2em;}#sk-container-id-5 div.sk-label-container {text-align: center;}#sk-container-id-5 div.sk-container {/* jupyter's `normalize.less` sets `[hidden] { display: none; }` but bootstrap.min.css set `[hidden] { display: none !important; }` so we also need the `!important` here to be able to override the default hidden behavior on the sphinx rendered scikit-learn.org. See: https://github.com/scikit-learn/scikit-learn/issues/21755 */display: inline-block !important;position: relative;}#sk-container-id-5 div.sk-text-repr-fallback {display: none;}</style><div id=\"sk-container-id-5\" class=\"sk-top-container\"><div class=\"sk-text-repr-fallback\"><pre>Ridge(alpha=15.264179671752334)</pre><b>In a Jupyter environment, please rerun this cell to show the HTML representation or trust the notebook. <br />On GitHub, the HTML representation is unable to render, please try loading this page with nbviewer.org.</b></div><div class=\"sk-container\" hidden><div class=\"sk-item\"><div class=\"sk-estimator sk-toggleable\"><input class=\"sk-toggleable__control sk-hidden--visually\" id=\"sk-estimator-id-5\" type=\"checkbox\" checked><label for=\"sk-estimator-id-5\" class=\"sk-toggleable__label sk-toggleable__label-arrow\">Ridge</label><div class=\"sk-toggleable__content\"><pre>Ridge(alpha=15.264179671752334)</pre></div></div></div></div></div>"
      ],
      "text/plain": [
       "Ridge(alpha=15.264179671752334)"
      ]
     },
     "execution_count": 102,
     "metadata": {},
     "output_type": "execute_result"
    }
   ],
   "source": [
    "model = Ridge(alpha=opt_alpha)\n",
    "model.fit(train_united_features2, train_data.points)"
   ]
  },
  {
   "cell_type": "code",
   "execution_count": 103,
   "metadata": {},
   "outputs": [],
   "source": [
    "test_data['NLP_with_all_features_without_outliers'] = model.predict(test_united_features2)"
   ]
  },
  {
   "cell_type": "code",
   "execution_count": 108,
   "metadata": {
    "tags": []
   },
   "outputs": [
    {
     "data": {
      "text/plain": [
       "MSE    2.882455\n",
       "MAE    1.334047\n",
       "R2     0.698443\n",
       "dtype: float64"
      ]
     },
     "execution_count": 108,
     "metadata": {},
     "output_type": "execute_result"
    }
   ],
   "source": [
    "NLP_with_all_features_without_outliers = calc_prediction_quality(test_data, 'NLP_with_all_features_without_outliers','points')\n",
    "NLP_with_all_features_without_outliers"
   ]
  },
  {
   "cell_type": "code",
   "execution_count": 109,
   "metadata": {
    "tags": []
   },
   "outputs": [
    {
     "data": {
      "text/html": [
       "<div>\n",
       "<style scoped>\n",
       "    .dataframe tbody tr th:only-of-type {\n",
       "        vertical-align: middle;\n",
       "    }\n",
       "\n",
       "    .dataframe tbody tr th {\n",
       "        vertical-align: top;\n",
       "    }\n",
       "\n",
       "    .dataframe thead th {\n",
       "        text-align: right;\n",
       "    }\n",
       "</style>\n",
       "<table border=\"1\" class=\"dataframe\">\n",
       "  <thead>\n",
       "    <tr style=\"text-align: right;\">\n",
       "      <th></th>\n",
       "      <th>MSE</th>\n",
       "      <th>MAE</th>\n",
       "      <th>R2</th>\n",
       "    </tr>\n",
       "  </thead>\n",
       "  <tbody>\n",
       "    <tr>\n",
       "      <th>baseline_1</th>\n",
       "      <td>9.559410</td>\n",
       "      <td>2.534726</td>\n",
       "      <td>-0.000087</td>\n",
       "    </tr>\n",
       "    <tr>\n",
       "      <th>baseline_2</th>\n",
       "      <td>9.052361</td>\n",
       "      <td>2.462888</td>\n",
       "      <td>0.052960</td>\n",
       "    </tr>\n",
       "    <tr>\n",
       "      <th>baseline_3</th>\n",
       "      <td>8.521883</td>\n",
       "      <td>2.373365</td>\n",
       "      <td>0.108457</td>\n",
       "    </tr>\n",
       "    <tr>\n",
       "      <th>NLP_with_description_predicted_points</th>\n",
       "      <td>2.883265</td>\n",
       "      <td>1.334152</td>\n",
       "      <td>0.698358</td>\n",
       "    </tr>\n",
       "    <tr>\n",
       "      <th>NLP_with_all_features_predicted_points</th>\n",
       "      <td>2.882593</td>\n",
       "      <td>1.334042</td>\n",
       "      <td>0.698429</td>\n",
       "    </tr>\n",
       "    <tr>\n",
       "      <th>NLP_with_all_features_without_outliers</th>\n",
       "      <td>2.882455</td>\n",
       "      <td>1.334047</td>\n",
       "      <td>0.698443</td>\n",
       "    </tr>\n",
       "  </tbody>\n",
       "</table>\n",
       "</div>"
      ],
      "text/plain": [
       "                                             MSE       MAE        R2\n",
       "baseline_1                              9.559410  2.534726 -0.000087\n",
       "baseline_2                              9.052361  2.462888  0.052960\n",
       "baseline_3                              8.521883  2.373365  0.108457\n",
       "NLP_with_description_predicted_points   2.883265  1.334152  0.698358\n",
       "NLP_with_all_features_predicted_points  2.882593  1.334042  0.698429\n",
       "NLP_with_all_features_without_outliers  2.882455  1.334047  0.698443"
      ]
     },
     "execution_count": 109,
     "metadata": {},
     "output_type": "execute_result"
    }
   ],
   "source": [
    "all_compared = pd.DataFrame([b1_stats, b2_stats, b3_stats, NLP_with_description_predicted_points, NLP_with_all_features_predicted_points,NLP_with_all_features_without_outliers], index=['baseline_1', 'baseline_2','baseline_3', 'NLP_with_description_predicted_points', 'NLP_with_all_features_predicted_points','NLP_with_all_features_without_outliers'])\n",
    "all_compared"
   ]
  },
  {
   "cell_type": "markdown",
   "metadata": {},
   "source": [
    "<div style=\"border:1px solid green; padding:15px;border-radius:25px\">\n",
    "<br>\n",
    "<h3>The result of NLP_with_all_features_without_outliers </h3>\n",
    "<h5>MSE: 2.882455 </h5>\n",
    "<h5>MAE: 1.334047 </h5>\n",
    "<h5>R2: 0.698443</h5>\n",
    "<h5>Here we can see that the result a <b style=\"color:green\">little bit better</b> than the model with all features</h5>\n",
    "<br>\n",
    "    </div>"
   ]
  },
  {
   "cell_type": "markdown",
   "metadata": {},
   "source": [
    "# Tokenization for prepare to DNN models"
   ]
  },
  {
   "cell_type": "code",
   "execution_count": 110,
   "metadata": {},
   "outputs": [],
   "source": [
    "import tensorflow as tf\n",
    "from tensorflow.keras.layers import TextVectorization, Embedding, Dense, GlobalAveragePooling1D, Dropout\n",
    "from tensorflow.keras.callbacks import EarlyStopping"
   ]
  },
  {
   "cell_type": "markdown",
   "metadata": {},
   "source": [
    "What is a good size for the vocabulary? "
   ]
  },
  {
   "cell_type": "code",
   "execution_count": 111,
   "metadata": {},
   "outputs": [
    {
     "data": {
      "text/plain": [
       "0.95    60.0\n",
       "0.99    72.0\n",
       "Name: description, dtype: float64"
      ]
     },
     "execution_count": 111,
     "metadata": {},
     "output_type": "execute_result"
    }
   ],
   "source": [
    "wine_reviews.description.apply(lambda x: len(x.split(' '))).quantile([0.95, 0.99])"
   ]
  },
  {
   "cell_type": "code",
   "execution_count": 112,
   "metadata": {},
   "outputs": [],
   "source": [
    "vocab_size = 32000\n",
    "sequence_length = 60\n",
    "\n",
    "# Use the text vectorization layer to normalize, split, and map strings to integers. Set maximum_sequence length as all samples are not of the same length.\n",
    "vectorize_layer = TextVectorization(\n",
    "    #standardize=lambda text: tf.strings.lower(text), # You can use your own normalization function here\n",
    "    standardize='lower_and_strip_punctuation', # Or you can use a pre-made normalization function\n",
    "    max_tokens=vocab_size,    \n",
    "    split='whitespace',\n",
    "    output_mode='int',\n",
    "    name = 'Text_processing',\n",
    "    output_sequence_length=sequence_length)"
   ]
  },
  {
   "cell_type": "code",
   "execution_count": 113,
   "metadata": {},
   "outputs": [],
   "source": [
    "vectorize_layer.adapt(train_data['description'])"
   ]
  },
  {
   "cell_type": "code",
   "execution_count": 114,
   "metadata": {},
   "outputs": [
    {
     "name": "stdout",
     "output_type": "stream",
     "text": [
      "This is made from estate-grown fruit in Jamieson Canyon, on the extreme southern end of the valley. Delicate in style with a soft and silky texture, it imparts rhubarb and cranberry accents around a core of rose flavor.\n"
     ]
    },
    {
     "data": {
      "text/plain": [
       "<tf.Tensor: shape=(60,), dtype=int64, numpy=\n",
       "array([   7,    8,   99,   22, 1342,   16,   10,    1, 2753,   15,    3,\n",
       "       1508,  911,  305,    5,    3,  359,  261,   10,  132,    6,    4,\n",
       "         46,    2,  252,   54,   12, 2302,  850,    2,  239,  408,  400,\n",
       "          4,  205,    5,  302,  112,    0,    0,    0,    0,    0,    0,\n",
       "          0,    0,    0,    0,    0,    0,    0,    0,    0,    0,    0,\n",
       "          0,    0,    0,    0,    0], dtype=int64)>"
      ]
     },
     "execution_count": 114,
     "metadata": {},
     "output_type": "execute_result"
    }
   ],
   "source": [
    "sample_description = train_data['description'].sample().iloc[0]\n",
    "print(sample_description)\n",
    "vectorize_layer(sample_description)"
   ]
  },
  {
   "cell_type": "code",
   "execution_count": 115,
   "metadata": {},
   "outputs": [
    {
     "name": "stdout",
     "output_type": "stream",
     "text": [
      "7 --->  this\n",
      "8 --->  is\n",
      "99 --->  made\n",
      "22 --->  from\n",
      "1342 --->  estategrown\n",
      "16 --->  fruit\n",
      "10 --->  in\n",
      "1 --->  [UNK]\n",
      "2753 --->  canyon\n",
      "15 --->  on\n",
      "3 --->  the\n",
      "1508 --->  extreme\n",
      "911 --->  southern\n",
      "305 --->  end\n",
      "5 --->  of\n",
      "3 --->  the\n",
      "359 --->  valley\n",
      "261 --->  delicate\n",
      "10 --->  in\n",
      "132 --->  style\n"
     ]
    }
   ],
   "source": [
    "for token in vectorize_layer(sample_description).numpy()[:20]:\n",
    "    print(f\"{token} ---> \",vectorize_layer.get_vocabulary()[token])"
   ]
  },
  {
   "cell_type": "markdown",
   "metadata": {},
   "source": [
    "# DNN with description only by average technique"
   ]
  },
  {
   "cell_type": "markdown",
   "metadata": {
    "tags": []
   },
   "source": [
    "#### Modeling"
   ]
  },
  {
   "cell_type": "code",
   "execution_count": 116,
   "metadata": {},
   "outputs": [],
   "source": [
    "embedding_dim=16\n",
    "\n",
    "dnn_model_with_average = tf.keras.Sequential([\n",
    "    tf.keras.Input(shape=(1,), dtype=tf.string),\n",
    "    vectorize_layer,\n",
    "    Embedding(vocab_size, embedding_dim, name=\"embedding\"),\n",
    "    GlobalAveragePooling1D(),\n",
    "    Dense(164, activation='tanh', name='hidden_layer'),\n",
    "    Dropout(0.2),\n",
    "    Dense(1, name = 'output_layer')\n",
    "])"
   ]
  },
  {
   "cell_type": "code",
   "execution_count": 117,
   "metadata": {},
   "outputs": [
    {
     "name": "stdout",
     "output_type": "stream",
     "text": [
      "Model: \"sequential\"\n",
      "_________________________________________________________________\n",
      " Layer (type)                Output Shape              Param #   \n",
      "=================================================================\n",
      " Text_processing (TextVector  (None, 60)               0         \n",
      " ization)                                                        \n",
      "                                                                 \n",
      " embedding (Embedding)       (None, 60, 16)            512000    \n",
      "                                                                 \n",
      " global_average_pooling1d (G  (None, 16)               0         \n",
      " lobalAveragePooling1D)                                          \n",
      "                                                                 \n",
      " hidden_layer (Dense)        (None, 164)               2788      \n",
      "                                                                 \n",
      " dropout (Dropout)           (None, 164)               0         \n",
      "                                                                 \n",
      " output_layer (Dense)        (None, 1)                 165       \n",
      "                                                                 \n",
      "=================================================================\n",
      "Total params: 514,953\n",
      "Trainable params: 514,953\n",
      "Non-trainable params: 0\n",
      "_________________________________________________________________\n"
     ]
    }
   ],
   "source": [
    "dnn_model_with_average.summary()"
   ]
  },
  {
   "cell_type": "code",
   "execution_count": 118,
   "metadata": {},
   "outputs": [
    {
     "name": "stdout",
     "output_type": "stream",
     "text": [
      "You must install pydot (`pip install pydot`) and install graphviz (see instructions at https://graphviz.gitlab.io/download/) for plot_model/model_to_dot to work.\n"
     ]
    }
   ],
   "source": [
    "tf.keras.utils.plot_model(dnn_model_with_average, show_dtype=False, show_shapes=True, show_layer_names=True)"
   ]
  },
  {
   "cell_type": "code",
   "execution_count": 119,
   "metadata": {},
   "outputs": [],
   "source": [
    "dnn_model_with_average.compile(\n",
    "    optimizer=tf.optimizers.Adam(),\n",
    "    loss='mean_absolute_error',\n",
    "    metrics=['mean_squared_error','mean_absolute_error'])"
   ]
  },
  {
   "cell_type": "code",
   "execution_count": 120,
   "metadata": {},
   "outputs": [
    {
     "name": "stdout",
     "output_type": "stream",
     "text": [
      "Epoch 1/20\n",
      "750/750 [==============================] - 7s 9ms/step - loss: 21.9015 - mean_squared_error: 1352.5582 - mean_absolute_error: 21.9015 - val_loss: 2.4598 - val_mean_squared_error: 9.1427 - val_mean_absolute_error: 2.4598\n",
      "Epoch 2/20\n",
      "750/750 [==============================] - 6s 8ms/step - loss: 3.4509 - mean_squared_error: 18.7184 - mean_absolute_error: 3.4509 - val_loss: 1.7020 - val_mean_squared_error: 4.5872 - val_mean_absolute_error: 1.7020\n",
      "Epoch 3/20\n",
      "750/750 [==============================] - 6s 8ms/step - loss: 3.1703 - mean_squared_error: 15.8679 - mean_absolute_error: 3.1703 - val_loss: 1.5070 - val_mean_squared_error: 3.6360 - val_mean_absolute_error: 1.5070\n",
      "Epoch 4/20\n",
      "750/750 [==============================] - 6s 8ms/step - loss: 3.0920 - mean_squared_error: 15.0697 - mean_absolute_error: 3.0920 - val_loss: 1.4845 - val_mean_squared_error: 3.5565 - val_mean_absolute_error: 1.4845\n",
      "Epoch 5/20\n",
      "750/750 [==============================] - 6s 8ms/step - loss: 3.0858 - mean_squared_error: 14.9937 - mean_absolute_error: 3.0858 - val_loss: 1.4780 - val_mean_squared_error: 3.5292 - val_mean_absolute_error: 1.4780\n",
      "Epoch 6/20\n",
      "750/750 [==============================] - 6s 8ms/step - loss: 3.0609 - mean_squared_error: 14.7400 - mean_absolute_error: 3.0609 - val_loss: 1.4047 - val_mean_squared_error: 3.1927 - val_mean_absolute_error: 1.4047\n",
      "Epoch 7/20\n",
      "750/750 [==============================] - 6s 8ms/step - loss: 3.0556 - mean_squared_error: 14.6976 - mean_absolute_error: 3.0556 - val_loss: 1.4230 - val_mean_squared_error: 3.2379 - val_mean_absolute_error: 1.4230\n",
      "Epoch 8/20\n",
      "750/750 [==============================] - 6s 8ms/step - loss: 3.0389 - mean_squared_error: 14.4994 - mean_absolute_error: 3.0389 - val_loss: 1.3835 - val_mean_squared_error: 3.0947 - val_mean_absolute_error: 1.3835\n",
      "Epoch 9/20\n",
      "750/750 [==============================] - 6s 8ms/step - loss: 3.0092 - mean_squared_error: 14.2928 - mean_absolute_error: 3.0092 - val_loss: 1.4011 - val_mean_squared_error: 3.1746 - val_mean_absolute_error: 1.4011\n",
      "Epoch 10/20\n",
      "750/750 [==============================] - 6s 8ms/step - loss: 3.0028 - mean_squared_error: 14.2284 - mean_absolute_error: 3.0028 - val_loss: 1.3601 - val_mean_squared_error: 2.9872 - val_mean_absolute_error: 1.3601\n",
      "Epoch 11/20\n",
      "750/750 [==============================] - 6s 8ms/step - loss: 2.9930 - mean_squared_error: 14.1503 - mean_absolute_error: 2.9930 - val_loss: 1.3584 - val_mean_squared_error: 2.9875 - val_mean_absolute_error: 1.3584\n",
      "Epoch 12/20\n",
      "750/750 [==============================] - 7s 9ms/step - loss: 2.9865 - mean_squared_error: 14.0377 - mean_absolute_error: 2.9865 - val_loss: 1.3560 - val_mean_squared_error: 2.9745 - val_mean_absolute_error: 1.3560\n",
      "Epoch 13/20\n",
      "750/750 [==============================] - 6s 8ms/step - loss: 2.9707 - mean_squared_error: 13.9189 - mean_absolute_error: 2.9707 - val_loss: 1.3481 - val_mean_squared_error: 2.9472 - val_mean_absolute_error: 1.3481\n",
      "Epoch 14/20\n",
      "750/750 [==============================] - 6s 8ms/step - loss: 2.9611 - mean_squared_error: 13.8180 - mean_absolute_error: 2.9611 - val_loss: 1.3474 - val_mean_squared_error: 2.9407 - val_mean_absolute_error: 1.3474\n",
      "Epoch 15/20\n",
      "750/750 [==============================] - 6s 8ms/step - loss: 2.9431 - mean_squared_error: 13.6549 - mean_absolute_error: 2.9431 - val_loss: 1.3477 - val_mean_squared_error: 2.9460 - val_mean_absolute_error: 1.3477\n",
      "Epoch 16/20\n",
      "750/750 [==============================] - 6s 8ms/step - loss: 2.9635 - mean_squared_error: 13.8316 - mean_absolute_error: 2.9635 - val_loss: 1.3465 - val_mean_squared_error: 2.9440 - val_mean_absolute_error: 1.3465\n",
      "CPU times: total: 5min 2s\n",
      "Wall time: 1min 41s\n"
     ]
    }
   ],
   "source": [
    "%%time\n",
    "text_col, target_col = 'description', 'points'\n",
    "\n",
    "early_stopping_monitor = EarlyStopping(\n",
    "    monitor='val_mean_squared_error',\n",
    "    min_delta=0,\n",
    "    patience=2,\n",
    "    verbose=0,\n",
    "    restore_best_weights=True\n",
    ")\n",
    "\n",
    "history = dnn_model_with_average.fit(\n",
    "    train_data[text_col],\n",
    "    train_data[target_col],\n",
    "    epochs=20,\n",
    "    batch_size=128,\n",
    "    verbose=1,    \n",
    "    callbacks=[early_stopping_monitor],\n",
    "    validation_data = (test_data[text_col], test_data[target_col]))"
   ]
  },
  {
   "cell_type": "markdown",
   "metadata": {},
   "source": [
    "### Simple NN Prediction & Evaluation"
   ]
  },
  {
   "cell_type": "code",
   "execution_count": 121,
   "metadata": {},
   "outputs": [
    {
     "name": "stdout",
     "output_type": "stream",
     "text": [
      "750/750 [==============================] - 1s 1ms/step\n"
     ]
    }
   ],
   "source": [
    "test_data['dnn_prediction'] = dnn_model_with_average.predict(test_data[text_col])"
   ]
  },
  {
   "cell_type": "code",
   "execution_count": 122,
   "metadata": {},
   "outputs": [
    {
     "data": {
      "text/plain": [
       "MSE    2.940726\n",
       "MAE    1.347394\n",
       "R2     0.692347\n",
       "dtype: float64"
      ]
     },
     "execution_count": 122,
     "metadata": {},
     "output_type": "execute_result"
    }
   ],
   "source": [
    "dnn_stats = calc_prediction_quality(test_data, 'dnn_prediction', target_col)\n",
    "dnn_stats"
   ]
  },
  {
   "cell_type": "code",
   "execution_count": 123,
   "metadata": {},
   "outputs": [
    {
     "data": {
      "text/html": [
       "<div>\n",
       "<style scoped>\n",
       "    .dataframe tbody tr th:only-of-type {\n",
       "        vertical-align: middle;\n",
       "    }\n",
       "\n",
       "    .dataframe tbody tr th {\n",
       "        vertical-align: top;\n",
       "    }\n",
       "\n",
       "    .dataframe thead th {\n",
       "        text-align: right;\n",
       "    }\n",
       "</style>\n",
       "<table border=\"1\" class=\"dataframe\">\n",
       "  <thead>\n",
       "    <tr style=\"text-align: right;\">\n",
       "      <th></th>\n",
       "      <th>MSE</th>\n",
       "      <th>MAE</th>\n",
       "      <th>R2</th>\n",
       "    </tr>\n",
       "  </thead>\n",
       "  <tbody>\n",
       "    <tr>\n",
       "      <th>baseline_1</th>\n",
       "      <td>9.559410</td>\n",
       "      <td>2.534726</td>\n",
       "      <td>-0.000087</td>\n",
       "    </tr>\n",
       "    <tr>\n",
       "      <th>baseline_2</th>\n",
       "      <td>9.052361</td>\n",
       "      <td>2.462888</td>\n",
       "      <td>0.052960</td>\n",
       "    </tr>\n",
       "    <tr>\n",
       "      <th>baseline_3</th>\n",
       "      <td>8.521883</td>\n",
       "      <td>2.373365</td>\n",
       "      <td>0.108457</td>\n",
       "    </tr>\n",
       "    <tr>\n",
       "      <th>NLP_with_description_predicted_points</th>\n",
       "      <td>2.883265</td>\n",
       "      <td>1.334152</td>\n",
       "      <td>0.698358</td>\n",
       "    </tr>\n",
       "    <tr>\n",
       "      <th>NLP_with_all_features_predicted_points</th>\n",
       "      <td>2.882593</td>\n",
       "      <td>1.334042</td>\n",
       "      <td>0.698429</td>\n",
       "    </tr>\n",
       "    <tr>\n",
       "      <th>NLP_with_all_features_without_outliers</th>\n",
       "      <td>2.882455</td>\n",
       "      <td>1.334047</td>\n",
       "      <td>0.698443</td>\n",
       "    </tr>\n",
       "    <tr>\n",
       "      <th>dnn_prediction</th>\n",
       "      <td>2.940726</td>\n",
       "      <td>1.347394</td>\n",
       "      <td>0.692347</td>\n",
       "    </tr>\n",
       "  </tbody>\n",
       "</table>\n",
       "</div>"
      ],
      "text/plain": [
       "                                             MSE       MAE        R2\n",
       "baseline_1                              9.559410  2.534726 -0.000087\n",
       "baseline_2                              9.052361  2.462888  0.052960\n",
       "baseline_3                              8.521883  2.373365  0.108457\n",
       "NLP_with_description_predicted_points   2.883265  1.334152  0.698358\n",
       "NLP_with_all_features_predicted_points  2.882593  1.334042  0.698429\n",
       "NLP_with_all_features_without_outliers  2.882455  1.334047  0.698443\n",
       "dnn_prediction                          2.940726  1.347394  0.692347"
      ]
     },
     "execution_count": 123,
     "metadata": {},
     "output_type": "execute_result"
    }
   ],
   "source": [
    "all_compared = pd.DataFrame([b1_stats, b2_stats, b3_stats, NLP_with_description_predicted_points, NLP_with_all_features_predicted_points,NLP_with_all_features_without_outliers,dnn_stats], index=['baseline_1', 'baseline_2','baseline_3', 'NLP_with_description_predicted_points', 'NLP_with_all_features_predicted_points','NLP_with_all_features_without_outliers','dnn_prediction'])\n",
    "all_compared"
   ]
  },
  {
   "cell_type": "markdown",
   "metadata": {},
   "source": [
    "<div style=\"border:1px solid yellow; padding:15px;border-radius:25px\">\n",
    "<br>\n",
    "<h5>By using Dense(units = 164) we accapt a lot nerouns that can help us for a lot words. and with the Droupout(0.2) we do littel regularization on the model to prevet overfitting </h5>\n",
    "\n",
    "<h3>The result of dnn_prediction </h3>\n",
    "<h5>MSE: 2.940726 </h5>\n",
    "<h5>MAE: 1.347394 </h5>\n",
    "<h5>R2: 0.692347</h5>\n",
    "<h5>Here we can see that the result a <b style=\"color:red\">little bit worse</b> than the model that used with NLP</h5>\n",
    "<br>\n",
    "    </div>"
   ]
  },
  {
   "cell_type": "markdown",
   "metadata": {},
   "source": [
    "# Descriptions words concatinated"
   ]
  },
  {
   "cell_type": "code",
   "execution_count": 124,
   "metadata": {},
   "outputs": [],
   "source": [
    "from tensorflow.keras.layers import Reshape, Dense, Dropout\n",
    "from tensorflow.keras import Sequential"
   ]
  },
  {
   "cell_type": "code",
   "execution_count": 125,
   "metadata": {},
   "outputs": [],
   "source": [
    "embedding_dim=16\n",
    "\n",
    "dnn_model_with_concatinated = tf.keras.Sequential([\n",
    "    tf.keras.Input(shape=(1,), dtype=tf.string),\n",
    "    vectorize_layer,\n",
    "    Embedding(vocab_size, embedding_dim, name=\"embedding\"),\n",
    "    Reshape((embedding_dim * sequence_length, ), name='concat_words'),\n",
    "    Dense(768, activation='tanh', name='hidden_layer'),\n",
    "    Dropout(0.2),\n",
    "    Dense(1, name = 'output_layer')\n",
    "])"
   ]
  },
  {
   "cell_type": "code",
   "execution_count": 126,
   "metadata": {},
   "outputs": [
    {
     "name": "stdout",
     "output_type": "stream",
     "text": [
      "Model: \"sequential_1\"\n",
      "_________________________________________________________________\n",
      " Layer (type)                Output Shape              Param #   \n",
      "=================================================================\n",
      " Text_processing (TextVector  (None, 60)               0         \n",
      " ization)                                                        \n",
      "                                                                 \n",
      " embedding (Embedding)       (None, 60, 16)            512000    \n",
      "                                                                 \n",
      " concat_words (Reshape)      (None, 960)               0         \n",
      "                                                                 \n",
      " hidden_layer (Dense)        (None, 768)               738048    \n",
      "                                                                 \n",
      " dropout_1 (Dropout)         (None, 768)               0         \n",
      "                                                                 \n",
      " output_layer (Dense)        (None, 1)                 769       \n",
      "                                                                 \n",
      "=================================================================\n",
      "Total params: 1,250,817\n",
      "Trainable params: 1,250,817\n",
      "Non-trainable params: 0\n",
      "_________________________________________________________________\n"
     ]
    }
   ],
   "source": [
    "dnn_model_with_concatinated.summary()"
   ]
  },
  {
   "cell_type": "code",
   "execution_count": 127,
   "metadata": {},
   "outputs": [],
   "source": [
    "dnn_model_with_concatinated.compile(\n",
    "    optimizer=tf.optimizers.Adam(), loss='mean_absolute_error', metrics=['mean_squared_error','mean_absolute_error'])"
   ]
  },
  {
   "cell_type": "code",
   "execution_count": 128,
   "metadata": {},
   "outputs": [
    {
     "name": "stdout",
     "output_type": "stream",
     "text": [
      "You must install pydot (`pip install pydot`) and install graphviz (see instructions at https://graphviz.gitlab.io/download/) for plot_model/model_to_dot to work.\n"
     ]
    }
   ],
   "source": [
    "tf.keras.utils.plot_model(dnn_model_with_concatinated, show_dtype=True, show_shapes=True, show_layer_names=True)"
   ]
  },
  {
   "cell_type": "code",
   "execution_count": 129,
   "metadata": {},
   "outputs": [
    {
     "name": "stdout",
     "output_type": "stream",
     "text": [
      "Epoch 1/20\n",
      "750/750 [==============================] - 11s 15ms/step - loss: 6.4916 - mean_squared_error: 273.5556 - mean_absolute_error: 6.4916 - val_loss: 1.8093 - val_mean_squared_error: 5.1936 - val_mean_absolute_error: 1.8093\n",
      "Epoch 2/20\n",
      "750/750 [==============================] - 11s 15ms/step - loss: 1.9964 - mean_squared_error: 6.3090 - mean_absolute_error: 1.9964 - val_loss: 1.4337 - val_mean_squared_error: 3.3257 - val_mean_absolute_error: 1.4337\n",
      "Epoch 3/20\n",
      "750/750 [==============================] - 11s 15ms/step - loss: 1.8639 - mean_squared_error: 5.4999 - mean_absolute_error: 1.8639 - val_loss: 1.3733 - val_mean_squared_error: 3.0422 - val_mean_absolute_error: 1.3733\n",
      "Epoch 4/20\n",
      "750/750 [==============================] - 11s 15ms/step - loss: 1.8172 - mean_squared_error: 5.2223 - mean_absolute_error: 1.8172 - val_loss: 1.3322 - val_mean_squared_error: 2.8848 - val_mean_absolute_error: 1.3322\n",
      "Epoch 5/20\n",
      "750/750 [==============================] - 11s 14ms/step - loss: 1.7795 - mean_squared_error: 5.0225 - mean_absolute_error: 1.7795 - val_loss: 1.3816 - val_mean_squared_error: 3.1127 - val_mean_absolute_error: 1.3816\n",
      "Epoch 6/20\n",
      "750/750 [==============================] - 11s 14ms/step - loss: 1.7490 - mean_squared_error: 4.8486 - mean_absolute_error: 1.7490 - val_loss: 1.3310 - val_mean_squared_error: 2.8836 - val_mean_absolute_error: 1.3310\n",
      "Epoch 7/20\n",
      "750/750 [==============================] - 11s 14ms/step - loss: 1.7102 - mean_squared_error: 4.6489 - mean_absolute_error: 1.7102 - val_loss: 1.3437 - val_mean_squared_error: 2.9344 - val_mean_absolute_error: 1.3437\n",
      "Epoch 8/20\n",
      "750/750 [==============================] - 11s 14ms/step - loss: 1.6925 - mean_squared_error: 4.5360 - mean_absolute_error: 1.6925 - val_loss: 1.4042 - val_mean_squared_error: 3.1712 - val_mean_absolute_error: 1.4042\n",
      "CPU times: total: 5min 18s\n",
      "Wall time: 1min 27s\n"
     ]
    }
   ],
   "source": [
    "%%time\n",
    "text_col, target_col = 'description', 'points'\n",
    "\n",
    "early_stopping_monitor = EarlyStopping(\n",
    "    monitor='val_mean_squared_error',\n",
    "    min_delta=0,\n",
    "    patience=2,\n",
    "    verbose=0,\n",
    "    restore_best_weights=True\n",
    ")\n",
    "\n",
    "history = dnn_model_with_concatinated.fit(\n",
    "    train_data[text_col],\n",
    "    train_data[target_col],\n",
    "    epochs=20,\n",
    "    batch_size=128,\n",
    "    verbose=1,    \n",
    "    callbacks=[early_stopping_monitor],\n",
    "    validation_data = (test_data[text_col], test_data[target_col]))"
   ]
  },
  {
   "cell_type": "code",
   "execution_count": 130,
   "metadata": {},
   "outputs": [
    {
     "name": "stdout",
     "output_type": "stream",
     "text": [
      "750/750 [==============================] - 2s 2ms/step\n"
     ]
    }
   ],
   "source": [
    "test_data['dnn_prediction_with_concatinated'] = dnn_model_with_concatinated.predict(test_data[text_col])"
   ]
  },
  {
   "cell_type": "code",
   "execution_count": 131,
   "metadata": {},
   "outputs": [
    {
     "data": {
      "text/plain": [
       "MSE    2.883638\n",
       "MAE    1.330997\n",
       "R2     0.698319\n",
       "dtype: float64"
      ]
     },
     "execution_count": 131,
     "metadata": {},
     "output_type": "execute_result"
    }
   ],
   "source": [
    "dnn_prediction_with_concatinated = calc_prediction_quality(test_data, 'dnn_prediction_with_concatinated', target_col)\n",
    "dnn_prediction_with_concatinated"
   ]
  },
  {
   "cell_type": "code",
   "execution_count": 132,
   "metadata": {},
   "outputs": [
    {
     "data": {
      "text/html": [
       "<div>\n",
       "<style scoped>\n",
       "    .dataframe tbody tr th:only-of-type {\n",
       "        vertical-align: middle;\n",
       "    }\n",
       "\n",
       "    .dataframe tbody tr th {\n",
       "        vertical-align: top;\n",
       "    }\n",
       "\n",
       "    .dataframe thead th {\n",
       "        text-align: right;\n",
       "    }\n",
       "</style>\n",
       "<table border=\"1\" class=\"dataframe\">\n",
       "  <thead>\n",
       "    <tr style=\"text-align: right;\">\n",
       "      <th></th>\n",
       "      <th>MSE</th>\n",
       "      <th>MAE</th>\n",
       "      <th>R2</th>\n",
       "    </tr>\n",
       "  </thead>\n",
       "  <tbody>\n",
       "    <tr>\n",
       "      <th>baseline_1</th>\n",
       "      <td>9.559410</td>\n",
       "      <td>2.534726</td>\n",
       "      <td>-0.000087</td>\n",
       "    </tr>\n",
       "    <tr>\n",
       "      <th>baseline_2</th>\n",
       "      <td>9.052361</td>\n",
       "      <td>2.462888</td>\n",
       "      <td>0.052960</td>\n",
       "    </tr>\n",
       "    <tr>\n",
       "      <th>baseline_3</th>\n",
       "      <td>8.521883</td>\n",
       "      <td>2.373365</td>\n",
       "      <td>0.108457</td>\n",
       "    </tr>\n",
       "    <tr>\n",
       "      <th>NLP_with_description_predicted_points</th>\n",
       "      <td>2.883265</td>\n",
       "      <td>1.334152</td>\n",
       "      <td>0.698358</td>\n",
       "    </tr>\n",
       "    <tr>\n",
       "      <th>NLP_with_all_features_predicted_points</th>\n",
       "      <td>2.882593</td>\n",
       "      <td>1.334042</td>\n",
       "      <td>0.698429</td>\n",
       "    </tr>\n",
       "    <tr>\n",
       "      <th>NLP_with_all_features_without_outliers</th>\n",
       "      <td>2.882455</td>\n",
       "      <td>1.334047</td>\n",
       "      <td>0.698443</td>\n",
       "    </tr>\n",
       "    <tr>\n",
       "      <th>dnn_prediction</th>\n",
       "      <td>2.940726</td>\n",
       "      <td>1.347394</td>\n",
       "      <td>0.692347</td>\n",
       "    </tr>\n",
       "    <tr>\n",
       "      <th>dnn_prediction_with_concatinated</th>\n",
       "      <td>2.883638</td>\n",
       "      <td>1.330997</td>\n",
       "      <td>0.698319</td>\n",
       "    </tr>\n",
       "  </tbody>\n",
       "</table>\n",
       "</div>"
      ],
      "text/plain": [
       "                                             MSE       MAE        R2\n",
       "baseline_1                              9.559410  2.534726 -0.000087\n",
       "baseline_2                              9.052361  2.462888  0.052960\n",
       "baseline_3                              8.521883  2.373365  0.108457\n",
       "NLP_with_description_predicted_points   2.883265  1.334152  0.698358\n",
       "NLP_with_all_features_predicted_points  2.882593  1.334042  0.698429\n",
       "NLP_with_all_features_without_outliers  2.882455  1.334047  0.698443\n",
       "dnn_prediction                          2.940726  1.347394  0.692347\n",
       "dnn_prediction_with_concatinated        2.883638  1.330997  0.698319"
      ]
     },
     "execution_count": 132,
     "metadata": {},
     "output_type": "execute_result"
    }
   ],
   "source": [
    "all_compared = pd.DataFrame([b1_stats, b2_stats, b3_stats, NLP_with_description_predicted_points, NLP_with_all_features_predicted_points,NLP_with_all_features_without_outliers,dnn_stats,dnn_prediction_with_concatinated], index=['baseline_1', 'baseline_2','baseline_3', 'NLP_with_description_predicted_points', 'NLP_with_all_features_predicted_points','NLP_with_all_features_without_outliers','dnn_prediction','dnn_prediction_with_concatinated'])\n",
    "all_compared"
   ]
  },
  {
   "cell_type": "markdown",
   "metadata": {},
   "source": [
    "<div style=\"border:1px solid yellow; padding:15px;border-radius:25px;\">\n",
    "<br>\n",
    "<h5>By using Dense(units = 768) for able to accept a lot of information cause the concatization, and with the Droupout(0.2) we do littel regularization on the model to prevet overfitting </h5>\n",
    "\n",
    "<h3>The result of dnn_prediction_with_concatinated </h3>\n",
    "<h5>MSE: 2.883638 </h5>\n",
    "<h5>MAE: 1.330997 </h5>\n",
    "<h5>R2: 0.698319</h5>\n",
    "<h5>Here we can see that the result a <b style=\"color:green\">little bit better</b> than the DNN model that used with average technique, and still<b style=\"color:red\"> worse</b> than NLP models</h5>\n",
    "<br>\n",
    "    </div>"
   ]
  },
  {
   "cell_type": "markdown",
   "metadata": {
    "tags": []
   },
   "source": [
    "# LSTM"
   ]
  },
  {
   "cell_type": "code",
   "execution_count": 133,
   "metadata": {},
   "outputs": [],
   "source": [
    "vocab_size = 32000\n",
    "sequence_length = 60\n",
    "\n",
    "vectorize_layer_for_lstm = TextVectorization(\n",
    "    standardize='lower_and_strip_punctuation',\n",
    "    max_tokens=vocab_size,    \n",
    "    split='whitespace',\n",
    "    output_mode='int',\n",
    "    name = 'Text_processing',\n",
    "    output_sequence_length=sequence_length)\n",
    "\n",
    "vectorize_layer_for_lstm.adapt(train_data['description'])"
   ]
  },
  {
   "cell_type": "markdown",
   "metadata": {},
   "source": [
    "#### Modeling"
   ]
  },
  {
   "cell_type": "code",
   "execution_count": 134,
   "metadata": {},
   "outputs": [
    {
     "name": "stdout",
     "output_type": "stream",
     "text": [
      "Model: \"sequential_2\"\n",
      "_________________________________________________________________\n",
      " Layer (type)                Output Shape              Param #   \n",
      "=================================================================\n",
      " Text_processing (TextVector  (None, 60)               0         \n",
      " ization)                                                        \n",
      "                                                                 \n",
      " embedding (Embedding)       (None, 60, 16)            512000    \n",
      "                                                                 \n",
      " lstm_hidden_layer (LSTM)    (None, 32)                6272      \n",
      "                                                                 \n",
      " dropout_2 (Dropout)         (None, 32)                0         \n",
      "                                                                 \n",
      " output_layer (Dense)        (None, 1)                 33        \n",
      "                                                                 \n",
      "=================================================================\n",
      "Total params: 518,305\n",
      "Trainable params: 518,305\n",
      "Non-trainable params: 0\n",
      "_________________________________________________________________\n"
     ]
    }
   ],
   "source": [
    "from keras.layers import LSTM,Bidirectional\n",
    "embedding_dim=16\n",
    "\n",
    "lstm_nodel = tf.keras.Sequential([\n",
    "    tf.keras.Input(shape=(1,), dtype=tf.string),\n",
    "    vectorize_layer_for_lstm,\n",
    "    Embedding(vocab_size, embedding_dim , input_length = sequence_length , name=\"embedding\"),\n",
    "    LSTM(32,activation=\"tanh\",name='lstm_hidden_layer'),\n",
    "    Dropout(0.2),\n",
    "    Dense(1, name = 'output_layer')\n",
    "])\n",
    "\n",
    "lstm_nodel.summary()"
   ]
  },
  {
   "cell_type": "code",
   "execution_count": 135,
   "metadata": {},
   "outputs": [],
   "source": [
    "lstm_nodel.compile(\n",
    "    optimizer=tf.optimizers.Adam(),\n",
    "    loss='mean_absolute_error',\n",
    "    metrics=['mean_squared_error','mean_absolute_error'])"
   ]
  },
  {
   "cell_type": "code",
   "execution_count": 136,
   "metadata": {},
   "outputs": [
    {
     "name": "stdout",
     "output_type": "stream",
     "text": [
      "Epoch 1/20\n",
      "3000/3000 [==============================] - 53s 17ms/step - loss: 35.1483 - mean_squared_error: 1896.9651 - mean_absolute_error: 35.1483 - val_loss: 2.6756 - val_mean_squared_error: 11.1491 - val_mean_absolute_error: 2.6756\n",
      "Epoch 2/20\n",
      "3000/3000 [==============================] - 50s 17ms/step - loss: 6.5151 - mean_squared_error: 66.8581 - mean_absolute_error: 6.5151 - val_loss: 2.5316 - val_mean_squared_error: 9.8003 - val_mean_absolute_error: 2.5316\n",
      "Epoch 3/20\n",
      "3000/3000 [==============================] - 53s 18ms/step - loss: 6.4174 - mean_squared_error: 65.0206 - mean_absolute_error: 6.4174 - val_loss: 2.0659 - val_mean_squared_error: 6.6848 - val_mean_absolute_error: 2.0659\n",
      "Epoch 4/20\n",
      "3000/3000 [==============================] - 50s 17ms/step - loss: 6.2120 - mean_squared_error: 61.3417 - mean_absolute_error: 6.2120 - val_loss: 2.0224 - val_mean_squared_error: 6.4608 - val_mean_absolute_error: 2.0224\n",
      "Epoch 5/20\n",
      "3000/3000 [==============================] - 51s 17ms/step - loss: 6.1103 - mean_squared_error: 58.9315 - mean_absolute_error: 6.1103 - val_loss: 2.0034 - val_mean_squared_error: 6.2606 - val_mean_absolute_error: 2.0034\n",
      "Epoch 6/20\n",
      "3000/3000 [==============================] - 51s 17ms/step - loss: 5.9886 - mean_squared_error: 56.8652 - mean_absolute_error: 5.9886 - val_loss: 1.8142 - val_mean_squared_error: 5.2088 - val_mean_absolute_error: 1.8142\n",
      "Epoch 7/20\n",
      "3000/3000 [==============================] - 52s 17ms/step - loss: 5.9182 - mean_squared_error: 55.5128 - mean_absolute_error: 5.9182 - val_loss: 1.8696 - val_mean_squared_error: 5.3993 - val_mean_absolute_error: 1.8696\n",
      "Epoch 8/20\n",
      "3000/3000 [==============================] - 52s 17ms/step - loss: 5.8162 - mean_squared_error: 53.6732 - mean_absolute_error: 5.8162 - val_loss: 1.6479 - val_mean_squared_error: 4.3397 - val_mean_absolute_error: 1.6479\n",
      "Epoch 9/20\n",
      "3000/3000 [==============================] - 51s 17ms/step - loss: 5.7655 - mean_squared_error: 52.5938 - mean_absolute_error: 5.7655 - val_loss: 1.4852 - val_mean_squared_error: 3.5511 - val_mean_absolute_error: 1.4852\n",
      "Epoch 10/20\n",
      "3000/3000 [==============================] - 50s 17ms/step - loss: 5.6721 - mean_squared_error: 50.9172 - mean_absolute_error: 5.6721 - val_loss: 1.6111 - val_mean_squared_error: 4.1382 - val_mean_absolute_error: 1.6111\n",
      "Epoch 11/20\n",
      "3000/3000 [==============================] - 50s 17ms/step - loss: 5.5936 - mean_squared_error: 49.4985 - mean_absolute_error: 5.5936 - val_loss: 1.4584 - val_mean_squared_error: 3.4339 - val_mean_absolute_error: 1.4584\n",
      "Epoch 12/20\n",
      "3000/3000 [==============================] - 50s 17ms/step - loss: 5.5487 - mean_squared_error: 48.6399 - mean_absolute_error: 5.5487 - val_loss: 1.4965 - val_mean_squared_error: 3.5769 - val_mean_absolute_error: 1.4965\n",
      "Epoch 13/20\n",
      "3000/3000 [==============================] - 51s 17ms/step - loss: 5.4496 - mean_squared_error: 46.9800 - mean_absolute_error: 5.4496 - val_loss: 1.5010 - val_mean_squared_error: 3.6186 - val_mean_absolute_error: 1.5010\n",
      "CPU times: total: 36min 9s\n",
      "Wall time: 11min 5s\n"
     ]
    }
   ],
   "source": [
    "%%time\n",
    "text_col, target_col = 'description', 'points'\n",
    "\n",
    "early_stopping_monitor = EarlyStopping(\n",
    "    monitor='val_mean_squared_error',\n",
    "    min_delta=0,\n",
    "    patience=2,\n",
    "    verbose=0,\n",
    "    restore_best_weights=True\n",
    ")\n",
    "\n",
    "history = lstm_nodel.fit(\n",
    "    train_data[text_col],\n",
    "    train_data[target_col],\n",
    "    epochs=20,\n",
    "    batch_size=32,\n",
    "    verbose=1,    \n",
    "    callbacks=[early_stopping_monitor],\n",
    "    validation_data = (test_data[text_col], test_data[target_col]))"
   ]
  },
  {
   "cell_type": "code",
   "execution_count": 137,
   "metadata": {},
   "outputs": [
    {
     "name": "stdout",
     "output_type": "stream",
     "text": [
      "750/750 [==============================] - 4s 5ms/step\n"
     ]
    }
   ],
   "source": [
    "test_data['dnn3_lstm_prediction'] = lstm_nodel.predict(test_data[text_col])"
   ]
  },
  {
   "cell_type": "code",
   "execution_count": 138,
   "metadata": {},
   "outputs": [
    {
     "data": {
      "text/plain": [
       "MSE    3.433855\n",
       "MAE    1.458351\n",
       "R2     0.640757\n",
       "dtype: float64"
      ]
     },
     "execution_count": 138,
     "metadata": {},
     "output_type": "execute_result"
    }
   ],
   "source": [
    "dnn3_lstm_prediction = calc_prediction_quality(test_data, 'dnn3_lstm_prediction', target_col)\n",
    "dnn3_lstm_prediction"
   ]
  },
  {
   "cell_type": "code",
   "execution_count": 139,
   "metadata": {},
   "outputs": [
    {
     "data": {
      "text/html": [
       "<div>\n",
       "<style scoped>\n",
       "    .dataframe tbody tr th:only-of-type {\n",
       "        vertical-align: middle;\n",
       "    }\n",
       "\n",
       "    .dataframe tbody tr th {\n",
       "        vertical-align: top;\n",
       "    }\n",
       "\n",
       "    .dataframe thead th {\n",
       "        text-align: right;\n",
       "    }\n",
       "</style>\n",
       "<table border=\"1\" class=\"dataframe\">\n",
       "  <thead>\n",
       "    <tr style=\"text-align: right;\">\n",
       "      <th></th>\n",
       "      <th>MSE</th>\n",
       "      <th>MAE</th>\n",
       "      <th>R2</th>\n",
       "    </tr>\n",
       "  </thead>\n",
       "  <tbody>\n",
       "    <tr>\n",
       "      <th>baseline_1</th>\n",
       "      <td>9.559410</td>\n",
       "      <td>2.534726</td>\n",
       "      <td>-0.000087</td>\n",
       "    </tr>\n",
       "    <tr>\n",
       "      <th>baseline_2</th>\n",
       "      <td>9.052361</td>\n",
       "      <td>2.462888</td>\n",
       "      <td>0.052960</td>\n",
       "    </tr>\n",
       "    <tr>\n",
       "      <th>baseline_3</th>\n",
       "      <td>8.521883</td>\n",
       "      <td>2.373365</td>\n",
       "      <td>0.108457</td>\n",
       "    </tr>\n",
       "    <tr>\n",
       "      <th>NLP_with_description_predicted_points</th>\n",
       "      <td>2.883265</td>\n",
       "      <td>1.334152</td>\n",
       "      <td>0.698358</td>\n",
       "    </tr>\n",
       "    <tr>\n",
       "      <th>NLP_with_all_features_predicted_points</th>\n",
       "      <td>2.882593</td>\n",
       "      <td>1.334042</td>\n",
       "      <td>0.698429</td>\n",
       "    </tr>\n",
       "    <tr>\n",
       "      <th>NLP_with_all_features_without_outliers</th>\n",
       "      <td>2.882455</td>\n",
       "      <td>1.334047</td>\n",
       "      <td>0.698443</td>\n",
       "    </tr>\n",
       "    <tr>\n",
       "      <th>dnn_prediction</th>\n",
       "      <td>2.940726</td>\n",
       "      <td>1.347394</td>\n",
       "      <td>0.692347</td>\n",
       "    </tr>\n",
       "    <tr>\n",
       "      <th>dnn_prediction_with_concatinated</th>\n",
       "      <td>2.883638</td>\n",
       "      <td>1.330997</td>\n",
       "      <td>0.698319</td>\n",
       "    </tr>\n",
       "    <tr>\n",
       "      <th>dnn3_lstm_prediction</th>\n",
       "      <td>3.433855</td>\n",
       "      <td>1.458351</td>\n",
       "      <td>0.640757</td>\n",
       "    </tr>\n",
       "  </tbody>\n",
       "</table>\n",
       "</div>"
      ],
      "text/plain": [
       "                                             MSE       MAE        R2\n",
       "baseline_1                              9.559410  2.534726 -0.000087\n",
       "baseline_2                              9.052361  2.462888  0.052960\n",
       "baseline_3                              8.521883  2.373365  0.108457\n",
       "NLP_with_description_predicted_points   2.883265  1.334152  0.698358\n",
       "NLP_with_all_features_predicted_points  2.882593  1.334042  0.698429\n",
       "NLP_with_all_features_without_outliers  2.882455  1.334047  0.698443\n",
       "dnn_prediction                          2.940726  1.347394  0.692347\n",
       "dnn_prediction_with_concatinated        2.883638  1.330997  0.698319\n",
       "dnn3_lstm_prediction                    3.433855  1.458351  0.640757"
      ]
     },
     "execution_count": 139,
     "metadata": {},
     "output_type": "execute_result"
    }
   ],
   "source": [
    "all_compared = pd.DataFrame([b1_stats, b2_stats, b3_stats, NLP_with_description_predicted_points, NLP_with_all_features_predicted_points,NLP_with_all_features_without_outliers,dnn_stats,dnn_prediction_with_concatinated,dnn3_lstm_prediction], index=['baseline_1', 'baseline_2','baseline_3', 'NLP_with_description_predicted_points', 'NLP_with_all_features_predicted_points','NLP_with_all_features_without_outliers','dnn_prediction','dnn_prediction_with_concatinated','dnn3_lstm_prediction'])\n",
    "all_compared"
   ]
  },
  {
   "cell_type": "markdown",
   "metadata": {
    "jp-MarkdownHeadingCollapsed": true,
    "tags": []
   },
   "source": [
    "<div style=\"border:1px solid yellow; padding:15px;border-radius:25px;\">\n",
    "<br>\n",
    "<h5>By using LSTM(units = 32) using a littel neornes for pull down complexity of the calculation, and with the Droupout(0.2) we do littel regularization on the model to prevet overfitting , and pull down the batch size to 32 to make more iterations on the data for get better results </h5>\n",
    "\n",
    "<h3>The result of dnn3_lstm_prediction </h3>\n",
    "<h5>MSE: 3.433855 </h5>\n",
    "<h5>MAE: 1.458351 </h5>\n",
    "<h5>R2: 0.640757</h5>\n",
    "<h5>Here we can see that the result a <b style=\"color:red\">little bit worse</b> than the simple DNN models , and still<b style=\"color:red\"> worse</b> than NLP models</h5>\n",
    "<br>\n",
    "    </div>"
   ]
  },
  {
   "cell_type": "markdown",
   "metadata": {},
   "source": [
    "# Using external embedding (description feature only)"
   ]
  },
  {
   "cell_type": "code",
   "execution_count": 140,
   "metadata": {},
   "outputs": [],
   "source": [
    "import os\n",
    "import pathlib\n",
    "import numpy as np\n",
    "import tensorflow as tf\n",
    "from tensorflow import keras\n",
    "\n",
    "path_to_glove_file = \"D:/Users/1/Desktop/DS-Thechnion/Python_ML-2022/Final project/data/glove.6B.100d.txt\""
   ]
  },
  {
   "cell_type": "code",
   "execution_count": 141,
   "metadata": {},
   "outputs": [
    {
     "name": "stdout",
     "output_type": "stream",
     "text": [
      "Found 400000 word vectors.\n"
     ]
    }
   ],
   "source": [
    "embeddings_index = {}\n",
    "with open(path_to_glove_file) as f:\n",
    "    for line in f:\n",
    "        word, coefs = line.split(maxsplit=1)\n",
    "        coefs = np.fromstring(coefs, \"f\", sep=\" \")\n",
    "        embeddings_index[word] = coefs\n",
    "\n",
    "print(\"Found %s word vectors.\" % len(embeddings_index))"
   ]
  },
  {
   "cell_type": "code",
   "execution_count": 240,
   "metadata": {},
   "outputs": [],
   "source": [
    "num_tokens = len(vectorize_layer.get_vocabulary()) + 2\n",
    "word_index = dict(zip(vectorize_layer.get_vocabulary(), range(len(vectorize_layer.get_vocabulary()))))\n",
    "\n",
    "embedding_dim = 100\n",
    "embedding_matrix = np.zeros((num_tokens, embedding_dim))\n",
    "for word, i in word_index.items():\n",
    "    embedding_vector = embeddings_index.get(word)\n",
    "    if embedding_vector is not None:\n",
    "        embedding_matrix[i] = embedding_vector"
   ]
  },
  {
   "cell_type": "code",
   "execution_count": 268,
   "metadata": {},
   "outputs": [],
   "source": [
    "external_embedding_model = tf.keras.Sequential([\n",
    "    tf.keras.Input(shape=(1,), dtype=tf.string),\n",
    "    vectorize_layer,\n",
    "    Embedding(num_tokens,embedding_dim, embeddings_initializer= tf.keras.initializers.Constant(embedding_matrix), name=\"embedding\" , trainable=False),\n",
    "    GlobalAveragePooling1D(),\n",
    "    Dense(164, activation='tanh', name='hidden_layer'),\n",
    "    Dropout(0.2),\n",
    "    Dense(1, name = 'output_layer')\n",
    "])"
   ]
  },
  {
   "cell_type": "code",
   "execution_count": 260,
   "metadata": {},
   "outputs": [
    {
     "name": "stdout",
     "output_type": "stream",
     "text": [
      "Model: \"sequential_26\"\n",
      "_________________________________________________________________\n",
      " Layer (type)                Output Shape              Param #   \n",
      "=================================================================\n",
      " Text_processing (TextVector  (None, 60)               0         \n",
      " ization)                                                        \n",
      "                                                                 \n",
      " embedding (Embedding)       (None, 60, 100)           3200200   \n",
      "                                                                 \n",
      " global_average_pooling1d_13  (None, 100)              0         \n",
      "  (GlobalAveragePooling1D)                                       \n",
      "                                                                 \n",
      " hidden_layer (Dense)        (None, 264)               26664     \n",
      "                                                                 \n",
      " dropout_26 (Dropout)        (None, 264)               0         \n",
      "                                                                 \n",
      " output_layer (Dense)        (None, 1)                 265       \n",
      "                                                                 \n",
      "=================================================================\n",
      "Total params: 3,227,129\n",
      "Trainable params: 26,929\n",
      "Non-trainable params: 3,200,200\n",
      "_________________________________________________________________\n"
     ]
    }
   ],
   "source": [
    "external_embedding_model.summary()"
   ]
  },
  {
   "cell_type": "code",
   "execution_count": 261,
   "metadata": {},
   "outputs": [],
   "source": [
    "external_embedding_model.compile(optimizer=tf.optimizers.Adam(), loss='mean_absolute_error', metrics=['mean_squared_error','mean_absolute_error'])"
   ]
  },
  {
   "cell_type": "code",
   "execution_count": 262,
   "metadata": {},
   "outputs": [
    {
     "name": "stdout",
     "output_type": "stream",
     "text": [
      "Epoch 1/20\n",
      "750/750 [==============================] - 5s 7ms/step - loss: 15.0268 - mean_squared_error: 762.0690 - mean_absolute_error: 15.0268 - val_loss: 2.3714 - val_mean_squared_error: 8.9729 - val_mean_absolute_error: 2.3714\n",
      "Epoch 2/20\n",
      "750/750 [==============================] - 5s 6ms/step - loss: 3.1938 - mean_squared_error: 16.3415 - mean_absolute_error: 3.1938 - val_loss: 2.3297 - val_mean_squared_error: 8.3743 - val_mean_absolute_error: 2.3297\n",
      "Epoch 3/20\n",
      "750/750 [==============================] - 5s 6ms/step - loss: 3.1663 - mean_squared_error: 15.9013 - mean_absolute_error: 3.1663 - val_loss: 2.3076 - val_mean_squared_error: 8.1308 - val_mean_absolute_error: 2.3076\n",
      "Epoch 4/20\n",
      "750/750 [==============================] - 5s 6ms/step - loss: 3.0855 - mean_squared_error: 15.0775 - mean_absolute_error: 3.0855 - val_loss: 2.0495 - val_mean_squared_error: 6.5449 - val_mean_absolute_error: 2.0495\n",
      "Epoch 5/20\n",
      "750/750 [==============================] - 5s 6ms/step - loss: 2.9375 - mean_squared_error: 13.6664 - mean_absolute_error: 2.9375 - val_loss: 1.8940 - val_mean_squared_error: 5.6227 - val_mean_absolute_error: 1.8940\n",
      "Epoch 6/20\n",
      "750/750 [==============================] - 5s 6ms/step - loss: 2.8610 - mean_squared_error: 12.9641 - mean_absolute_error: 2.8610 - val_loss: 1.8376 - val_mean_squared_error: 5.3443 - val_mean_absolute_error: 1.8376\n",
      "Epoch 7/20\n",
      "750/750 [==============================] - 5s 6ms/step - loss: 2.8312 - mean_squared_error: 12.6239 - mean_absolute_error: 2.8312 - val_loss: 1.8089 - val_mean_squared_error: 5.1634 - val_mean_absolute_error: 1.8089\n",
      "Epoch 8/20\n",
      "750/750 [==============================] - 5s 6ms/step - loss: 2.8304 - mean_squared_error: 12.6257 - mean_absolute_error: 2.8304 - val_loss: 1.8178 - val_mean_squared_error: 5.1869 - val_mean_absolute_error: 1.8178\n",
      "Epoch 9/20\n",
      "750/750 [==============================] - 5s 6ms/step - loss: 2.7892 - mean_squared_error: 12.2923 - mean_absolute_error: 2.7892 - val_loss: 1.8009 - val_mean_squared_error: 5.1594 - val_mean_absolute_error: 1.8009\n",
      "Epoch 10/20\n",
      "750/750 [==============================] - 5s 6ms/step - loss: 2.8081 - mean_squared_error: 12.4110 - mean_absolute_error: 2.8081 - val_loss: 1.7908 - val_mean_squared_error: 5.0543 - val_mean_absolute_error: 1.7908\n",
      "Epoch 11/20\n",
      "750/750 [==============================] - 5s 6ms/step - loss: 2.8011 - mean_squared_error: 12.3552 - mean_absolute_error: 2.8011 - val_loss: 1.7686 - val_mean_squared_error: 4.9574 - val_mean_absolute_error: 1.7686\n",
      "Epoch 12/20\n",
      "750/750 [==============================] - 5s 6ms/step - loss: 2.7983 - mean_squared_error: 12.3210 - mean_absolute_error: 2.7983 - val_loss: 1.7724 - val_mean_squared_error: 4.9955 - val_mean_absolute_error: 1.7724\n",
      "Epoch 13/20\n",
      "750/750 [==============================] - 5s 6ms/step - loss: 2.7741 - mean_squared_error: 12.0836 - mean_absolute_error: 2.7741 - val_loss: 1.7840 - val_mean_squared_error: 5.0667 - val_mean_absolute_error: 1.7840\n",
      "CPU times: total: 1min 52s\n",
      "Wall time: 1min\n"
     ]
    }
   ],
   "source": [
    "%%time\n",
    "text_col, target_col = 'description', 'points'\n",
    "\n",
    "early_stopping_monitor = EarlyStopping(\n",
    "    monitor='val_mean_squared_error',\n",
    "    min_delta=0,\n",
    "    patience=2,\n",
    "    verbose=0,\n",
    "    restore_best_weights=True\n",
    ")\n",
    "\n",
    "history = external_embedding_model.fit(\n",
    "    train_data[text_col],\n",
    "    train_data[target_col],\n",
    "    epochs=20,\n",
    "    batch_size=128,\n",
    "    verbose=1,    \n",
    "    callbacks=[early_stopping_monitor],\n",
    "    validation_data = (test_data[text_col], test_data[target_col]))"
   ]
  },
  {
   "cell_type": "code",
   "execution_count": 263,
   "metadata": {},
   "outputs": [
    {
     "name": "stdout",
     "output_type": "stream",
     "text": [
      "750/750 [==============================] - 1s 1ms/step\n"
     ]
    }
   ],
   "source": [
    "test_data['External_Embedding'] = external_embedding_model.predict(test_data[text_col])"
   ]
  },
  {
   "cell_type": "code",
   "execution_count": 269,
   "metadata": {
    "tags": []
   },
   "outputs": [
    {
     "data": {
      "text/plain": [
       "MSE    4.957400\n",
       "MAE    1.768601\n",
       "R2     0.481366\n",
       "dtype: float64"
      ]
     },
     "execution_count": 269,
     "metadata": {},
     "output_type": "execute_result"
    }
   ],
   "source": [
    "External_Embedding = calc_prediction_quality(test_data, 'External_Embedding', target_col)\n",
    "External_Embedding"
   ]
  },
  {
   "cell_type": "code",
   "execution_count": 270,
   "metadata": {},
   "outputs": [
    {
     "data": {
      "text/html": [
       "<div>\n",
       "<style scoped>\n",
       "    .dataframe tbody tr th:only-of-type {\n",
       "        vertical-align: middle;\n",
       "    }\n",
       "\n",
       "    .dataframe tbody tr th {\n",
       "        vertical-align: top;\n",
       "    }\n",
       "\n",
       "    .dataframe thead th {\n",
       "        text-align: right;\n",
       "    }\n",
       "</style>\n",
       "<table border=\"1\" class=\"dataframe\">\n",
       "  <thead>\n",
       "    <tr style=\"text-align: right;\">\n",
       "      <th></th>\n",
       "      <th>MSE</th>\n",
       "      <th>MAE</th>\n",
       "      <th>R2</th>\n",
       "    </tr>\n",
       "  </thead>\n",
       "  <tbody>\n",
       "    <tr>\n",
       "      <th>baseline_1</th>\n",
       "      <td>9.559410</td>\n",
       "      <td>2.534726</td>\n",
       "      <td>-0.000087</td>\n",
       "    </tr>\n",
       "    <tr>\n",
       "      <th>baseline_2</th>\n",
       "      <td>9.052361</td>\n",
       "      <td>2.462888</td>\n",
       "      <td>0.052960</td>\n",
       "    </tr>\n",
       "    <tr>\n",
       "      <th>baseline_3</th>\n",
       "      <td>8.521883</td>\n",
       "      <td>2.373365</td>\n",
       "      <td>0.108457</td>\n",
       "    </tr>\n",
       "    <tr>\n",
       "      <th>NLP_with_description_predicted_points</th>\n",
       "      <td>2.883265</td>\n",
       "      <td>1.334152</td>\n",
       "      <td>0.698358</td>\n",
       "    </tr>\n",
       "    <tr>\n",
       "      <th>NLP_with_all_features_predicted_points</th>\n",
       "      <td>2.882593</td>\n",
       "      <td>1.334042</td>\n",
       "      <td>0.698429</td>\n",
       "    </tr>\n",
       "    <tr>\n",
       "      <th>NLP_with_all_features_without_outliers</th>\n",
       "      <td>2.882455</td>\n",
       "      <td>1.334047</td>\n",
       "      <td>0.698443</td>\n",
       "    </tr>\n",
       "    <tr>\n",
       "      <th>dnn_prediction</th>\n",
       "      <td>2.940726</td>\n",
       "      <td>1.347394</td>\n",
       "      <td>0.692347</td>\n",
       "    </tr>\n",
       "    <tr>\n",
       "      <th>dnn_prediction_with_concatinated</th>\n",
       "      <td>2.883638</td>\n",
       "      <td>1.330997</td>\n",
       "      <td>0.698319</td>\n",
       "    </tr>\n",
       "    <tr>\n",
       "      <th>dnn3_lstm_prediction</th>\n",
       "      <td>3.433855</td>\n",
       "      <td>1.458351</td>\n",
       "      <td>0.640757</td>\n",
       "    </tr>\n",
       "    <tr>\n",
       "      <th>External_Embedding</th>\n",
       "      <td>4.957400</td>\n",
       "      <td>1.768601</td>\n",
       "      <td>0.481366</td>\n",
       "    </tr>\n",
       "  </tbody>\n",
       "</table>\n",
       "</div>"
      ],
      "text/plain": [
       "                                             MSE       MAE        R2\n",
       "baseline_1                              9.559410  2.534726 -0.000087\n",
       "baseline_2                              9.052361  2.462888  0.052960\n",
       "baseline_3                              8.521883  2.373365  0.108457\n",
       "NLP_with_description_predicted_points   2.883265  1.334152  0.698358\n",
       "NLP_with_all_features_predicted_points  2.882593  1.334042  0.698429\n",
       "NLP_with_all_features_without_outliers  2.882455  1.334047  0.698443\n",
       "dnn_prediction                          2.940726  1.347394  0.692347\n",
       "dnn_prediction_with_concatinated        2.883638  1.330997  0.698319\n",
       "dnn3_lstm_prediction                    3.433855  1.458351  0.640757\n",
       "External_Embedding                      4.957400  1.768601  0.481366"
      ]
     },
     "execution_count": 270,
     "metadata": {},
     "output_type": "execute_result"
    }
   ],
   "source": [
    "all_compared = pd.DataFrame([b1_stats, b2_stats, b3_stats, NLP_with_description_predicted_points, NLP_with_all_features_predicted_points,NLP_with_all_features_without_outliers,dnn_stats,dnn_prediction_with_concatinated,dnn3_lstm_prediction,External_Embedding], index=['baseline_1', 'baseline_2','baseline_3', 'NLP_with_description_predicted_points', 'NLP_with_all_features_predicted_points','NLP_with_all_features_without_outliers','dnn_prediction','dnn_prediction_with_concatinated','dnn3_lstm_prediction','External_Embedding'])\n",
    "all_compared"
   ]
  },
  {
   "cell_type": "markdown",
   "metadata": {},
   "source": [
    "<div style=\"border:1px solid yellow; padding:15px;border-radius:25px;\">\n",
    "<h3>The result of dnn3_lstm_prediction </h3>\n",
    "<h5>MSE: 4.957400 </h5>\n",
    "<h5>MAE: 1.768601 </h5>\n",
    "<h5>R2: 0.4813667</h5>\n",
    "<h5>Here we can see that the result a <b style=\"color:red\">little bit worse</b> than the simple DNN models and LSTM , and still<b style=\"color:red\"> worse</b> than NLP models</h5>\n",
    "<br>\n",
    "</div>"
   ]
  },
  {
   "cell_type": "code",
   "execution_count": null,
   "metadata": {},
   "outputs": [],
   "source": []
  }
 ],
 "metadata": {
  "kernelspec": {
   "display_name": "Python 3 (ipykernel)",
   "language": "python",
   "name": "python3"
  },
  "language_info": {
   "codemirror_mode": {
    "name": "ipython",
    "version": 3
   },
   "file_extension": ".py",
   "mimetype": "text/x-python",
   "name": "python",
   "nbconvert_exporter": "python",
   "pygments_lexer": "ipython3",
   "version": "3.9.4"
  }
 },
 "nbformat": 4,
 "nbformat_minor": 4
}
